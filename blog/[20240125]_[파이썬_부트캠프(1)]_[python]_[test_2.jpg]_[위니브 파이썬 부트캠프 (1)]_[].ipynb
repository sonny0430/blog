{
  "nbformat": 4,
  "nbformat_minor": 0,
  "metadata": {
    "colab": {
      "provenance": []
    },
    "kernelspec": {
      "name": "python3",
      "display_name": "Python 3"
    },
    "language_info": {
      "name": "python"
    }
  },
  "cells": [
    {
      "cell_type": "markdown",
      "source": [
        "# 파이썬 소개\n",
        "\n",
        "## hello world\n",
        "### hello world  \n",
        "\n",
        "* https://paullabworkspace.notion.site/034665cfc4004c88a72fa0d4e0fee4e3\n",
        "* https://github.com/python/cpython\n",
        "* colab 사용이유\n",
        "  * Python 설정을 복잡하게 하지 않아도 된다.\n",
        "  * 사용이 간편하다. Ctrl+Enter, Alt+Enter 만 기억.\n",
        "  (여러가지 문법을 설명해주시는데 모두 기억할 수는 없다.)\n",
        "  * 마크다운(`# content`)과 마크업(`<h1> content </h1>`)을 모두 사용할 수 있다. 문서로 남기기 쉽다.\n",
        "  * Python의 단점\n",
        "    * 속도가 C나 JAVA에 비해 가장 심한 경우 16배가 느리고, 통상 2 ~ 3배 느립니다.\n",
        "    * Python이 엄격하지 않다.(코드가 너무 쉽고 엄격하지 않다. Python에 타입 힌트라는 문법이 나왔지만 강제가 아닙니다.)"
      ],
      "metadata": {
        "id": "_vEr7oL3iQqu"
      }
    },
    {
      "cell_type": "markdown",
      "source": [
        "## 간단한 실습"
      ],
      "metadata": {
        "id": "Kee_z0Pk16Vg"
      }
    },
    {
      "cell_type": "code",
      "execution_count": null,
      "metadata": {
        "colab": {
          "base_uri": "https://localhost:8080/"
        },
        "id": "wUZoZ23wzAFz",
        "outputId": "cf610834-a19a-40cf-8e55-0ba85b23f616"
      },
      "outputs": [
        {
          "output_type": "execute_result",
          "data": {
            "text/plain": [
              "30"
            ]
          },
          "metadata": {},
          "execution_count": 1
        }
      ],
      "source": [
        "a = 10\n",
        "b = 20\n",
        "a + b # alt + Enter, print를 하지 않아도 출력이 된다! 실제로는 다른 값?!"
      ]
    },
    {
      "cell_type": "code",
      "source": [
        "# 주석은 코드를 설명할 때 사용합니다.\n",
        "'''\n",
        "작은 따옴표 3개를 사용했습니다.\n",
        "여러줄의 주석을 작성할 때에 사용합니다.\n",
        "'''\n",
        "\n",
        "\"\"\"\n",
        "작은 따옴표 3개를 사용했습니다.\n",
        "여러줄의 주석을 작성할 때에 사용합니다.\n",
        "\"\"\""
      ],
      "metadata": {
        "colab": {
          "base_uri": "https://localhost:8080/",
          "height": 35
        },
        "id": "N8mzbGrU2Hlf",
        "outputId": "b66de9dd-d7fa-48eb-f6b1-ab922746b61a"
      },
      "execution_count": null,
      "outputs": [
        {
          "output_type": "execute_result",
          "data": {
            "text/plain": [
              "'\\n작은 따옴표 3개를 사용했습니다.\\n여러줄의 주석을 작성할 때에 사용합니다.\\n'"
            ],
            "application/vnd.google.colaboratory.intrinsic+json": {
              "type": "string"
            }
          },
          "metadata": {},
          "execution_count": 2
        }
      ]
    },
    {
      "cell_type": "code",
      "source": [
        "# 주석 사용하는 방법은 대부분 google convension을 따라갑니다.\n",
        "# 여러분들 마음대로 주석을 사용하는 것이 아니다.\n",
        "# 실무에서는 코드를 설명하는 주석보다는 기능을 설명하는 주석을 사용합니다.\n",
        "# 주석은 함수 이후에 작성하는 법을 별도로 강의 해주신다고 하십니다."
      ],
      "metadata": {
        "id": "bdNAhmAo2rBk"
      },
      "execution_count": null,
      "outputs": []
    },
    {
      "cell_type": "code",
      "source": [
        "a = '''\n",
        "안녕하세요.\n",
        "저는 ???입니다.\n",
        "'''\n",
        "print(a)"
      ],
      "metadata": {
        "colab": {
          "base_uri": "https://localhost:8080/"
        },
        "id": "JIGSjrjG5793",
        "outputId": "25b03f4e-74d7-456b-ab02-5467a001f70e"
      },
      "execution_count": null,
      "outputs": [
        {
          "output_type": "stream",
          "name": "stdout",
          "text": [
            "\n",
            "안녕하세요.\n",
            "저는 ???입니다.\n",
            "\n"
          ]
        }
      ]
    },
    {
      "cell_type": "markdown",
      "source": [
        "## 변수"
      ],
      "metadata": {
        "id": "ZXBr99K864sP"
      }
    },
    {
      "cell_type": "code",
      "source": [
        "# 변수는 가리키는 값이다. (저장하는 => X) (저장하는 => C, Java)\n",
        "a = 10"
      ],
      "metadata": {
        "id": "YML1cH2Y6t07"
      },
      "execution_count": null,
      "outputs": []
    },
    {
      "cell_type": "code",
      "source": [
        "a = 10\n",
        "b = a\n",
        "c = b\n",
        "print(c)\n",
        "# a->10, b->10, c->10\n",
        "\n",
        "a = 20\n",
        "print(c)\n",
        "# a->20, b->10, c->10\n",
        "\n",
        "# c->b->a->10 : X 틀림"
      ],
      "metadata": {
        "colab": {
          "base_uri": "https://localhost:8080/"
        },
        "id": "hFjznWp_7zUc",
        "outputId": "9059b3d4-bc26-4392-da27-b715bc14790b"
      },
      "execution_count": null,
      "outputs": [
        {
          "output_type": "stream",
          "name": "stdout",
          "text": [
            "10\n",
            "10\n"
          ]
        }
      ]
    },
    {
      "cell_type": "markdown",
      "source": [
        "https://drive.google.com/file/d/1XFTkHuS7XXpZLB1e_zgtoQvEkLqX4GF6/view?usp=drive_link"
      ],
      "metadata": {
        "id": "qSV2rLjCX9Nf"
      }
    },
    {
      "cell_type": "markdown",
      "source": [
        "https://drive.google.com/file/d/1eYtudQhO-ALqRqXztXvGslGoe3Obczbr/view?usp=drive_link"
      ],
      "metadata": {
        "id": "uRluRBw3X386"
      }
    },
    {
      "cell_type": "code",
      "source": [
        "# 변수 이름, 이렇게 작명하면 힘듭니다. (특수문자...)\n",
        "π = 100\n",
        "π + π\n",
        "# 변수 이름은 숫자로 시작할 수 없습니다.\n",
        "# 파이썬의 키워드(예: if, else, while 등)는 변수 이름으로 사용할 수 없습니다.\n",
        "# 변수 이름은 대소문자를 구분합니다.\n",
        "\n",
        "#############################\n",
        "\n",
        "# 변수는 보통 소문자로 시작하고 스네이크 표기법을 주로 사용합니다. (강제 X, 권고입니다!)\n",
        "# helloWorldPython => 카멜표기법\n",
        "# hello_world_python => 스네이크 표기법(V), 파이썬에서 주로 변수명\n",
        "# HelloWorldPython => 파스칼 표기법(V), 파이썬에서 주로 클래스 변수명\n",
        "\n",
        "# 사용하지 않는 변수는 언더스코어(_)로 명명합니다. => 관례\n",
        "# 왜냐? 언더바를 신경쓰지 않아도 되기 때문에!\n",
        "\n",
        "for _ in range(10):\n",
        "  print('hello world')\n",
        "\n",
        "for _i in range(10):\n",
        "  print('hello world')\n",
        "\n",
        "# _name, __name => 감춰야 하는 private 변수라고 암묵적 동의를 한다. => 회사마다 다름\n",
        "# 이 변수를 보면 건드리지 마라! 라는 얘기입니다.\n",
        "\n",
        "# 클린코드\n",
        "# 작명법이 나옵니다.\n",
        "# 압축하지 마라 등에 규칙이 나오지만 100% 실무에 적용하긴 힘듭니다.\n",
        "\n",
        "# clickbtn => click_button  # fullname으로 써라!\n",
        "# 이런 규칙은 실무에서 다 지키기가 어렵습니다.\n",
        "\n",
        "# 제가 가장 중요하게 생각하는 포인트\n",
        "# 학습용\n",
        "# i, j, a, b, c 이런 변수 사용 가능\n",
        "for i, j, in [['hello', 'world'], ['hi', 'python']]:\n",
        "    print(i, j)\n",
        "\n",
        "# 알고리즘\n",
        "# 한글 변수들 권합니다. 읽기 편합니다.\n",
        "for 인사, 과목 in [['hello', 'world'], ['hi', 'python']]:\n",
        "    print(i, j)\n",
        "\n",
        "# 실무\n",
        "# 주석 없이 변수명으로 그 코드를 '독해'가 가능하게 하는 변수명을 권합니다.\n",
        "for 변수의목적, 과목의목적 in [['hello', 'world'], ['hi', 'python']]:\n",
        "    print(변수의목적, 과목의목적) # 영어로 썻겠죠? ㅎ\n",
        "\n",
        "# 클래스 첫문자는 주로 대문자\n"
      ],
      "metadata": {
        "id": "4iywiI5Q8Ed8"
      },
      "execution_count": null,
      "outputs": []
    },
    {
      "cell_type": "code",
      "source": [
        "a = 10 # 파이썬은 10을 먼저 인지하고, 어? 정수네? 정수 타입!\n",
        "b = 10.1\n",
        "c = '10'\n",
        "\n",
        "print(type(a))\n",
        "print(type(b))\n",
        "print(type(c))\n"
      ],
      "metadata": {
        "colab": {
          "base_uri": "https://localhost:8080/"
        },
        "id": "USdF1gwf_9BN",
        "outputId": "d65ff573-59aa-40fd-d575-ff156655c0fa"
      },
      "execution_count": null,
      "outputs": [
        {
          "output_type": "stream",
          "name": "stdout",
          "text": [
            "<class 'int'>\n",
            "<class 'float'>\n",
            "<class 'str'>\n"
          ]
        }
      ]
    },
    {
      "cell_type": "code",
      "source": [
        "# 이런 타입이 왜 필요할까요?\n",
        "'i' + 'j' # 105와 106으로 저장\n",
        "10 + 20\n",
        "\n",
        "# 컴퓨터 입장에서 보자.\n",
        "# 왜 105와 106을 더하지 않았을까? 211이 될텐데?\n",
        "\n",
        "# 인간의 의도가 더하는 것이 아니라 이어붙이는 것이기 때문\n",
        "# 더하지 말고 이어붙여라!라는 코드가 작성이 되어 있는 것이다.\n",
        "\n",
        "# 아래 코드가 중요한 것은 아니고 아래와 같은 방식으로 되어 있다는 것이 중요한 것입니다.\n",
        "# 변경 가능해서 나중에 이걸 변경해서 +를 했는데 *가 되게 하는 것 등을 해볼 것입니다.\n",
        "# class str:\n",
        "#   def __add__(self, next):\n",
        "#     return print(self, next, sep='')\n",
        "\n",
        "# 인간의 의도에 맞게 코딩하기 위해서!"
      ],
      "metadata": {
        "colab": {
          "base_uri": "https://localhost:8080/"
        },
        "id": "dE4BMOmdAK3C",
        "outputId": "d816319f-77f0-4ce1-b513-25420525d6d3"
      },
      "execution_count": null,
      "outputs": [
        {
          "output_type": "execute_result",
          "data": {
            "text/plain": [
              "30"
            ]
          },
          "metadata": {},
          "execution_count": 7
        }
      ]
    },
    {
      "cell_type": "code",
      "source": [
        "a = 'hello world'\n",
        "type(a) # str\n",
        "dir(a) # __name__, name 2종류, 가진 것 또는 할 수 있는 것을 다 보여줘!라는 의미입니다.\n",
        "\n",
        "# __로 감사여진 것을 '매직매서드'라고 하는데, 이것은 해당 자료형의 속성을 표현합니다.\n",
        "# '__add__', => a + 'hi', __add__가 없으면 +연산이 전혀 되지 않습니다.\n",
        "# '__eq__', => a == 'hello world', __ep__가 없으면 =할당이 전혀 되지 않습니다.\n",
        "# '__mul__', => a * 3 , __mul__가 없으면 *연산이 전혀 되지 않습니다.\n",
        "\n",
        "# 매서드라고 부르고 사용자가 사용하라고 만든 기능을 뜻함\n",
        "# 'replace',\n",
        "# 'upper'\n"
      ],
      "metadata": {
        "id": "3AWZ58DnCWJs"
      },
      "execution_count": null,
      "outputs": []
    },
    {
      "cell_type": "code",
      "source": [
        "'hello' * 3"
      ],
      "metadata": {
        "colab": {
          "base_uri": "https://localhost:8080/",
          "height": 35
        },
        "id": "JiaBHZ33C298",
        "outputId": "44445944-63e3-41b3-fe54-4d87258740b9"
      },
      "execution_count": null,
      "outputs": [
        {
          "output_type": "execute_result",
          "data": {
            "text/plain": [
              "'hellohellohello'"
            ],
            "application/vnd.google.colaboratory.intrinsic+json": {
              "type": "string"
            }
          },
          "metadata": {},
          "execution_count": 11
        }
      ]
    },
    {
      "cell_type": "code",
      "source": [
        "a = 'hello world'\n",
        "a.replace('hello', 'hi')\n",
        "a.upper()"
      ],
      "metadata": {
        "colab": {
          "base_uri": "https://localhost:8080/",
          "height": 35
        },
        "id": "bIfXGo_FD2cJ",
        "outputId": "c2dd02eb-6680-4a21-b6b0-24bc366070e8"
      },
      "execution_count": null,
      "outputs": [
        {
          "output_type": "execute_result",
          "data": {
            "text/plain": [
              "'HELLO WORLD'"
            ],
            "application/vnd.google.colaboratory.intrinsic+json": {
              "type": "string"
            }
          },
          "metadata": {},
          "execution_count": 267
        }
      ]
    },
    {
      "cell_type": "markdown",
      "source": [
        "![Untitled.jpg](data:image/jpeg;base64,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)"
      ],
      "metadata": {
        "id": "r23iWXBREm0C"
      }
    },
    {
      "cell_type": "markdown",
      "source": [
        "https://drive.google.com/file/d/10tG8bUkgcZ0OcMdyJcSVQOsAWS8F7ltB/view?usp=drive_link"
      ],
      "metadata": {
        "id": "YnXRNuNlWTeM"
      }
    },
    {
      "cell_type": "code",
      "source": [
        "a = 10      # int, 정수형 (V)\n",
        "b = -1      # int, 정수형 (V)\n",
        "c = 0b110   # int, 정수형(2진법) (V)\n",
        "d = 0o56    # int, 정수형(8진법)\n",
        "e = 0xAC    # int, 정수형(16진법) (V)\n",
        "\n",
        "f = 10.1    # float, 실수형 (V)\n",
        "\n",
        "g = 10 + 2j # complex, 복소수\n",
        "\n",
        "h = 'good'  # str, 문자열 (V)\n",
        "i = '10'    # str, 문자열\n",
        "\n",
        "j = True    # bool, 논리 자료형(부울형) (V)\n",
        "\n",
        "k = None    # NoneType (V)\n",
        "\n",
        "l = [1, 2, 3, 4]       # list, 리스트 자료형 (V)\n",
        "m = ['one', 'two']     # list, 리스트 자료형\n",
        "n = (1, 2, 3, 4)       # tuple, 튜플 자료형 (V)\n",
        "o = ('one', 'two')     # tuple, 튜플 자료형\n",
        "p = {'one':1, 'two':2} # dict, 딕셔너리 자료형 (V)\n",
        "q = {1, 2, 3, 4}       # set, 셋 자료형 (V)\n",
        "\n",
        "def r():    # function, 함수 (V)\n",
        "    return\n",
        "\n",
        "s = print # bulit-in function\n",
        "t = lambda x:x**2 # function (V)\n",
        "u = int # type\n",
        "\n",
        "class Character: # class, 클래스 (V)\n",
        "    pass\n",
        "\n",
        "hero = Character()    # instance\n",
        "Villain = Character() # instance"
      ],
      "metadata": {
        "id": "DaeWUMPDGbAK"
      },
      "execution_count": null,
      "outputs": []
    },
    {
      "cell_type": "code",
      "source": [
        "bin(6) # 2진법으로 변환\n",
        "int('0b110', 2)"
      ],
      "metadata": {
        "colab": {
          "base_uri": "https://localhost:8080/"
        },
        "id": "LtQyzpfqY36B",
        "outputId": "f01a900f-4d8f-471e-d171-d555b4c2239b"
      },
      "execution_count": null,
      "outputs": [
        {
          "output_type": "execute_result",
          "data": {
            "text/plain": [
              "6"
            ]
          },
          "metadata": {},
          "execution_count": 14
        }
      ]
    },
    {
      "cell_type": "code",
      "source": [
        "# 화살표 그린 것은 어떤 기준으로 화살표를 그리신 것인가요?\n",
        "# 직감으로, 또는 코드로 그 화살표를 그리시나요?\n",
        "a = 10\n",
        "b = a\n",
        "print(id(a), id(b))"
      ],
      "metadata": {
        "id": "vx3nqd74aa2B"
      },
      "execution_count": null,
      "outputs": []
    },
    {
      "cell_type": "markdown",
      "source": [
        "## 입력과 출력"
      ],
      "metadata": {
        "id": "izVUCFFzbEwZ"
      }
    },
    {
      "cell_type": "code",
      "source": [
        "age = input('나이를 입력하세요!')\n",
        "print('제 나이는', age, '입니다.')\n",
        "print('제 나이는', age + age, '입니다.')\n",
        "\n",
        "# 입력을 기다리는 창을 프롬프트라고 합니다.\n",
        "# 프롬프트 엔지니어링 => chatgpt 등"
      ],
      "metadata": {
        "colab": {
          "base_uri": "https://localhost:8080/"
        },
        "id": "wBhGPgKxbG8M",
        "outputId": "156a98f4-0393-413a-dd15-86587b9aff88"
      },
      "execution_count": null,
      "outputs": [
        {
          "output_type": "stream",
          "name": "stdout",
          "text": [
            "나이를 입력하세요!10\n",
            "제 나이는 10 입니다.\n",
            "제 나이는 1010 입니다.\n"
          ]
        }
      ]
    },
    {
      "cell_type": "code",
      "source": [
        "# input을 input 함수로 받지 않고 사용자에 입력을 받을 수 있는 것들\n",
        "# 직접 입력\n",
        "# 파일 입력(한글, 메모장, PDF, xlsx 등)\n",
        "# 웹 입력(크롤링)\n",
        "# 자동 입력(mock 데이터 생성)"
      ],
      "metadata": {
        "id": "1IC6kvfabYFx"
      },
      "execution_count": null,
      "outputs": []
    },
    {
      "cell_type": "code",
      "source": [
        "# 대표적인 출력은 2가지가 있습니다.\n",
        "# 1. print 없이 마지막 라인 출력\n",
        "# 2. 모든 라인 출력"
      ],
      "metadata": {
        "id": "YRxlnSwLcwXK"
      },
      "execution_count": null,
      "outputs": []
    },
    {
      "cell_type": "code",
      "source": [
        "a = 10\n",
        "a\n",
        "a\n",
        "a + a\n",
        "a"
      ],
      "metadata": {
        "colab": {
          "base_uri": "https://localhost:8080/"
        },
        "id": "fX-xRx4_ct-Y",
        "outputId": "807582df-cb14-46b0-e883-5871eae5ed6a"
      },
      "execution_count": null,
      "outputs": [
        {
          "output_type": "execute_result",
          "data": {
            "text/plain": [
              "10"
            ]
          },
          "metadata": {},
          "execution_count": 17
        }
      ]
    },
    {
      "cell_type": "code",
      "source": [
        "a = None\n",
        "a # print를 안하면 None은 출력하지 않습니다."
      ],
      "metadata": {
        "id": "W5bPrK9Jc_VT"
      },
      "execution_count": null,
      "outputs": []
    },
    {
      "cell_type": "code",
      "source": [
        "print(10)\n",
        "print('hello') # 여러 형태를 넣을 수 있지만 특히나 문자열을 많이 출력합니다."
      ],
      "metadata": {
        "colab": {
          "base_uri": "https://localhost:8080/"
        },
        "id": "FLMO2AMCdWVF",
        "outputId": "cf452543-80dc-487c-884d-5149b4e0cd08"
      },
      "execution_count": null,
      "outputs": [
        {
          "output_type": "stream",
          "name": "stdout",
          "text": [
            "10\n",
            "hello\n"
          ]
        }
      ]
    },
    {
      "cell_type": "code",
      "source": [
        "# 출력을 위해 문자열을 만드는 다양한 방법\n",
        "a = 10\n",
        "\n",
        "print('hello world', a, 'hello world') # 너무 불편!\n",
        "'hello world %d hello world' % a # 이 방식은 잊어버리세요. 너~~~무 오래된 기법입니다. %d가 숫자, %s가 문자열\n",
        "'hello world {} hello world {}!!! {}!!'.format(a, a + a, a + a + a) # 이 방식도 오래된 편\n",
        "f'hello world {a} hello world {a + a}!!!' # 권고! 가장 최근에 나온 문법 3.6 version\n"
      ],
      "metadata": {
        "colab": {
          "base_uri": "https://localhost:8080/",
          "height": 53
        },
        "id": "DqW9YMQddluy",
        "outputId": "6ad4f8f4-5311-4f4b-f54f-5419287d25c6"
      },
      "execution_count": null,
      "outputs": [
        {
          "output_type": "stream",
          "name": "stdout",
          "text": [
            "hello world 10 hello world\n"
          ]
        },
        {
          "output_type": "execute_result",
          "data": {
            "text/plain": [
              "'hello world 10 hello world 20!!!'"
            ],
            "application/vnd.google.colaboratory.intrinsic+json": {
              "type": "string"
            }
          },
          "metadata": {},
          "execution_count": 21
        }
      ]
    },
    {
      "cell_type": "markdown",
      "source": [
        "# 연산"
      ],
      "metadata": {
        "id": "IR5UF-8GfQzE"
      }
    },
    {
      "cell_type": "markdown",
      "source": [
        "## 산술연산"
      ],
      "metadata": {
        "id": "EeUXnRzOfSVO"
      }
    },
    {
      "cell_type": "code",
      "source": [
        "x = 10\n",
        "y = 3\n",
        "print(x + y)\n",
        "print(x - y)\n",
        "print(x // y) # 몫 => 음수로 갔을 때 주의!\n",
        "print(-10 // 3) # 몫 => 음수로 갔을 때 주의! (내림이라고 생각하시는 편이 좋습니다.)\n",
        "print(x / y)\n",
        "print(x % y) # 나머지 10 나누기 3은 몫이 3이고 나머지가 1\n",
        "print(x ** y) # 10에 3승"
      ],
      "metadata": {
        "colab": {
          "base_uri": "https://localhost:8080/"
        },
        "id": "U7WCgO2AgCbT",
        "outputId": "93b9f6c3-45be-4d6c-bdce-7bcb90793c47"
      },
      "execution_count": null,
      "outputs": [
        {
          "output_type": "stream",
          "name": "stdout",
          "text": [
            "13\n",
            "7\n",
            "3\n",
            "-4\n",
            "3.3333333333333335\n",
            "1\n",
            "1000\n"
          ]
        }
      ]
    },
    {
      "cell_type": "code",
      "source": [
        "# 부동소수점 문제\n",
        "# 5 + 5 => 컴퓨터는 2진수로 변환 후에 더해야 합니다.\n",
        "0.1 + 0.1\n",
        "0.1 + 0.2 # 0.3이 나오지 않습니다!!\n",
        "\n",
        "# 모든 컴퓨터에서 일어나는 일입니다.\n",
        "# 0.1은 2진수로 표현했을 때 무한대수가 나옵니다.\n",
        "# 그래서 이걸 더하게 되면 무한대수가 나올 수도 있고 안나올 수도 있습니다."
      ],
      "metadata": {
        "id": "Fr_56lNfg74g"
      },
      "execution_count": null,
      "outputs": []
    },
    {
      "cell_type": "code",
      "source": [],
      "metadata": {
        "id": "TnvIspo4kBHI"
      },
      "execution_count": null,
      "outputs": []
    },
    {
      "cell_type": "markdown",
      "source": [
        "## 비교연산"
      ],
      "metadata": {
        "id": "clNIyYwKfT3d"
      }
    },
    {
      "cell_type": "code",
      "source": [
        "x = 10\n",
        "y = 3\n",
        "\n",
        "print(x == y) # 같은가? => False\n",
        "print(x != y) # 다른가? => True\n",
        "print(x > y)\n",
        "print(x >= y)\n",
        "print(x < y)\n",
        "print(x <= y)"
      ],
      "metadata": {
        "colab": {
          "base_uri": "https://localhost:8080/"
        },
        "id": "XQUY7rt7kkI4",
        "outputId": "ae14ff83-35aa-4541-bf8d-f9919684e524"
      },
      "execution_count": null,
      "outputs": [
        {
          "output_type": "stream",
          "name": "stdout",
          "text": [
            "False\n",
            "True\n",
            "True\n",
            "True\n",
            "False\n",
            "False\n"
          ]
        }
      ]
    },
    {
      "cell_type": "code",
      "source": [
        "a = [10, 20]\n",
        "b = [10, 20]\n",
        "\n",
        "print([a == b])\n",
        "\n",
        "# True인 것은 실행시켜보니 알겠는데\n",
        "# 왜 True인지 왜 물어볼까?\n",
        "\n",
        "# 당연하지 않습니다.\n",
        "print(id(a), id(b))\n",
        "\n",
        "# JavaScript에서는 false(JavaScript에서는 소문자)입니다.\n",
        "# Python에 언어 철학(개발자의 편의를 극대화!)\n",
        "# 비교한 개발자의 의도는 값을 비교하기 위함이지, 주소를 비교하기 위함은 아닐 것이다! => 같이 같다면 True를 주자!\n",
        "# 주소값 비교는 is 연산에서 하자!"
      ],
      "metadata": {
        "colab": {
          "base_uri": "https://localhost:8080/"
        },
        "id": "lD0kQ5sTk5Pz",
        "outputId": "7b64611d-b824-42a4-97ba-4d14f604e159"
      },
      "execution_count": null,
      "outputs": [
        {
          "output_type": "stream",
          "name": "stdout",
          "text": [
            "[True]\n",
            "133467347067712 133466492270528\n"
          ]
        }
      ]
    },
    {
      "cell_type": "markdown",
      "source": [
        "## 논리연산"
      ],
      "metadata": {
        "id": "ViULt8QHfVNX"
      }
    },
    {
      "cell_type": "code",
      "source": [
        "# bool\n",
        "a = True\n",
        "type(a)\n",
        "\n",
        "# True(1), False(0)\n",
        "# and(곱), or(합), not(부정) => True, False로 '주로' 나옵니다. / 0외에 다른 숫자는 다 True\n",
        "\n",
        "sum([3, 4, 5])\n",
        "sum([True, True, False, True])\n",
        "True + True\n",
        "True or True # (V)\n",
        "\n",
        "bool(-1)\n",
        "bool(0)\n",
        "bool(100)\n",
        "bool('')\n",
        "bool(' ')\n",
        "bool('hello world')\n",
        "\n",
        "True and True # (V)\n",
        "False and True # (V)\n",
        "# 1/0\n",
        "False and 1/0 # 앞에서 결론이 나버리면 뒤에 코드를 전혀 보지 않습니다.\n",
        "# 1/0 and False # 증명\n",
        "not True"
      ],
      "metadata": {
        "colab": {
          "base_uri": "https://localhost:8080/"
        },
        "id": "jyIAVvrJmw6t",
        "outputId": "43605aab-8481-4679-ae7d-a34887cec759"
      },
      "execution_count": null,
      "outputs": [
        {
          "output_type": "execute_result",
          "data": {
            "text/plain": [
              "False"
            ]
          },
          "metadata": {},
          "execution_count": 31
        }
      ]
    },
    {
      "cell_type": "code",
      "source": [
        "## 난이도가 있어서 자신있게 하는 언어가 1개 이상이 아니신 분들은 잠시 keep 나중에 공부하세요.\n",
        "# 어려워요.\n",
        "# 단락평가\n",
        "\n",
        "username = ''\n",
        "username = username or '이름없음'\n",
        "username"
      ],
      "metadata": {
        "colab": {
          "base_uri": "https://localhost:8080/",
          "height": 35
        },
        "id": "UMvqOliqp0oH",
        "outputId": "78aae976-baf4-4740-cf17-2de0fb22cb4d"
      },
      "execution_count": null,
      "outputs": [
        {
          "output_type": "execute_result",
          "data": {
            "text/plain": [
              "'이름없음'"
            ],
            "application/vnd.google.colaboratory.intrinsic+json": {
              "type": "string"
            }
          },
          "metadata": {},
          "execution_count": 34
        }
      ]
    },
    {
      "cell_type": "code",
      "source": [
        "username = 'son'\n",
        "username = username or '이름없음'\n",
        "username"
      ],
      "metadata": {
        "colab": {
          "base_uri": "https://localhost:8080/",
          "height": 35
        },
        "id": "cBAl6AR2p1s-",
        "outputId": "9b1b0541-b44a-40fd-b955-eb5ae711995c"
      },
      "execution_count": null,
      "outputs": [
        {
          "output_type": "execute_result",
          "data": {
            "text/plain": [
              "'son'"
            ],
            "application/vnd.google.colaboratory.intrinsic+json": {
              "type": "string"
            }
          },
          "metadata": {},
          "execution_count": 35
        }
      ]
    },
    {
      "cell_type": "code",
      "source": [
        "# 어떻게 사용되나요?\n",
        "# 1부터 100까지 3의 배수와 5의 배수를 모두 더하세요.\n",
        "# for문과 if문은 머릿속에서 잊으시고 and와 or에만 초점을 맞추세요!\n",
        "\n",
        "for i in range(20):\n",
        "  if i % 3 == 0 or i % 5 == 0: # 둘 중 하나 만족!\n",
        "    print(i)\n",
        "\n",
        "for i in range(20):\n",
        "  if i % 3 == 0 and i % 5 == 0: # 동시 만족\n",
        "    print(i)\n"
      ],
      "metadata": {
        "colab": {
          "base_uri": "https://localhost:8080/"
        },
        "id": "wEj5Cg5kp70v",
        "outputId": "a22cd9db-6dd1-477e-b3a4-e3ccc77da541"
      },
      "execution_count": null,
      "outputs": [
        {
          "output_type": "stream",
          "name": "stdout",
          "text": [
            "0\n",
            "3\n",
            "5\n",
            "6\n",
            "9\n",
            "10\n",
            "12\n",
            "15\n",
            "18\n",
            "0\n",
            "15\n"
          ]
        }
      ]
    },
    {
      "cell_type": "markdown",
      "source": [
        "## 할당 연산"
      ],
      "metadata": {
        "id": "QegKyFRKfXR0"
      }
    },
    {
      "cell_type": "code",
      "source": [
        "a = 10\n",
        "a = b = c = 100 # 실무에서 사용하지 않습니다. # 회사 컨벤션에서 안쓰는 경우가 많습니다.\n",
        "\n",
        "# 할당 연산은 마지막에 진행됩니다.\n",
        "a = 10\n",
        "a = a + 100\n",
        "\n",
        "# += 있습니다.\n",
        "# ++a 없습니다.\n",
        "# a++ 없습니다.\n",
        "\n",
        "a = 10\n",
        "a += 1 # a = a + 1를 단축한 것입니다.\n",
        "\n",
        "# 그런데 왜 a=+ 1이 아닐까요?\n",
        "# a = +1이 있기 때문입니다.\n",
        "\n",
        "a = --------1 # ㅋㅋ\n",
        "a"
      ],
      "metadata": {
        "colab": {
          "base_uri": "https://localhost:8080/"
        },
        "id": "b3Dw6XMQp48i",
        "outputId": "c612d440-cb99-497e-94c1-57f9f2e3e8fd"
      },
      "execution_count": null,
      "outputs": [
        {
          "output_type": "execute_result",
          "data": {
            "text/plain": [
              "1"
            ]
          },
          "metadata": {},
          "execution_count": 39
        }
      ]
    },
    {
      "cell_type": "markdown",
      "source": [
        "## is 연산"
      ],
      "metadata": {
        "id": "qMzR82_tfYYk"
      }
    },
    {
      "cell_type": "code",
      "source": [
        "a = [10, 20]\n",
        "b = [10, 20]\n",
        "\n",
        "print(a is b) # 이건 주소값 비교!"
      ],
      "metadata": {
        "colab": {
          "base_uri": "https://localhost:8080/"
        },
        "id": "0LZDdtKRmkJx",
        "outputId": "db08a19a-8a23-4fd8-f199-db2c75a9c6c2"
      },
      "execution_count": null,
      "outputs": [
        {
          "output_type": "stream",
          "name": "stdout",
          "text": [
            "False\n"
          ]
        }
      ]
    },
    {
      "cell_type": "code",
      "source": [
        "# 복습 X\n",
        "# 잊어버려도 전혀 문제 없습니다.\n",
        "a = 10\n",
        "b = 10\n",
        "\n",
        "a is b"
      ],
      "metadata": {
        "colab": {
          "base_uri": "https://localhost:8080/"
        },
        "id": "YXYXqzTysyrm",
        "outputId": "5adaeced-739e-4619-d238-2df676caf256"
      },
      "execution_count": null,
      "outputs": [
        {
          "output_type": "execute_result",
          "data": {
            "text/plain": [
              "True"
            ]
          },
          "metadata": {},
          "execution_count": 42
        }
      ]
    },
    {
      "cell_type": "code",
      "source": [
        "# 이게 거의 대부분의 언어에서 아래와 같이 False가 나옵니다.\n",
        "# 그런데 Python에서만 -5 ~ 256까지 내장해서 사용합니다. => 속도차이 극복 위함\n",
        "a = 257\n",
        "b = 257\n",
        "\n",
        "a is b"
      ],
      "metadata": {
        "colab": {
          "base_uri": "https://localhost:8080/"
        },
        "id": "WXyRi5IMtHoO",
        "outputId": "d08035df-efbc-4dd4-954a-69510d6941ee"
      },
      "execution_count": null,
      "outputs": [
        {
          "output_type": "execute_result",
          "data": {
            "text/plain": [
              "False"
            ]
          },
          "metadata": {},
          "execution_count": 48
        }
      ]
    },
    {
      "cell_type": "markdown",
      "source": [
        "https://drive.google.com/file/d/10tG8bUkgcZ0OcMdyJcSVQOsAWS8F7ltB/view?usp=drive_link"
      ],
      "metadata": {
        "id": "OED9C8kouTM1"
      }
    },
    {
      "cell_type": "markdown",
      "source": [
        "## in 연산"
      ],
      "metadata": {
        "id": "hzXd9bGFfeJU"
      }
    },
    {
      "cell_type": "code",
      "source": [
        "'h' in 'hello world'\n",
        "10 in [10, 20, 30, 40]\n"
      ],
      "metadata": {
        "colab": {
          "base_uri": "https://localhost:8080/"
        },
        "id": "MgwK2dIDsjdG",
        "outputId": "13ae9a50-5b44-45c3-a402-29f6943e3f5b"
      },
      "execution_count": null,
      "outputs": [
        {
          "output_type": "execute_result",
          "data": {
            "text/plain": [
              "True"
            ]
          },
          "metadata": {},
          "execution_count": 41
        }
      ]
    },
    {
      "cell_type": "markdown",
      "source": [
        "# 변수의 타입과 메서드"
      ],
      "metadata": {
        "id": "JAhBfMZ2uXQa"
      }
    },
    {
      "cell_type": "markdown",
      "source": [
        "## 문자열 자료형"
      ],
      "metadata": {
        "id": "J85AuisGur-9"
      }
    },
    {
      "cell_type": "code",
      "source": [
        "# 문자열의 인덱싱과 슬라이싱\n",
        "s = 'paullab CEO leehojun'\n",
        "# str 인덱싱이 가능합니다. s[index]\n",
        "# index를 벗어나면 에러납니다.\n",
        "# 마이너스 인덱싱이 가능합니다. s[-1]\n",
        "s[1] # 여기서 1을 인덱스라고 합니다. 0부터 시작합니다.\n",
        "# s[100]\n",
        "\n",
        "\n",
        "# str 슬라이싱이 가능합니다. s[start:stop:step]\n",
        "# slicing은 에러가 나지 않습니다.\n",
        "# 마이너스 슬라이싱이 가능합니다.\n",
        "# stop 값에서 -1번째까지 잘라냅니다.\n",
        "s[0:7]\n",
        "# s[100:101]\n",
        "\n",
        "s = 'paullab CEO leehojun'\n",
        "s[:-13] # 음수는 양수로 치환됩니다. s[0:7]와 같습니다.\n",
        "s[::-1] # 많이 사용합니다.\n",
        "s[::-2] # 실무에서 거의 사용하지 않습니다.\n",
        "\n"
      ],
      "metadata": {
        "colab": {
          "base_uri": "https://localhost:8080/",
          "height": 35
        },
        "id": "sqgyE9XuxhKo",
        "outputId": "d9479fee-de47-4921-8559-7cb22af7a309"
      },
      "execution_count": null,
      "outputs": [
        {
          "output_type": "execute_result",
          "data": {
            "text/plain": [
              "'paullab'"
            ],
            "application/vnd.google.colaboratory.intrinsic+json": {
              "type": "string"
            }
          },
          "metadata": {},
          "execution_count": 53
        }
      ]
    },
    {
      "cell_type": "code",
      "source": [
        "# String은 immutable 합니다! (불변!)\n",
        "s = 'paullab CEO leehojun'\n",
        "# s[0] = 10 # 안됩니다.\n",
        "# s[1] = 'z'  # 안됩니다.\n",
        "\n",
        "s[0] + 'z' + s[2:]"
      ],
      "metadata": {
        "colab": {
          "base_uri": "https://localhost:8080/",
          "height": 35
        },
        "id": "_jvvaG1zz4Lq",
        "outputId": "e456e3b4-32a7-44ce-a8aa-76bbad81b0b1"
      },
      "execution_count": null,
      "outputs": [
        {
          "output_type": "execute_result",
          "data": {
            "text/plain": [
              "'pzullab CEO leehojun'"
            ],
            "application/vnd.google.colaboratory.intrinsic+json": {
              "type": "string"
            }
          },
          "metadata": {},
          "execution_count": 54
        }
      ]
    },
    {
      "cell_type": "code",
      "source": [
        "# 이렇게 str에 인덱싱과 슬라이싱이 되는 자료형을 시퀀스 자료형이라고 합니다.\n",
        "# 순회가능 객체 != 시퀀스형 자료형\n",
        "# 순서가 있는 객체 != 시퀀스형 자료형"
      ],
      "metadata": {
        "id": "eEcWtoDP0RcX"
      },
      "execution_count": null,
      "outputs": []
    },
    {
      "cell_type": "code",
      "source": [
        "# 정말 자주 사용하는 단축키\n",
        "# home\n",
        "# end\n",
        "# Ctrl + Alt + 화살표 위\n",
        "# Ctrl + Alt + 화살표 아래\n",
        "# 탭\n",
        "# 쉬프트 탭\n",
        "print('hello world')\n",
        "print('hello world')\n",
        "print('hello world')\n",
        "print('hello world')\n",
        "print('hello world')\n",
        "print('hello world')\n",
        "print('hello world')\n",
        "print('hello world')\n",
        "print('hello world')\n",
        "print('hello world')\n",
        "print('hello world')\n",
        "print('hello world')\n"
      ],
      "metadata": {
        "id": "2Yg3kLW_1ANu"
      },
      "execution_count": null,
      "outputs": []
    },
    {
      "cell_type": "code",
      "source": [
        "s = 'hello world'\n",
        "dir(s)"
      ],
      "metadata": {
        "id": "bMNOEPv_10iN"
      },
      "execution_count": null,
      "outputs": []
    },
    {
      "cell_type": "code",
      "source": [
        "# 필수로 알아야 하는 string 메서드 => python으로 실무를 할거면 나머지도 거의 다 외워야함\n",
        "'count',\n",
        "'find',\n",
        "'format',\n",
        "'index',\n",
        "'isdigit',\n",
        "'join',\n",
        "'replace',\n",
        "'split',\n",
        "'strip',\n",
        "'zfill'\n",
        "\n",
        "# upper나 lower가 책에서는 많이 나오는데 실무에서 빈도가 높은 메서드는 아닙니다."
      ],
      "metadata": {
        "id": "gKxmICG414mr"
      },
      "execution_count": null,
      "outputs": []
    },
    {
      "cell_type": "code",
      "source": [
        "'12345678910111213141516'.count('1')\n",
        "# 구글 입사문제 1부터 10000까지 8이라는 숫자는 몇 번 나오는가요?\n",
        "str(list(range(30))).count('8') # 정답, 안배운 것 투성이지만 count가 자주 쓰인다는 것을 알려주기 위함.\n",
        "\n",
        "'hello world'.count('l')\n",
        "\n",
        "########################\n",
        "\n",
        "'hello world'.find('w')\n",
        "'hello world'.find('wor')\n",
        "'hello world'.find('z') # 못찾으면 -1 => True\n",
        "\n",
        "# if 'hello world'.find('z'): # 틀린코드 / -1 => True\n",
        "#   print('찾았습니다.')\n",
        "\n",
        "'hello world'.index('w')\n",
        "'hello world'.index('wor')\n",
        "# 'hello world'.index('z') # 못찾으면 error\n",
        "\n",
        "# find? index? 용도에 맞게 사용합니다.\n",
        "\n",
        "########################\n",
        "\n",
        "name = 'son'\n",
        "age = 10\n",
        "height = 180.123\n",
        "\n",
        "'제 이름은 {}이고, 제 나이는 {}입니다.'.format(name, age)\n",
        "'제 이름은 {}이고, 제 나이는 {}입니다.'.format(age, age)\n",
        "'제 이름은 {}이고, 제 나이는 {}입니다.'.format(True, True)\n",
        "'제 이름은 {0}이고, 제 나이는 {0}입니다.'.format(name, age)\n",
        "\n",
        "'제 키는 {0:.1f}입니다.'.format(height)\n",
        "'{0:=^30}'.format('log시작')\n",
        "# '{0:=<^30}'.format('log시작') # 자주 사용 X\n",
        "# '{0:=>^30}'.format('log시작') # 자주 사용 X\n",
        "\n",
        "f'제 키는 {height:.1f}입니다.'\n",
        "f'!!{name:=^30}!!'\n",
        "\n",
        "########################\n",
        "\n",
        "s = 'he1llo w2or3ld'\n",
        "for i in s:\n",
        "  if i.isdigit():\n",
        "    print(i)\n",
        "\n",
        "'1'.isdigit() # True\n",
        "'ab'.isdigit() # False\n",
        "'1ab'.isdigit() # False\n",
        "'a1b'.isdigit() # False\n",
        "\n",
        "########################\n",
        "\n",
        "'!'.join(['010', '2020', '3030'])\n",
        "'-'.join(['010', '2020', '3030'])\n",
        "'abcabc'.join(['010', '2020', '3030'])\n",
        "\n",
        "########################\n",
        "# https://school.programmers.co.kr/learn/courses/30/lessons/17681\n",
        "# 2018년도 카카오 코딩테스트 비밀지도 문제\n",
        "# 1은 #으로 0은 공백으로 바꾸세요.\n",
        "\n",
        "# 2줄\n",
        "a = '10111011101'.replace('1', '#')\n",
        "b = a.replace('0', ' ')\n",
        "print(b)\n",
        "\n",
        "# 1줄\n",
        "result = '10111011101'.replace('1', '#').replace('0', ' ') # 메서드 체이닝 => 반환값이 str이어야함\n",
        "print(result)\n",
        "\n",
        "########################\n",
        "\n",
        "'010-2020-3030'.split('-')\n",
        "'010-2020-3030'.split(' ')\n",
        "\n",
        "########################\n",
        "\n",
        "'        hello        '.strip() # 양쪽 공백 모두 제거\n",
        "\n",
        "########################\n",
        "\n",
        "'9'.zfill(20) # 어디서 사용할까요? 시계 12:08, 꼭 자리를 맞춰야 하는 곳에서 사용합니다.\n",
        "\n",
        "########################\n",
        "\n",
        "\n"
      ],
      "metadata": {
        "colab": {
          "base_uri": "https://localhost:8080/",
          "height": 122
        },
        "id": "LHTznVtw2bEo",
        "outputId": "e8ad69e2-c046-4227-ee1a-12c1a6946f3b"
      },
      "execution_count": null,
      "outputs": [
        {
          "output_type": "stream",
          "name": "stdout",
          "text": [
            "1\n",
            "2\n",
            "3\n",
            "# ### ### #\n",
            "# ### ### #\n"
          ]
        },
        {
          "output_type": "execute_result",
          "data": {
            "text/plain": [
              "'00000000000000000009'"
            ],
            "application/vnd.google.colaboratory.intrinsic+json": {
              "type": "string"
            }
          },
          "metadata": {},
          "execution_count": 75
        }
      ]
    },
    {
      "cell_type": "code",
      "source": [
        "import re\n",
        "\n",
        "s = '''\n",
        "01050442903\n",
        "010 5044 2903\n",
        "010-5044-2903\n",
        "010-50442-29023\n",
        "010~5044~2903\n",
        "'''\n",
        "\n",
        "r'010-[0-9]{4}-[0-9]{4}' # raw\n",
        "re.findall(r'010[- ~]?[0-9]{4}[- ~]?[0-9]{4}', s)\n"
      ],
      "metadata": {
        "id": "KblydTsQ4mjp"
      },
      "execution_count": null,
      "outputs": []
    },
    {
      "cell_type": "markdown",
      "source": [
        "## int, float, bool, None"
      ],
      "metadata": {
        "id": "39uESUdZBh5i"
      }
    },
    {
      "cell_type": "code",
      "source": [
        "a = None\n",
        "dir(a)\n",
        "\n",
        "# 아~~무것도 사용하지 않습니다.\n",
        "# 'as_integer_ratio',\n",
        "# 'bit_count',\n",
        "# 'bit_length',\n",
        "# 'conjugate',\n",
        "# 'denominator',\n",
        "# 'from_bytes',\n",
        "# 'imag',\n",
        "# 'numerator',\n",
        "# 'real',\n",
        "# 'to_bytes'\n",
        "\n"
      ],
      "metadata": {
        "id": "_1DYfb9UBggo"
      },
      "execution_count": null,
      "outputs": []
    },
    {
      "cell_type": "markdown",
      "source": [
        "## 형변환"
      ],
      "metadata": {
        "id": "ba72xapjCihJ"
      }
    },
    {
      "cell_type": "code",
      "source": [
        "# https://docs.python.org/3/library/functions.html\n",
        "int()\n",
        "float()\n",
        "str()\n",
        "bool()"
      ],
      "metadata": {
        "colab": {
          "base_uri": "https://localhost:8080/"
        },
        "id": "OTYJkfUfCh6d",
        "outputId": "68388256-b2ad-4594-8986-b0812383af28"
      },
      "execution_count": null,
      "outputs": [
        {
          "output_type": "execute_result",
          "data": {
            "text/plain": [
              "False"
            ]
          },
          "metadata": {},
          "execution_count": 77
        }
      ]
    },
    {
      "cell_type": "code",
      "source": [
        "int('10') # 문자열 10이 입력 str -> int\n",
        "# int('10a') - 에러\n",
        "int(10.1) # float -> int\n",
        "int('0b110', 2) # bin\n",
        "# int('0o110', 8) # oct\n",
        "# int('0x110', 16) # hex\n",
        "int(True)\n",
        "int(False)\n",
        "# int (None) - 에러 # 0으로 취급되는 것이 아니라 error가 납니다!\n",
        "\n",
        "a = '10'\n",
        "b = 10\n",
        "c = 10.1\n",
        "\n",
        "int(a)\n",
        "int(b)\n",
        "int(c)"
      ],
      "metadata": {
        "colab": {
          "base_uri": "https://localhost:8080/"
        },
        "id": "ZEhruV4BDkmt",
        "outputId": "124e1e5a-41b6-4fce-b3da-e7b2aedff06d"
      },
      "execution_count": null,
      "outputs": [
        {
          "output_type": "execute_result",
          "data": {
            "text/plain": [
              "0"
            ]
          },
          "metadata": {},
          "execution_count": 80
        }
      ]
    },
    {
      "cell_type": "code",
      "source": [
        "float('10')\n",
        "float(10)"
      ],
      "metadata": {
        "colab": {
          "base_uri": "https://localhost:8080/"
        },
        "id": "Q5bd3NV1D7cT",
        "outputId": "7878e80e-161c-4ec3-ab90-958b1c654064"
      },
      "execution_count": null,
      "outputs": [
        {
          "output_type": "execute_result",
          "data": {
            "text/plain": [
              "10.0"
            ]
          },
          "metadata": {},
          "execution_count": 83
        }
      ]
    },
    {
      "cell_type": "code",
      "source": [
        "str(True)\n",
        "str(None)\n",
        "str([1, 2, 3, 4])\n",
        "str(100)\n",
        "str(10.1)\n"
      ],
      "metadata": {
        "colab": {
          "base_uri": "https://localhost:8080/",
          "height": 35
        },
        "id": "1WInD-ezEmE_",
        "outputId": "6b262068-3ca6-4bc6-a49a-3bb3ff41b9ee"
      },
      "execution_count": null,
      "outputs": [
        {
          "output_type": "execute_result",
          "data": {
            "text/plain": [
              "'10.1'"
            ],
            "application/vnd.google.colaboratory.intrinsic+json": {
              "type": "string"
            }
          },
          "metadata": {},
          "execution_count": 84
        }
      ]
    },
    {
      "cell_type": "code",
      "source": [
        "# 중요, while문이나 if문 뒤에 실행 여부를 판단하기 때문에!\n",
        "bool([10, 20, 30])\n",
        "bool([]) # False => JavaScript에서는 true\n",
        "bool(0) # False\n",
        "bool(100)\n",
        "bool(-1)\n",
        "bool('') # False\n",
        "bool(' ')\n",
        "bool('!')\n",
        "bool('0')\n",
        "\n",
        "# 실무에서 자주 사용하는 코드 keep\n",
        "# x = [10, 20, 30]\n",
        "# while x:\n",
        "#   print(x.pop())"
      ],
      "metadata": {
        "id": "Tz15UrDXE1GA"
      },
      "execution_count": null,
      "outputs": []
    },
    {
      "cell_type": "code",
      "source": [
        "if 0: # False여서 실행되지 않는다.\n",
        "  print('hello')\n",
        "\n",
        "if ' ': # True여서 실행된다.\n",
        "  print('hello')"
      ],
      "metadata": {
        "id": "Fz-eaCNDFjCy"
      },
      "execution_count": null,
      "outputs": []
    },
    {
      "cell_type": "markdown",
      "source": [
        "# 컬렉션 자료형"
      ],
      "metadata": {
        "id": "AwFHhjKNGBzH"
      }
    },
    {
      "cell_type": "markdown",
      "source": [
        "* 클래스 *****\n",
        "* 리스트 ****\n",
        "* 딕셔너리 ***\n",
        "* 튜플, 셋 **"
      ],
      "metadata": {
        "id": "cODE70uUKErV"
      }
    },
    {
      "cell_type": "markdown",
      "source": [
        "## 리스트"
      ],
      "metadata": {
        "id": "Se3sqgAwGDNn"
      }
    },
    {
      "cell_type": "code",
      "source": [
        "l = [10, 20, 30, 40]\n",
        "# 인덱싱과 슬라이싱이 됩니다. 시퀀스형 자료형입니다.\n",
        "l[0]\n",
        "l[1:3]\n",
        "\n",
        "# 스트링과 다르게 변경이 가능한 자료형입니다. 수정 가능한 자료형(mutable)입니다.\n",
        "l[0] = 1000\n"
      ],
      "metadata": {
        "colab": {
          "base_uri": "https://localhost:8080/"
        },
        "id": "chjQcgtoGOp2",
        "outputId": "46380eca-30fa-4d67-a277-9897abc47704"
      },
      "execution_count": null,
      "outputs": [
        {
          "output_type": "execute_result",
          "data": {
            "text/plain": [
              "[20, 30]"
            ]
          },
          "metadata": {},
          "execution_count": 85
        }
      ]
    },
    {
      "cell_type": "code",
      "source": [
        "b = [[10, 20, 30], [1, 2, 3]]\n",
        "print(b[1][2]) # 출력: 3"
      ],
      "metadata": {
        "id": "_ZLKE9GJHTfc"
      },
      "execution_count": null,
      "outputs": []
    },
    {
      "cell_type": "code",
      "source": [
        "dir(l)\n",
        "# '__add__' 아!? 더하기 되는구나?! 왜 아는 게 중요한가? 앞으로 여러분들은 custom한 자료형들을 많이 보게 되실 텐데\n",
        "# '__mul__' 곱하기 되는구나\n",
        "# __div__가 없으니 나누기는 안되는구나\n"
      ],
      "metadata": {
        "id": "1katnL7PHbEV"
      },
      "execution_count": null,
      "outputs": []
    },
    {
      "cell_type": "code",
      "source": [
        "[1, 2, 3] + [1, 2, 3]"
      ],
      "metadata": {
        "colab": {
          "base_uri": "https://localhost:8080/"
        },
        "id": "8fLnhp22H6qW",
        "outputId": "9ac382b8-ffd9-4136-f495-f9252cabaa0e"
      },
      "execution_count": null,
      "outputs": [
        {
          "output_type": "execute_result",
          "data": {
            "text/plain": [
              "[1, 2, 3, 1, 2, 3]"
            ]
          },
          "metadata": {},
          "execution_count": 87
        }
      ]
    },
    {
      "cell_type": "code",
      "source": [
        "# sum([[10, 20, 30], [1, 2, 3]], 0) - 에러\n",
        "sum([[10, 20, 30], [1, 2, 3]], [])\n",
        "sum(sum([[10, 20, 30], [1, 2, 3]], []))"
      ],
      "metadata": {
        "colab": {
          "base_uri": "https://localhost:8080/"
        },
        "id": "VBp2VXWBH9q8",
        "outputId": "08cc4b57-b81f-4366-aded-4d5cbd8cfa2c"
      },
      "execution_count": null,
      "outputs": [
        {
          "output_type": "execute_result",
          "data": {
            "text/plain": [
              "66"
            ]
          },
          "metadata": {},
          "execution_count": 88
        }
      ]
    },
    {
      "cell_type": "code",
      "source": [
        "x = [1]\n",
        "print(x*3) # 출력: [1, 1, 1]\n",
        "\n",
        "\n",
        "[1, 2, 3] * 3"
      ],
      "metadata": {
        "colab": {
          "base_uri": "https://localhost:8080/"
        },
        "id": "ZmZRiGLpIOmp",
        "outputId": "3263fb78-c71c-4fdd-c9a9-0a25ce13c206"
      },
      "execution_count": null,
      "outputs": [
        {
          "output_type": "stream",
          "name": "stdout",
          "text": [
            "[1, 1, 1]\n"
          ]
        },
        {
          "output_type": "execute_result",
          "data": {
            "text/plain": [
              "[1, 2, 3, 1, 2, 3, 1, 2, 3]"
            ]
          },
          "metadata": {},
          "execution_count": 89
        }
      ]
    },
    {
      "cell_type": "code",
      "source": [
        "# 곱하기는 매우 주의해서 사용해야 합니다.\n",
        "l = [[1, 2, 3] * 3] * 2\n",
        "l[0][0] = 100\n",
        "l"
      ],
      "metadata": {
        "colab": {
          "base_uri": "https://localhost:8080/"
        },
        "id": "b0sSEUqbIfZP",
        "outputId": "637d23c5-1bc2-485c-f2ef-cae4df3b5cdc"
      },
      "execution_count": null,
      "outputs": [
        {
          "output_type": "execute_result",
          "data": {
            "text/plain": [
              "[[100, 2, 3, 1, 2, 3, 1, 2, 3], [100, 2, 3, 1, 2, 3, 1, 2, 3]]"
            ]
          },
          "metadata": {},
          "execution_count": 94
        }
      ]
    },
    {
      "cell_type": "code",
      "source": [
        "l = [10, 20, 30, 40]\n",
        "dir(l)"
      ],
      "metadata": {
        "colab": {
          "base_uri": "https://localhost:8080/"
        },
        "id": "50-TKgL12iQQ",
        "outputId": "f0d72731-2c98-4470-dfb1-068baac7275c"
      },
      "execution_count": null,
      "outputs": [
        {
          "output_type": "execute_result",
          "data": {
            "text/plain": [
              "['__add__',\n",
              " '__class__',\n",
              " '__class_getitem__',\n",
              " '__contains__',\n",
              " '__delattr__',\n",
              " '__delitem__',\n",
              " '__dir__',\n",
              " '__doc__',\n",
              " '__eq__',\n",
              " '__format__',\n",
              " '__ge__',\n",
              " '__getattribute__',\n",
              " '__getitem__',\n",
              " '__gt__',\n",
              " '__hash__',\n",
              " '__iadd__',\n",
              " '__imul__',\n",
              " '__init__',\n",
              " '__init_subclass__',\n",
              " '__iter__',\n",
              " '__le__',\n",
              " '__len__',\n",
              " '__lt__',\n",
              " '__mul__',\n",
              " '__ne__',\n",
              " '__new__',\n",
              " '__reduce__',\n",
              " '__reduce_ex__',\n",
              " '__repr__',\n",
              " '__reversed__',\n",
              " '__rmul__',\n",
              " '__setattr__',\n",
              " '__setitem__',\n",
              " '__sizeof__',\n",
              " '__str__',\n",
              " '__subclasshook__',\n",
              " 'append',\n",
              " 'clear',\n",
              " 'copy',\n",
              " 'count',\n",
              " 'extend',\n",
              " 'index',\n",
              " 'insert',\n",
              " 'pop',\n",
              " 'remove',\n",
              " 'reverse',\n",
              " 'sort']"
            ]
          },
          "metadata": {},
          "execution_count": 1
        }
      ]
    },
    {
      "cell_type": "code",
      "source": [
        "l = [10, 20, 30]\n",
        "l.append(40) # 단일 요소 추가\n",
        "l.append([30, 40]) # 주의\n",
        "l\n",
        "# 'append', 많이 사용\n",
        "\n",
        "# 'clear', 잘 사용 안함\n",
        "\n",
        "l = [10, 20, 30]\n",
        "a = l.copy() # 별도 할당, copy가 없으면 a, b, l 모두 동일한 값 출력 => 모두 l을 가리키기 때문\n",
        "b = l\n",
        "a.append(40)\n",
        "a, b, l\n",
        "# 'copy', 잘 사용 안함\n",
        "\n",
        "l = [1, 1, 1, 2, 2, 3, 3, 3, 3, 3]\n",
        "l.count(1)\n",
        "# 'count', 자주 사용\n",
        "\n",
        "l.extend([40, 50]) # 다중 요소 추가\n",
        "# 'extend', 많이 사용\n",
        "\n",
        "l = [10, 20, 30]\n",
        "십의위치 = l.index(10) # find는 list에 없습니다!\n",
        "십의위치\n",
        "# 'index',\n",
        "\n",
        "l = [10, 20, 30]\n",
        "l.insert(2, 10000)\n",
        "l\n",
        "# 'insert',\n",
        "l = [10, 20, 30, 40, 50]\n",
        "꺼낸값 = l.pop() #  # 뒤에서 꺼내기 (단일 요소)\n",
        "l\n",
        "\n",
        "꺼낸값 = l.pop(0)  # 앞에서 꺼내기\n",
        "# 'pop', 많이 사용, 알고리즘 문제에서도 많이 사용!\n",
        "\n",
        "l = [10, 20, 30, 40]\n",
        "l.remove(20) # 20이라는 값을 찾아서 제거. 그러나 모두 제거하진 않습니다. 처음 만나는 20만 제거합니다.\n",
        "l\n",
        "# 'remove', 잘 사용 안함\n",
        "\n",
        "l = [10, 20, 30]\n",
        "l.reverse() # 역순입니다! 역정렬 아닙니다.! 원본을 변경시키기 때문에 실무에서는 잘 사용하지 않습니다.\n",
        "l\n",
        "# 'reverse', 잘 사용 안함 => reversed()를 많이 사용\n",
        "# 예를 들어 게시판 => 사용자가 무엇을 클릭했다고 하여 DB 정렬이 바뀌면 안되죠? => 원본을 만지는 것은 금기시됨 (정렬에서)\n",
        "\n",
        "l = [10, 20, 30]\n",
        "l.sort() # 원본을 변경시키기 때문에 실무에서는 잘 사용하지 않습니다.\n",
        "l\n",
        "# 'sort' => 실무에선 sorted() 사용"
      ],
      "metadata": {
        "colab": {
          "base_uri": "https://localhost:8080/"
        },
        "id": "sLJeDS3P2_Z-",
        "outputId": "f3116a50-41e4-46e1-fd1e-910651deb45b"
      },
      "execution_count": null,
      "outputs": [
        {
          "output_type": "execute_result",
          "data": {
            "text/plain": [
              "[10, 20, 30]"
            ]
          },
          "metadata": {},
          "execution_count": 38
        }
      ]
    },
    {
      "cell_type": "code",
      "source": [
        "# 복습 X\n",
        "# 이렇게 나온다는 것을 보여드리기 위한 예제입니다.\n",
        "# 알고리즘 문제가 7문제 => 4문제는 맞춰야 합격 (최소 1문제는 sort)\n",
        "반별점수 = [[\"이호준\", 90, 80, 100], [\"허륜\", 90, 90, 90], [\"준이\", 96, 95, 99]]\n",
        "sorted(반별점수) # 이름순 정렬, 0번째 있기 때문에 그렇습니다.\n",
        "\n",
        "sorted(반별점수, key = lambda x: sum(x[1:4]), reverse = True)\n",
        "sorted(반별점수, key = lambda x: x[3], reverse=True)\n",
        "\n",
        "# 최대, 최소, 몇명의 인원... => sort 문제"
      ],
      "metadata": {
        "colab": {
          "base_uri": "https://localhost:8080/"
        },
        "id": "W8jZjE1U5xb_",
        "outputId": "5b98af2c-30a1-42c4-b8ef-1e294ad63418"
      },
      "execution_count": null,
      "outputs": [
        {
          "output_type": "execute_result",
          "data": {
            "text/plain": [
              "[['이호준', 90, 80, 100], ['준이', 96, 95, 99], ['허륜', 90, 90, 90]]"
            ]
          },
          "metadata": {},
          "execution_count": 140
        }
      ]
    },
    {
      "cell_type": "code",
      "source": [
        "# 복습 X\n",
        "\n",
        "# level 0 20~30 문제 풀어서 되는게 아니라, 100문제 이상 풀어봐야함\n",
        "# 정렬 문제 Level 0\n",
        "# https://school.programmers.co.kr/learn/challenges/beginner?order=acceptance_desc\n",
        "# https://school.programmers.co.kr/learn/courses/30/lessons/120862\n",
        "# https://school.programmers.co.kr/learn/courses/30/lessons/120835\n",
        "# https://100.pyalgo.co.kr/ 7번 ~ 18번\n",
        "# https://codingdojang.com/scode/408?answer_mode=hide\n",
        "\n",
        "# 400~500 문제를 풀면 유형이 눈에 들어옴\n",
        "# 손코딩이 정말 좋음\n",
        "# 알고리즘은 암기가 좋음 => 코테는 암기과목\n",
        "# 알고리즘 시간에 다시 얘기 해주심"
      ],
      "metadata": {
        "id": "iK_i-jeT9jbo"
      },
      "execution_count": null,
      "outputs": []
    },
    {
      "cell_type": "markdown",
      "source": [
        "## 튜플"
      ],
      "metadata": {
        "id": "V5M_vqEH2k9i"
      }
    },
    {
      "cell_type": "code",
      "source": [
        "# 튜플은 immutable한 자료형입니다. (참조)변경이 불가능한 자료형입니다.\n",
        "# 길이 값이 고정이거나 변경해서는 안되는 값에 주로 사용합니다.\n",
        "\n",
        "t = (100, 200, 300)\n",
        "t[0]\n",
        "t[1:3]\n",
        "# t[0] = 10000 # 안됩니다. 변경이 불가능하기 때문입니다.\n",
        "\n",
        "\n",
        "# 하루 해킹 공격 10만건 (해킹)\n",
        "# 데이터사이언티스트 => Python 기본문법 + Pandas + Numpy + TensorFlow + Scikit-Learn + Pytorch\n",
        "# 개발자 => 생산 코드(함수, 클래스)\n",
        "# 정보보안 => 공격 코드(통신, 어셈블리, OS 모듈 등)\n",
        "\n",
        "### 채용공고 30개 리스트업하면 어느정도 갈피가 보입니다.###\n",
        "# AI 엔지니어, 데이터 엔지니어\n",
        "\n",
        "# 데이터 사이언티스트, AI 사이언티스트 => Core => 수학 석사, 박사 급 분들이 많이 자리를 잡고 있다.\n",
        "# => 서비스를 직접 만지지 않음, TensorFlow 등을 직접 만지지 않음\n",
        "\n",
        "# AI 엔지니어, 데이터 엔지니어 => 개발자 베이스 + 데이터 파이프라인 구축\n",
        "# => 서비스를 직접 만짐, TensorFlow 등을 직접 만지지 않음\n",
        "\n",
        "# 데이터 분석가(애널리스트) => SQL + 분석도구(Python, R), 통계적 지식 => 서비스를 직접 만지지 않음\n",
        "\n",
        "# 예를 들어 카카오 게임즈에서 쿠폰을 몇 시간대에 주어야\n",
        "# 효율이 높은지(데이터 엔지니어) => Pandas로 분석(데이터 분석가) => 쿠폰 발급\n",
        "\n",
        "# 데이터 사이언티스트\n",
        "# 넷플릭스, AWS와 같은 거대기업에 인공지능 커스터마이징\n",
        "\n",
        "# https://careers.upstage.ai/\n",
        "# 대한민국에서 가장 유명한 AI 기업"
      ],
      "metadata": {
        "id": "afNBFgC_-piU"
      },
      "execution_count": null,
      "outputs": []
    },
    {
      "cell_type": "code",
      "source": [
        "t = (10, 20, 30)\n",
        "dir(t)\n",
        "\n",
        "#  'count',\n",
        "#  'index'"
      ],
      "metadata": {
        "id": "njKh5POzFvIZ"
      },
      "execution_count": null,
      "outputs": []
    },
    {
      "cell_type": "code",
      "source": [
        "# 수정 불가능한 자료형 아래 수정 가능한 자료형을 두지 않기를 권합니다.\n",
        "l = [10, 20, 30]\n",
        "t = (10, 20, 30, l)\n",
        "\n",
        "t\n",
        "l.append(40)\n",
        "t # 변경이 불가능한 자료형이라면서요? 참조가 불변인 것입니다."
      ],
      "metadata": {
        "colab": {
          "base_uri": "https://localhost:8080/"
        },
        "id": "Q_a_ZRdNF8_1",
        "outputId": "69fbcace-8db6-428c-ba78-ee7ba5a4ea06"
      },
      "execution_count": null,
      "outputs": [
        {
          "output_type": "execute_result",
          "data": {
            "text/plain": [
              "(10, 20, 30, [10, 20, 30, 40])"
            ]
          },
          "metadata": {},
          "execution_count": 40
        }
      ]
    },
    {
      "cell_type": "code",
      "source": [
        "d = {'one' : 1, 'two' : 2}\n",
        "d.items()"
      ],
      "metadata": {
        "colab": {
          "base_uri": "https://localhost:8080/"
        },
        "id": "HHVCWNgBGjh1",
        "outputId": "a6f5eeed-35a8-453f-bad5-d7ffd7cff4da"
      },
      "execution_count": null,
      "outputs": [
        {
          "output_type": "execute_result",
          "data": {
            "text/plain": [
              "dict_items([('one', 1), ('two', 2)])"
            ]
          },
          "metadata": {},
          "execution_count": 41
        }
      ]
    },
    {
      "cell_type": "markdown",
      "source": [
        "## 딕셔너리"
      ],
      "metadata": {
        "id": "6DOhsvHHG9oU"
      }
    },
    {
      "cell_type": "code",
      "source": [
        "# key, value\n",
        "# 이 형태는 다른 언어에서도 많이 사용됩니다.\n",
        "# 특히, json이라는 형태로 많이 사용합니다.\n",
        "# 중괄호는 셋과 딕셔너리 2개다 사용하기 때문에, 중괄호 == 딕셔너리는 틀린 얘기입니다.\n",
        "# 수정이 가능한 자료형입니다!\n",
        "\n",
        "# 딕셔너리는 시퀀스 자료형이 아닙니다. 따라서 인덱싱이나 슬라이싱은 가능하지 않습니다. 다만 순서를 보장하는 자료형입니다.\n",
        "\n",
        "음식점 = {'해장국' : '은희네해장국',\n",
        "     '밀면' : '산방식당',\n",
        "     '김밥' : '김밥천국',\n",
        "     }\n",
        "\n",
        "음식점['해장국']\n",
        "음식점['해장국'] = '뼈다귀해장국'\n",
        "음식점['해장국']\n"
      ],
      "metadata": {
        "colab": {
          "base_uri": "https://localhost:8080/",
          "height": 35
        },
        "id": "Jcgp_8pIG-xr",
        "outputId": "964f6efe-2f50-4068-b5c9-2e63ef098535"
      },
      "execution_count": null,
      "outputs": [
        {
          "output_type": "execute_result",
          "data": {
            "text/plain": [
              "'뼈다귀해장국'"
            ],
            "application/vnd.google.colaboratory.intrinsic+json": {
              "type": "string"
            }
          },
          "metadata": {},
          "execution_count": 44
        }
      ]
    },
    {
      "cell_type": "code",
      "source": [
        "# 선생님은 파이썬 새로운 버전이 나올때마다 적용해서 프로그래밍 하나요? => Yes\n",
        "# A => 3.5 (f-string 용법은 사용 X)\n",
        "# B => 3.9\n",
        "# C => 3.11"
      ],
      "metadata": {
        "id": "NmI6Iq7jJA81"
      },
      "execution_count": null,
      "outputs": []
    },
    {
      "cell_type": "code",
      "source": [
        "data = [\n",
        "    {\n",
        "        \"지역이름\": \"서울\",\n",
        "        \"확진자수\": 5607,\n",
        "        \"격리해제수\": 5050,\n",
        "        \"사망자수\": 66,\n",
        "        \"십만명당발생율\": 57.61,\n",
        "        \"지역별확진자비율\": 22.53\n",
        "    },\n",
        "    {\n",
        "        \"지역이름\": \"부산\",\n",
        "        \"확진자수\": 491,\n",
        "        \"격리해제수\": 423,\n",
        "        \"사망자수\": 4,\n",
        "        \"십만명당발생율\": 14.39,\n",
        "        \"지역별확진자비율\": 1.97\n",
        "    },\n",
        "    {\n",
        "        \"지역이름\": \"대구\",\n",
        "        \"확진자수\": 7141,\n",
        "        \"격리해제수\": 6933,\n",
        "        \"사망자수\": 196,\n",
        "        \"십만명당발생율\": 293.09,\n",
        "        \"지역별확진자비율\": 28.69\n",
        "    },\n",
        "    {\n",
        "        \"지역이름\": \"인천\",\n",
        "        \"확진자수\": 976,\n",
        "        \"격리해제수\": 901,\n",
        "        \"사망자수\": 8,\n",
        "        \"십만명당발생율\": 33.02,\n",
        "        \"지역별확진자비율\": 3.92\n",
        "    }\n",
        "]\n",
        "data[0]\n",
        "data[0]['지역이름']"
      ],
      "metadata": {
        "colab": {
          "base_uri": "https://localhost:8080/",
          "height": 35
        },
        "id": "rgiAwLv2I8l4",
        "outputId": "774f84ce-1c01-43dd-e517-6c6d0e203705"
      },
      "execution_count": null,
      "outputs": [
        {
          "output_type": "execute_result",
          "data": {
            "text/plain": [
              "'서울'"
            ],
            "application/vnd.google.colaboratory.intrinsic+json": {
              "type": "string"
            }
          },
          "metadata": {},
          "execution_count": 48
        }
      ]
    },
    {
      "cell_type": "code",
      "source": [
        "data = [\n",
        "  {\n",
        "    \"_id\": \"0cdda387-38a6-438f-C60a-e1d837a54882\",\n",
        "    \"index\": \"1\",\n",
        "    \"name\": \"당혜선\",\n",
        "    \"email\": \"user-xi4ivve@vel.org\",\n",
        "    \"phone\": \"010-3357-3626\",\n",
        "    \"country\": \"파나마\",\n",
        "    \"address\": \"봉은사로 43-7\",\n",
        "    \"job\": \"애니메이터\"\n",
        "  },\n",
        "  {\n",
        "    \"_id\": \"21b6f1a0-f3d6-4c52-B5e9-8733f3585822\",\n",
        "    \"index\": \"2\",\n",
        "    \"name\": \"증세환\",\n",
        "    \"email\": \"user-7zhey8m@labore.org\",\n",
        "    \"phone\": \"010-8259-1734\",\n",
        "    \"country\": \"레바논\",\n",
        "    \"address\": \"보문로 53-9\",\n",
        "    \"job\": \"화학공학기술자\"\n",
        "  },\n",
        "  {\n",
        "    \"_id\": \"b6dceeb9-6cf7-4094-B13c-06a388cce9fb\",\n",
        "    \"index\": \"3\",\n",
        "    \"name\": \"관희주\",\n",
        "    \"email\": \"user-5zvdcmt@fermentum.co.kr\",\n",
        "    \"phone\": \"010-4224-7558\",\n",
        "    \"country\": \"파키스탄\",\n",
        "    \"address\": \"선릉로 85-3\",\n",
        "    \"job\": \"응급구조사\"\n",
        "  }\n",
        "]\n",
        "data[0]\n",
        "data[0]['name']"
      ],
      "metadata": {
        "colab": {
          "base_uri": "https://localhost:8080/",
          "height": 35
        },
        "id": "pGOIuqUeJoQ0",
        "outputId": "abac6640-43cc-4e4c-b83d-a2651dbab4ec"
      },
      "execution_count": null,
      "outputs": [
        {
          "output_type": "execute_result",
          "data": {
            "text/plain": [
              "'당혜선'"
            ],
            "application/vnd.google.colaboratory.intrinsic+json": {
              "type": "string"
            }
          },
          "metadata": {},
          "execution_count": 49
        }
      ]
    },
    {
      "cell_type": "code",
      "source": [
        "posts = [\n",
        "    {\n",
        "    'id' : 1,\n",
        "    'title' : '파이썬 쉬운줄 알았는데 어마어마하게 어렵네..',\n",
        "    'author' : '호준',\n",
        "    'sub_title' : '도망챠',\n",
        "    'contents' : '...',\n",
        "    'created_at' : '240123',\n",
        "    'updated_at' : '240123',\n",
        "    'comments' : None,\n",
        "    'img' : ['python.png']\n",
        "\n",
        "    }, {\n",
        "    'id' : 2,\n",
        "    'title' : '파이썬 쉬운줄 알았는데 어마어마하게 어렵네..',\n",
        "    'author' : '혜빈',\n",
        "    'sub_title' : '도망챠',\n",
        "    'contents' : '...',\n",
        "    'created_at' : '240123',\n",
        "    'updated_at' : '240123',\n",
        "    'comments' : None,\n",
        "    'img' : ['python.png']\n",
        "    }\n",
        "]\n",
        "\n",
        "posts[0]['title']"
      ],
      "metadata": {
        "colab": {
          "base_uri": "https://localhost:8080/",
          "height": 35
        },
        "id": "HOvSRNkiJviU",
        "outputId": "5a9c0f97-7f3d-47a3-e3d3-a33783639964"
      },
      "execution_count": null,
      "outputs": [
        {
          "output_type": "execute_result",
          "data": {
            "text/plain": [
              "'파이썬 쉬운줄 알았는데 어마어마하게 어렵네..'"
            ],
            "application/vnd.google.colaboratory.intrinsic+json": {
              "type": "string"
            }
          },
          "metadata": {},
          "execution_count": 50
        }
      ]
    },
    {
      "cell_type": "code",
      "source": [
        "d = {'one' : 1}\n",
        "dir(d)\n",
        "\n",
        "# 'clear' 사용X\n",
        "# 'copy'\n",
        "a = d\n",
        "b = d\n",
        "a['two']=2\n",
        "a, b, d\n",
        "\n",
        "\n",
        "# 'fromkeys'\n",
        "keys = ['name', 'city', 'job']\n",
        "value = None\n",
        "dict.fromkeys(keys, value)\n",
        "\n",
        "keys = ['one', 'two', 'three']\n",
        "# value = 0\n",
        "dict.fromkeys(keys)\n",
        "\n",
        "# 'get'\n",
        "# 구버전에서는 정말 많이 사용했던 메서드입니다. (여전히 많이 사용합니다.)\n",
        "# Python에 3.10버전 오면서 match라는 문법이 생기면서 활용도가 조금 떨어졌다.\n",
        "요일 = 3\n",
        "요일데이터 = {1: \"월요일\", 2: \"화요일\", 3: \"수요일\", 4: \"목요일\", 5: \"금요일\", 6: \"토요일\", 7: \"일요일\"}\n",
        "요일데이터.get(요일, \"존재하지 않는 요일입니다.\") # 선호! => error가 나지 않습니다.\n",
        "요일데이터[3]\n",
        "\n",
        "# 'items'\n",
        "요일데이터 = {1: \"월요일\", 2: \"화요일\", 3: \"수요일\", 4: \"목요일\", 5: \"금요일\", 6: \"토요일\", 7: \"일요일\"}\n",
        "요일데이터.items() # 인덱싱이나 슬라이싱이 가능하진 않습니다.\n",
        "# 요일데이터.items()[0]\n",
        "# 요일데이터.items()[0:3]\n",
        "# for i in 요일데이터.items():\n",
        "#     print(i)\n",
        "\n",
        "\n",
        "# 'keys'\n",
        "요일데이터.keys()\n",
        "\n",
        "# 'values'\n",
        "요일데이터.values()\n",
        "'월요일' in 요일데이터.values()\n",
        "\n",
        "# 'pop' # popitem하고 혼동할 가능성이 큽니다.\n",
        "data = {'one': 'hello', 'two': 'world'}\n",
        "data.pop('one')\n",
        "data\n",
        "\n",
        "# 'popitem' # popitem하고 혼동할 가능성이 큽니다.\n",
        "numbers = {'one': '하나', 'two': '둘', 'three': '셋'}\n",
        "item = numbers.popitem()\n",
        "numbers\n",
        "\n",
        "# 'setdefault': 있으면 건드리지 않고, 없으면 건드립니다!\n",
        "numbers = {'one': '하나', 'two': '둘', 'three': '셋'}\n",
        "four_value = numbers.setdefault(\"three\", \"넷\") # three가 있으면 세팅을 하지 않고\n",
        "four_value = numbers.setdefault(\"four\", \"넷\") # four가 없으면 세팅을 합니다.\n",
        "\n",
        "\n",
        "# 'update'\n",
        "numbers = {'one': '하나', 'two': '둘', 'three': '셋'}\n",
        "numbers.update({'four': '넷', 'five': '다섯'})\n",
        "print(numbers)\n",
        "\n",
        "# => | 새로 생긴 연산자!\n",
        "{'one': '하나', 'two': '둘', 'three': '셋'} | {'four': '넷', 'five': '다섯'}"
      ],
      "metadata": {
        "colab": {
          "base_uri": "https://localhost:8080/"
        },
        "id": "7C6j2V7VK-hw",
        "outputId": "3b58f3d8-e87c-41a5-9a3d-0129f4ae0658"
      },
      "execution_count": null,
      "outputs": [
        {
          "output_type": "stream",
          "name": "stdout",
          "text": [
            "{'one': '하나', 'two': '둘', 'three': '셋', 'four': '넷', 'five': '다섯'}\n"
          ]
        },
        {
          "output_type": "execute_result",
          "data": {
            "text/plain": [
              "{'one': '하나', 'two': '둘', 'three': '셋', 'four': '넷', 'five': '다섯'}"
            ]
          },
          "metadata": {},
          "execution_count": 64
        }
      ]
    },
    {
      "cell_type": "markdown",
      "source": [
        "## set"
      ],
      "metadata": {
        "id": "juBNKKRZjmKT"
      }
    },
    {
      "cell_type": "code",
      "source": [
        "# 실무에서 출몰하는 빈도가 낮습니다.\n",
        "# 집합, 중복제거 용으로 사용합니다.\n",
        "\n",
        "set('123123111')\n",
        "set([1, 2, 3, 1, 2, 3, 1, 1, 1])\n",
        "{1, 2, 2, 2, 2, 3, 3, 3, 3}"
      ],
      "metadata": {
        "colab": {
          "base_uri": "https://localhost:8080/"
        },
        "id": "13eLdJmjjnw3",
        "outputId": "2a510ea5-1cd3-4625-f103-a4258de842d8"
      },
      "execution_count": null,
      "outputs": [
        {
          "output_type": "execute_result",
          "data": {
            "text/plain": [
              "{1, 2, 3}"
            ]
          },
          "metadata": {},
          "execution_count": 68
        }
      ]
    },
    {
      "cell_type": "code",
      "source": [
        "# 순서가 없습니다.\n",
        "# 순회가능한 객체입니다.\n",
        "for i in {1, 1, 1, 2, 2, 2, 3, 3, 3, 3}:\n",
        "  print(i)\n",
        "\n",
        "# 교집합, 차집합, 합집합\n",
        "a = {1, 2, 3, 4}\n",
        "b = {3, 4, 5, 6}\n",
        "\n",
        "a & b # 교집합\n",
        "a - b # 차집합\n",
        "a | b # 합집합\n",
        "\n",
        "dir(a) # intersection 교집합 => 그러나 기호로 더 많이 사용합니다.\n"
      ],
      "metadata": {
        "id": "lnvSOQUUjxSA"
      },
      "execution_count": null,
      "outputs": []
    },
    {
      "cell_type": "code",
      "source": [
        "a = 10\n",
        "\n",
        "a + 100 # 이것과\n",
        "a.__add__(100) # 이것은 완전히 동일한 연산입니다!\n",
        "\n",
        "# 우리는 위에 기호를 더 많이 사용하죠?"
      ],
      "metadata": {
        "id": "4Ar4LqmdkqRH"
      },
      "execution_count": null,
      "outputs": []
    },
    {
      "cell_type": "markdown",
      "source": [
        "# 함수"
      ],
      "metadata": {
        "id": "mDTgrKs9lHSL"
      }
    },
    {
      "cell_type": "markdown",
      "source": [
        "## 함수 기본 개념"
      ],
      "metadata": {
        "id": "xsLmpHQlvrPZ"
      }
    },
    {
      "cell_type": "code",
      "source": [
        "# 누가 봐도 집짓기\n",
        "# 이해하기 좋습니다\n",
        "# 추상화가 잘 되어 있어 그렇습니다.\n",
        "# 코드를 함수로 만들면 추상화가 되는 것입니다!\n",
        "\n",
        "땅구매하기()\n",
        "땅다지기()\n",
        "벽돌쌓기()\n",
        "벽돌쌓기()\n",
        "벽돌쌓기()\n",
        "벽돌쌓기()\n",
        "구획나누기()\n",
        "지붕올리기()"
      ],
      "metadata": {
        "id": "SoZoYB37lLjg"
      },
      "execution_count": null,
      "outputs": []
    },
    {
      "cell_type": "code",
      "source": [
        "# tab, 띄어쓰기 4칸은 다릅니다.\n",
        "# 함수 내부 띄어쓰기 => 띄어쓰기 4칸이 권고사항\n",
        "# python도 def을 보면 그 안에 있는 내용은 읽지 않습니다.\n",
        "# 호출 해야 읽습니다.\n",
        "\n",
        "def add(x, y): # 함수의 정의\n",
        "    x = x + 10 # 함수의 기능\n",
        "    y = y + 10\n",
        "    return x + y # add가 있던 자리에 결과 값이 들어갑니다\n",
        "\n",
        "print(add(10, 20) + add(5, 10))"
      ],
      "metadata": {
        "colab": {
          "base_uri": "https://localhost:8080/"
        },
        "id": "eusJUA2Snrc5",
        "outputId": "f7afe807-bf2f-47e2-8c62-a69462cd22a2"
      },
      "execution_count": null,
      "outputs": [
        {
          "output_type": "stream",
          "name": "stdout",
          "text": [
            "85\n"
          ]
        }
      ]
    },
    {
      "cell_type": "code",
      "source": [
        "# 복습 X\n",
        "# 일급함수, 고차함수, 00P => 중급 이상에게는 중요한 내용입니다.\n",
        "# 클로저, 데코레이터\n",
        "hojun = print\n",
        "hojun('hello')\n",
        "\n",
        "l = [print, print, print]\n",
        "l[0]('hello world')"
      ],
      "metadata": {
        "id": "JfF4U--Zn5dI"
      },
      "execution_count": null,
      "outputs": []
    },
    {
      "cell_type": "code",
      "source": [
        "# https://school.programmers.co.kr/learn/courses/30/lessons/120807?language=python3\n",
        "\n",
        "# 정수 num1과 num2가 매개변수로 주어집니다.\n",
        "# 두 수가 같으면 1 다르면 -1을 retrun하도록 solution 함수를 완성해주세요.\n",
        "\n",
        "# 코드 리뷰\n",
        "def solution(num1, num2):\n",
        "    if num1 == num2:\n",
        "       answer = 1 # 사용할 필요가 없는 변수 선언\n",
        "    else:        # 함수에서는 return은 종료이기 때문에 else가 필요 없다!\n",
        "       answer = -1\n",
        "    return answer\n",
        "\n",
        "def solution(num1, num2):\n",
        "    if num1 == num2:\n",
        "       return 1\n",
        "    return -1\n",
        "\n",
        "def solution(num1, num2):\n",
        "    return 1 if num1 == num2 else -1\n",
        "\n",
        "print(solution(2, 3))\n",
        "print(solution(11, 11))\n",
        "print(solution(7, 99))"
      ],
      "metadata": {
        "colab": {
          "base_uri": "https://localhost:8080/"
        },
        "id": "Bv9qiuxepzjU",
        "outputId": "2b55515f-e4f2-4fb6-d62c-61816de3e278"
      },
      "execution_count": null,
      "outputs": [
        {
          "output_type": "stream",
          "name": "stdout",
          "text": [
            "-1\n",
            "1\n",
            "-1\n"
          ]
        }
      ]
    },
    {
      "cell_type": "code",
      "source": [
        "# 파선아실\n",
        "def hello(value): # 파라미터 -> 선언할 때\n",
        "    return value ** 2\n",
        "hello(10) # 아규먼트 -> 실행할 때"
      ],
      "metadata": {
        "id": "AU2ZPGVWqZ3-"
      },
      "execution_count": null,
      "outputs": []
    },
    {
      "cell_type": "markdown",
      "source": [
        "## lambda"
      ],
      "metadata": {
        "id": "aJrJ3uK7vud9"
      }
    },
    {
      "cell_type": "code",
      "source": [
        "# 난이도 가있으나\n",
        "# 복습을 하셔야 합니다.\n",
        "\n",
        "hello = lambda x: x**2 # 파라미터 x -> 선언할 때\n",
        "hello(10) # 아규먼트 -> 실행할 때\n",
        "\n",
        "def solution(num1, num2):\n",
        "    return 1 if num1 == num2 else -1\n",
        "\n",
        "solution = lambda num1, num2: 1 if num1 == num2 else -1\n"
      ],
      "metadata": {
        "id": "7Fff1P-0u6HO"
      },
      "execution_count": null,
      "outputs": []
    },
    {
      "cell_type": "markdown",
      "source": [
        "## python built-in functions"
      ],
      "metadata": {
        "id": "PDv8YWKUvoeQ"
      }
    },
    {
      "cell_type": "code",
      "source": [
        "# https://docs.python.org/3/library/functions.html\n",
        "\n",
        "# all() => 모두가 다 True여야 True\n",
        "# any() => 하나만 True여야 True\n",
        "\n",
        "all([True, True, True])\n",
        "all([True, True, False])\n",
        "any([True, True, True])\n",
        "any([True, False, False])\n"
      ],
      "metadata": {
        "id": "_lkji20xvzSe",
        "colab": {
          "base_uri": "https://localhost:8080/"
        },
        "outputId": "0de95538-0bed-4565-9f75-56068f0b8f5a"
      },
      "execution_count": null,
      "outputs": [
        {
          "output_type": "execute_result",
          "data": {
            "text/plain": [
              "True"
            ]
          },
          "metadata": {},
          "execution_count": 233
        }
      ]
    },
    {
      "cell_type": "code",
      "source": [
        "chr(65) # 유니코드표에서 대문자 'A'\n",
        "ord('A') # 유니코드표에서 'A'"
      ],
      "metadata": {
        "id": "oCfMJOMuwLVw",
        "colab": {
          "base_uri": "https://localhost:8080/"
        },
        "outputId": "fa6e0fe1-73f5-4023-e42f-bfc825124e49"
      },
      "execution_count": null,
      "outputs": [
        {
          "output_type": "execute_result",
          "data": {
            "text/plain": [
              "65"
            ]
          },
          "metadata": {},
          "execution_count": 235
        }
      ]
    },
    {
      "cell_type": "markdown",
      "source": [
        "### map\n",
        "\n",
        "* 별표 3개\n",
        "* 특정 연산할 때 많이 사용하고, '데이터를 추출(면접문제)'할 때에도 많이 사용합니다."
      ],
      "metadata": {
        "id": "pyNUa83zwwiS"
      }
    },
    {
      "cell_type": "code",
      "source": [
        "def 제곱(x):\n",
        "    return x ** 2\n",
        "\n",
        "map(제곱, [1, 2, 3, 4, 5]) # 주소값, 메모리 효율을 위해서 연산되기 '전' 입니다. 직접 호출을 해야 하나씩 꺼내며 연산합니다.\n",
        "# for i in map(제곱, [1, 2, 3, 4, 5]):\n",
        "#     print(i)\n",
        "\n",
        "\n",
        "list(map(제곱, [1, 2, 3, 4, 5]))\n",
        "# list(map(더하기, [1, 2, 3, 4, 5]))\n",
        "# list(map(lambda x: x + 10, [1, 2, 3, 4, 5]))\n"
      ],
      "metadata": {
        "id": "yZ6Wk23Xw21d",
        "colab": {
          "base_uri": "https://localhost:8080/"
        },
        "outputId": "2b9bd849-8a3d-477e-cf7f-0cd21e7779c1"
      },
      "execution_count": null,
      "outputs": [
        {
          "output_type": "execute_result",
          "data": {
            "text/plain": [
              "[1, 4, 9, 16, 25]"
            ]
          },
          "metadata": {},
          "execution_count": 241
        }
      ]
    },
    {
      "cell_type": "code",
      "source": [
        "data = [\n",
        "  {\n",
        "    \"_id\": \"0cdda387-38a6-438f-C60a-e1d837a54882\",\n",
        "    \"index\": \"1\",\n",
        "    \"age\": 30,\n",
        "    \"name\": \"당혜선\",\n",
        "    \"email\": \"user-xi4ivve@vel.org\",\n",
        "    \"phone\": \"010-3357-3626\",\n",
        "    \"country\": \"파나마\",\n",
        "    \"address\": \"봉은사로 43-7\",\n",
        "    \"job\": \"애니메이터\"\n",
        "  },\n",
        "  {\n",
        "    \"_id\": \"21b6f1a0-f3d6-4c52-B5e9-8733f3585822\",\n",
        "    \"index\": \"2\",\n",
        "    \"age\": 25,\n",
        "    \"name\": \"증세환\",\n",
        "    \"email\": \"user-7zhey8m@labore.org\",\n",
        "    \"phone\": \"010-8259-1734\",\n",
        "    \"country\": \"레바논\",\n",
        "    \"address\": \"보문로 53-9\",\n",
        "    \"job\": \"화학공학기술자\"\n",
        "  },\n",
        "  {\n",
        "    \"_id\": \"b6dceeb9-6cf7-4094-B13c-06a388cce9fb\",\n",
        "    \"index\": \"3\",\n",
        "    \"age\": 35,\n",
        "    \"name\": \"관희주\",\n",
        "    \"email\": \"user-5zvdcmt@fermentum.co.kr\",\n",
        "    \"phone\": \"010-4224-7558\",\n",
        "    \"country\": \"파키스탄\",\n",
        "    \"address\": \"선릉로 85-3\",\n",
        "    \"job\": \"응급구조사\"\n",
        "  }\n",
        "]\n",
        "\n",
        "def 데이터뽑기(x):\n",
        "    return x['job']\n",
        "\n",
        "list(map(lambda x: x['job'], data)) # 중복허락\n",
        "set(map(lambda x: x['job'], data)) # 중복허락 X\n",
        "\n",
        "list(map(lambda x: x['age'] >= 30, data))\n",
        "# sum(list(map(lambda x: x['age'] >= 30, data))) # 좋지 않은 코드입니다. => list로 형변환 하는 것 자체가 부담\n",
        "sum(map(lambda x: x['age'] >= 30, data))\n"
      ],
      "metadata": {
        "colab": {
          "base_uri": "https://localhost:8080/"
        },
        "id": "9AuJgFaIymuv",
        "outputId": "598c1068-98fc-4193-80e8-93837350c8ec"
      },
      "execution_count": null,
      "outputs": [
        {
          "output_type": "execute_result",
          "data": {
            "text/plain": [
              "2"
            ]
          },
          "metadata": {},
          "execution_count": 82
        }
      ]
    },
    {
      "cell_type": "code",
      "source": [
        "# '123akdkei29jwkdkf12k3k2k11k2k3k1' 에서 숫자가 몇 개인가? 또는 문자가 몇 개인가?\n",
        "\n",
        "list(map(lambda x: x.isdigit(), 'hello wor1ld'))\n",
        "sum(map(lambda x: x.isdigit(), 'hello wor1ld'))\n",
        "\n",
        "# 'ke9k2k1l2l3'에서 숫자를 모두 더하라!\n",
        "list(map(lambda x: int(x) if x.isdigit() else False, 'hell2o wor1ld'))\n",
        "sum(map(lambda x: int(x) if x.isdigit() else False, 'hell2o wor1ld'))\n",
        "\n",
        "# 예를들어 점 = [1, 3, 4, 8, 13, 17, 20]\n",
        "# 점 사이가 가장 짧은 것은?\n",
        "dot = [1, 3, 4, 8, 13, 17, 20]\n",
        "list(zip(dot, dot[1:])) # => zip 아직 안배워서 선언해서 다시!\n",
        "\n",
        "dot = [(1, 3), (3, 4), (4, 8), (8, 13), (13, 17), (17, 20)]\n",
        "list(map(lambda data: data[1] - data[0], dot))\n",
        "\n",
        "sorted(dot, key=lambda data: data[1] - data[0])[0]\n"
      ],
      "metadata": {
        "colab": {
          "base_uri": "https://localhost:8080/"
        },
        "id": "en1P96P3z5rw",
        "outputId": "a13c33ce-2ab3-4c89-c53c-f03cd060e364"
      },
      "execution_count": null,
      "outputs": [
        {
          "output_type": "execute_result",
          "data": {
            "text/plain": [
              "(3, 4)"
            ]
          },
          "metadata": {},
          "execution_count": 242
        }
      ]
    },
    {
      "cell_type": "code",
      "source": [
        "# 실무에서 자주 사용하는 패턴\n",
        "\n",
        "list(map(int, '123123'))\n",
        "list(map(int, ['1', '23' ,'123']))\n",
        "\n",
        "list(map(str.isdigit, '123r1t2t3'))\n",
        "sum(map(str.isdigit, '123r1t2t3'))"
      ],
      "metadata": {
        "colab": {
          "base_uri": "https://localhost:8080/"
        },
        "id": "gx_lc2rz2QSl",
        "outputId": "404e4842-8f19-4bba-b7c0-f5bde814f38e"
      },
      "execution_count": null,
      "outputs": [
        {
          "output_type": "execute_result",
          "data": {
            "text/plain": [
              "6"
            ]
          },
          "metadata": {},
          "execution_count": 170
        }
      ]
    },
    {
      "cell_type": "markdown",
      "source": [
        "### filter\n",
        "* 별표 2개"
      ],
      "metadata": {
        "id": "ezS5Jc7h3GCm"
      }
    },
    {
      "cell_type": "code",
      "source": [
        "filter(lambda x: x > 10, [110, 20, 21, 51, 9, 2, 5, 112])\n",
        "list (filter(lambda x: x > 10, [110, 20, 21, 51, 9, 2, 5, 112])) # map과 달리 True인 것만 뽑아서 줍니다."
      ],
      "metadata": {
        "colab": {
          "base_uri": "https://localhost:8080/"
        },
        "id": "UxWCsGy23KKF",
        "outputId": "6f177b93-e7ab-4076-f35d-b021bdbc621b"
      },
      "execution_count": null,
      "outputs": [
        {
          "output_type": "execute_result",
          "data": {
            "text/plain": [
              "[110, 20, 21, 51, 112]"
            ]
          },
          "metadata": {},
          "execution_count": 100
        }
      ]
    },
    {
      "cell_type": "code",
      "source": [
        "반별점수 = [[80, 70, 30], [80, 70, 92], [80, 95, 84]]\n",
        "list(filter(lambda x: sum(x) > 80 * 3, 반별점수))"
      ],
      "metadata": {
        "colab": {
          "base_uri": "https://localhost:8080/"
        },
        "id": "8buMo0XE7EJ_",
        "outputId": "38d976a5-c574-4bf9-8780-b9eb06499439"
      },
      "execution_count": null,
      "outputs": [
        {
          "output_type": "execute_result",
          "data": {
            "text/plain": [
              "[[80, 70, 92], [80, 95, 84]]"
            ]
          },
          "metadata": {},
          "execution_count": 175
        }
      ]
    },
    {
      "cell_type": "code",
      "source": [
        "list(zip('hello', 'world', [10, 20, 30, 40]))\n",
        "list(zip([1, 2, 3, 4], [10, 20]))\n",
        "list(zip(range(10), [10, 20, 30, 40]))\n"
      ],
      "metadata": {
        "colab": {
          "base_uri": "https://localhost:8080/"
        },
        "id": "G0p0pFUQ7MNT",
        "outputId": "4d13ab4b-e0dc-4a07-ea21-0ff8b378c9d1"
      },
      "execution_count": null,
      "outputs": [
        {
          "output_type": "execute_result",
          "data": {
            "text/plain": [
              "[('h', 'w', 10), ('e', 'o', 20), ('l', 'r', 30), ('l', 'l', 40)]"
            ]
          },
          "metadata": {},
          "execution_count": 174
        }
      ]
    },
    {
      "cell_type": "code",
      "source": [
        "# 복습 X\n",
        "# 중상급자는 배워야 합니다.\n",
        "# 난이도 별 3.5개\n",
        "# 제너레이터 -> 이터레이터를 생성해주는 것, 이터러블한 객체를 생성해주는 것\n",
        "\n",
        "def gen():\n",
        "    x = 0\n",
        "    while True:\n",
        "        yield x\n",
        "        x += 1\n",
        "\n",
        "list(zip(gen(), 'hello world'))\n"
      ],
      "metadata": {
        "id": "csFjTm9i7ezu"
      },
      "execution_count": null,
      "outputs": []
    },
    {
      "cell_type": "code",
      "source": [
        "# 문제: 다음 글자를 2글자씩(2grem) 묶어주세요\n",
        "\n",
        "'hello'\n",
        "\n",
        "# he\n",
        "# eo\n",
        "# ll\n",
        "# lo\n",
        "\n",
        "s = 'hello'\n",
        "list(zip(s, s[1:]))\n",
        "list(map(lambda x: x[0] + x[1], zip(s, s[1:])))"
      ],
      "metadata": {
        "colab": {
          "base_uri": "https://localhost:8080/"
        },
        "id": "echrNpyj8RW-",
        "outputId": "f6d3720d-4089-4d3f-d0ce-c6067a673f1b"
      },
      "execution_count": null,
      "outputs": [
        {
          "output_type": "execute_result",
          "data": {
            "text/plain": [
              "['he', 'el', 'll', 'lo']"
            ]
          },
          "metadata": {},
          "execution_count": 108
        }
      ]
    },
    {
      "cell_type": "code",
      "source": [
        "format(100000000000, ',')"
      ],
      "metadata": {
        "id": "0HbKnkOO9EWn"
      },
      "execution_count": null,
      "outputs": []
    },
    {
      "cell_type": "code",
      "source": [
        "len([1, 2, 3, 4, 5])\n",
        "len('hello world')"
      ],
      "metadata": {
        "colab": {
          "base_uri": "https://localhost:8080/"
        },
        "id": "mAW8DQe-9Hho",
        "outputId": "08f0c437-84c0-4d99-e609-27cdf2c986d0"
      },
      "execution_count": null,
      "outputs": [
        {
          "output_type": "execute_result",
          "data": {
            "text/plain": [
              "5"
            ]
          },
          "metadata": {},
          "execution_count": 146
        }
      ]
    },
    {
      "cell_type": "code",
      "source": [
        "max([5, 4, 7, 2, 3, 1])\n",
        "min([5, 4, 7, 2, 3, 1])\n",
        "sum([5, 4, 7, 2, 3, 1])\n",
        "\n",
        "# 3개 모두 다차원 리스트에서 사용할 수 없습니다.\n",
        "# 사용을 하려면 '평탄화'를 하셔야 합니다.\n",
        "# 평탄화는 아래와 같이 할 수 있습니다.\n"
      ],
      "metadata": {
        "id": "YkbZiopJ9O0t"
      },
      "execution_count": null,
      "outputs": []
    },
    {
      "cell_type": "code",
      "source": [
        "# numpy는 선형대수\n",
        "# pandas는 데이터 분석\n",
        "import numpy as np\n",
        "\n",
        "x = np.array([[[1, 2], [3, 4]], [[1, 2], [3, 4]]])\n",
        "x.flatten()"
      ],
      "metadata": {
        "id": "dG3D-xmM-a14"
      },
      "execution_count": null,
      "outputs": []
    },
    {
      "cell_type": "markdown",
      "source": [
        "### range, enumerate\n",
        "\n",
        "* 별 3개"
      ],
      "metadata": {
        "id": "TkiFtu0L_Ji5"
      }
    },
    {
      "cell_type": "code",
      "source": [
        "range(10) # 생성된 [0, 1, 2, 3, 4, 5, 6, 7, 8, 9]를 주지 않습니다! 2.x가 list라서 이렇게 주어 문제가 되었어요.\n",
        "range(10000000000000000000000000000000000000) # 2.x에서는 문제!\n",
        "# start, stop, step값만 가지고 '현재값', '다음값'만 추출할 수 있게 하겠다.\n",
        "# range는 2.x에서는 list였다가 3.x에서는 int, float와 같은 range라는 타입이 되었습니다.\n",
        "list(range(10, 30, 2))\n",
        "\n",
        "# step 값은 생략이 가능합니다. step == 1\n",
        "list(range(10, 20))\n",
        "\n",
        "# start 값도 생략이 가능합니다. start == 0\n",
        "list(range(5))"
      ],
      "metadata": {
        "colab": {
          "base_uri": "https://localhost:8080/"
        },
        "id": "oFfT63Ge_VHW",
        "outputId": "e4a76ee7-3ee5-43d1-dca4-e5e63006e82a"
      },
      "execution_count": null,
      "outputs": [
        {
          "output_type": "execute_result",
          "data": {
            "text/plain": [
              "[0, 1, 2, 3, 4]"
            ]
          },
          "metadata": {},
          "execution_count": 110
        }
      ]
    },
    {
      "cell_type": "code",
      "source": [
        "가수 = ['아이유', 'BTS', '뉴진스']\n",
        "\n",
        "list(enumerate(가수))\n",
        "list(enumerate(가수, 100))"
      ],
      "metadata": {
        "id": "OoFFdnhQAwOm",
        "colab": {
          "base_uri": "https://localhost:8080/"
        },
        "outputId": "b1632bc3-fdde-4454-ba5b-6ab4f721947c"
      },
      "execution_count": 1,
      "outputs": [
        {
          "output_type": "execute_result",
          "data": {
            "text/plain": [
              "[(100, '아이유'), (101, 'BTS'), (102, '뉴진스')]"
            ]
          },
          "metadata": {},
          "execution_count": 1
        }
      ]
    },
    {
      "cell_type": "markdown",
      "source": [
        "### sorted\n",
        "* 별 3개"
      ],
      "metadata": {
        "id": "siZRsTloBPq5"
      }
    },
    {
      "cell_type": "code",
      "source": [
        "sorted([[10, 20, 30], [40, 50, 60], [95, 10, 45]], key=lambda x: x[0])\n",
        "sorted([[10, 20, 30], [40, 50, 60], [95, 10, 45]], key=lambda x: x[1], reverse = True)\n",
        "sorted([[10, 20, 30], [40, 50, 60], [95, 10, 45]], key=lambda x: x[2], reverse = True)\n",
        "sorted([[10, 20, 30], [40, 50, 60], [95, 10, 45]], key=lambda x: sum(x), reverse = True)"
      ],
      "metadata": {
        "colab": {
          "base_uri": "https://localhost:8080/"
        },
        "id": "-QcYzCcMBSHM",
        "outputId": "99cb347f-14b5-4f44-d93d-e01035a0c781"
      },
      "execution_count": null,
      "outputs": [
        {
          "output_type": "execute_result",
          "data": {
            "text/plain": [
              "[[40, 50, 60], [95, 10, 45], [10, 20, 30]]"
            ]
          },
          "metadata": {},
          "execution_count": 113
        }
      ]
    },
    {
      "cell_type": "code",
      "source": [
        "# 일반 정렬 문제가 아니라\n",
        "# 데이터를 참조해서 푸는 유형\n",
        "\n",
        "지역번호 = {\n",
        "    '인천': '032',\n",
        "    '제주': '064',\n",
        "    '천안': '041'\n",
        "}\n",
        "\n",
        "# 주어진 데이터가 ['천안', '제주', '인천']인데 지역번호 순서대로 정렬하라!\n",
        "sorted(['천안', '제주', '인천'], key=lambda x: 지역번호[x])\n",
        "# => 지역번호[x]\n",
        "# [041, 064, 032]를 정렬하는 것과 비슷합니다!"
      ],
      "metadata": {
        "id": "h9Ozd3xOT2DX"
      },
      "execution_count": null,
      "outputs": []
    },
    {
      "cell_type": "code",
      "source": [
        "# https://school.programmers.co.kr/learn/courses/30/lessons/120835?language=python3\n",
        "\n",
        "주어진데이터 = [3, 76, 24]\n",
        "진료순서 = sorted([3, 76, 24], reverse=True)\n",
        "list(map(lambda x:진료순서.index(x)+1, 주어진데이터))\n"
      ],
      "metadata": {
        "colab": {
          "base_uri": "https://localhost:8080/"
        },
        "id": "UAlfiyyGB7Fi",
        "outputId": "bde41db7-bc26-4217-a443-4557268efa67"
      },
      "execution_count": null,
      "outputs": [
        {
          "output_type": "execute_result",
          "data": {
            "text/plain": [
              "[3, 1, 2]"
            ]
          },
          "metadata": {},
          "execution_count": 142
        }
      ]
    },
    {
      "cell_type": "code",
      "source": [
        "# 평균이 동일할 때\n",
        "# 반에서 등수를 매길 때 국어 점수가 가장 중요하고, 수학 점수가 두 번째로 중요하다!\n",
        "반점수 = [[30, 30, 30], [30, 40, 20], [30, 25, 35], [60, 30, 0]]\n",
        "\n",
        "sorted(반점수, key=lambda x:(sum(x), x[0], x[1]), reverse=True)\n",
        "\n",
        "[                 # (sum(x), x[0], x[1]\n",
        "    [30, 30, 30], # (30, 30, 30)\n",
        "    [30, 40, 20], # (30, 30, 40)\n",
        "    [30, 25, 35], # (30, 30, 25)\n",
        "    [60, 30, 0]   # (30, 60, 30)\n",
        "]"
      ],
      "metadata": {
        "colab": {
          "base_uri": "https://localhost:8080/"
        },
        "id": "onU_jmTGGFpM",
        "outputId": "49032459-f604-4426-dfde-0a2440851f33"
      },
      "execution_count": null,
      "outputs": [
        {
          "output_type": "execute_result",
          "data": {
            "text/plain": [
              "[[60, 30, 0], [30, 40, 20], [30, 30, 30], [30, 25, 35]]"
            ]
          },
          "metadata": {},
          "execution_count": 118
        }
      ]
    },
    {
      "cell_type": "markdown",
      "source": [
        "# 조건문"
      ],
      "metadata": {
        "id": "nvo-_d4jI4d1"
      }
    },
    {
      "cell_type": "code",
      "source": [
        "if True:\n",
        "    print('hello 1')\n",
        "\n",
        "if False:\n",
        "    print('hello 2')\n",
        "\n",
        "if 10 > 5:\n",
        "    print('hello 3')\n",
        "\n",
        "one = 10\n",
        "two = 5\n",
        "if one > two:\n",
        "    print('hello 4')"
      ],
      "metadata": {
        "colab": {
          "base_uri": "https://localhost:8080/"
        },
        "id": "5550TeS_I98_",
        "outputId": "0837661c-6875-40d2-867f-baf8829196da"
      },
      "execution_count": null,
      "outputs": [
        {
          "output_type": "stream",
          "name": "stdout",
          "text": [
            "hello 1\n",
            "hello 3\n",
            "hello 4\n"
          ]
        }
      ]
    },
    {
      "cell_type": "code",
      "source": [
        "if 10 > 5: print('hello 3') # 한 줄에 사용하는 if는 저희 회사에서는 금지입니다."
      ],
      "metadata": {
        "id": "r01u6P8VJmSv"
      },
      "execution_count": null,
      "outputs": []
    },
    {
      "cell_type": "code",
      "source": [
        "if False:\n",
        "    print('one')\n",
        "elif True:\n",
        "    print('two')\n",
        "print('end')\n"
      ],
      "metadata": {
        "colab": {
          "base_uri": "https://localhost:8080/"
        },
        "id": "vK7MKFiQJxZk",
        "outputId": "5f10152c-d99c-483a-f11b-adf5456c628a"
      },
      "execution_count": null,
      "outputs": [
        {
          "output_type": "stream",
          "name": "stdout",
          "text": [
            "one\n",
            "end\n"
          ]
        }
      ]
    },
    {
      "cell_type": "code",
      "source": [
        "score = 90\n",
        "money = 1000\n",
        "\n",
        "if score >= 90:\n",
        "    print('mom: i\\'m so happy!!')\n",
        "    money += 1000000\n",
        "elif score >= 80:\n",
        "    print('mom: i\\'m happy!!')\n",
        "    money += 100000\n",
        "elif score >= 70:\n",
        "    print('mom: happy!!')\n",
        "    money += 10000\n",
        "else:                     # for - else, try - else도 있어서 다른 구문에서도 많이 사용됩니다.\n",
        "    print('mom: happy?')\n",
        "    money += 1000\n",
        "\n",
        "money"
      ],
      "metadata": {
        "id": "subgaRuVJ4hu"
      },
      "execution_count": null,
      "outputs": []
    },
    {
      "cell_type": "code",
      "source": [
        "a = 100 if True else 10\n",
        "a"
      ],
      "metadata": {
        "colab": {
          "base_uri": "https://localhost:8080/"
        },
        "id": "pDD0u8gSLBo5",
        "outputId": "6f5d146d-2705-48b4-eb1f-77057d20b259"
      },
      "execution_count": null,
      "outputs": [
        {
          "output_type": "execute_result",
          "data": {
            "text/plain": [
              "100"
            ]
          },
          "metadata": {},
          "execution_count": 123
        }
      ]
    },
    {
      "cell_type": "code",
      "source": [
        "solution = lambda num1, num2: 1 if num1 == num2 else -1\n",
        "\n",
        "def solution(num1, num2):\n",
        "    return 1 if num1 == num2 else -1"
      ],
      "metadata": {
        "id": "OvVBGwGHLWqz"
      },
      "execution_count": null,
      "outputs": []
    },
    {
      "cell_type": "code",
      "source": [
        "# 복습 X  => 다중 if => 가독성 해침\n",
        "num1 = 100\n",
        "num2 = 2\n",
        "num3 = 5\n",
        "\n",
        "if num1 % num2 == 0:\n",
        "    if num1 % num3 == 0:\n",
        "        print('2와 5의 배수입니다!')"
      ],
      "metadata": {
        "colab": {
          "base_uri": "https://localhost:8080/"
        },
        "id": "MJLzeJSHLt67",
        "outputId": "758a0e0d-e860-42d4-a151-05677bcf60c4"
      },
      "execution_count": null,
      "outputs": [
        {
          "output_type": "stream",
          "name": "stdout",
          "text": [
            "2와 5의 배수입니다!\n"
          ]
        }
      ]
    },
    {
      "cell_type": "code",
      "source": [
        "num1 = 100\n",
        "num2 = 2\n",
        "num3 = 5\n",
        "\n",
        "if num1 % num2 == 0 and num1 % num3 == 0:\n",
        "    print('2와 5의 배수입니다!')"
      ],
      "metadata": {
        "id": "NdsmNYW1MBoE"
      },
      "execution_count": null,
      "outputs": []
    },
    {
      "cell_type": "markdown",
      "source": [
        "# 컴프리헨션"
      ],
      "metadata": {
        "id": "IU5WXKXwM0GL"
      }
    },
    {
      "cell_type": "code",
      "source": [
        "# google convension에서도 컴프리헨션을 2중 이상으로 사용하지 말라고 권고합니다.\n",
        "# 컴프리헨션 문법은 Core가 C로 되어 있습니다.\n",
        "# 속도가 일반 for문보다 매우 빠릅니다.\n",
        "l = [10, 20, 30, 40]\n",
        "[i for i in l]\n",
        "[i * 2 for i in l]\n",
        "[i % 2 == 0 for i in l]\n",
        "\n",
        "l = [10, 20, 30, 33, 40, 43]\n",
        "['짝수야!' if i % 2 == 0 else '홀수야!' for i in l]\n",
        "\n",
        "# 금지\n",
        "# ['짝수야!' if i % 2 == 0 else ('40이 넘는 홀수야!' if i > 40 else '40 이하인 홀수야!') for i in l] # reject! 다시 코딩 하세요.\n",
        "# [f'{i} X {j} = {i * j}' for i in range(2, 10) for j in range(1, 10)]"
      ],
      "metadata": {
        "colab": {
          "base_uri": "https://localhost:8080/"
        },
        "id": "Xw0-rAnbM10p",
        "outputId": "efa4372e-9535-4a68-d8af-bf0d52bc3777"
      },
      "execution_count": null,
      "outputs": [
        {
          "output_type": "execute_result",
          "data": {
            "text/plain": [
              "['짝수야!', '짝수야!', '짝수야!', '홀수야!', '짝수야!', '홀수야!']"
            ]
          },
          "metadata": {},
          "execution_count": 129
        }
      ]
    },
    {
      "cell_type": "code",
      "source": [
        "# 회사에서, 알고리즘 풀다가 1줄짜리 코드를 보게 되실겁니다.\n",
        "# 1줄로만 다 하시려 하는 분들\n",
        "# 가독성이 너무 떨어진다.\n",
        "# 성능은 좋을 수도 있고 아닐 수도 있다.\n",
        "# 가독성 > 성능 (우선순위)\n",
        "# solution = list(map(filter(map(filter(lambda x:x **2, lambda x:x **2, lambda x:x **2)))))\n",
        "\n",
        "# 백엔드 스타트업 Python-React(소규모), JAVA-Spring(대규모) -> 인재풀 때문"
      ],
      "metadata": {
        "id": "0bAwFLsyNPsH"
      },
      "execution_count": null,
      "outputs": []
    },
    {
      "cell_type": "code",
      "source": [
        "# 딕셔너리 컴프리헨션, 많이 사용하진 않습니다.\n",
        "# 전통적인 방법\n",
        "d = {}\n",
        "for i in range(5):\n",
        "    d[i] = i**2\n",
        "\n",
        "# 딕셔너리 컴프리헨션 사용\n",
        "dd = {i: i**2 for i in range(5)}"
      ],
      "metadata": {
        "id": "s1c3VCeqQb-b"
      },
      "execution_count": null,
      "outputs": []
    },
    {
      "cell_type": "markdown",
      "source": [
        "# match"
      ],
      "metadata": {
        "id": "mP_KhYAvQfFa"
      }
    },
    {
      "cell_type": "code",
      "source": [
        "# match는 오늘 배우고 잊으세요.\n",
        "# 앞으로 2 ~ 3년간 쓰기 힘듭니다.\n",
        "# 3.10버전에서 새로나온 문법인데 지금 Python 하시는 분들에게는 너무 생소한 문법입니다.\n",
        "!python --version"
      ],
      "metadata": {
        "colab": {
          "base_uri": "https://localhost:8080/"
        },
        "id": "30YMEVPyQgiR",
        "outputId": "542efb23-e162-4eb6-f91a-2f229270f06b"
      },
      "execution_count": null,
      "outputs": [
        {
          "output_type": "stream",
          "name": "stdout",
          "text": [
            "Python 3.10.12\n"
          ]
        }
      ]
    },
    {
      "cell_type": "code",
      "source": [
        "# C, JAVA, JavaScript 같은 경우\n",
        "# switch => dict의 get 사용하세요!\n",
        "# ++a, a++ => a += 1\n",
        "\n",
        "text = 'Hello World'\n",
        "match text:\n",
        "#    case 'Hello' or 'World': # error\n",
        "#        print('Hello')\n",
        "    case 'Hello':\n",
        "        print('Hello')\n",
        "    case 'World':\n",
        "        print('World')\n",
        "    case _:\n",
        "        print('No Match') # 결과 'No Match'"
      ],
      "metadata": {
        "colab": {
          "base_uri": "https://localhost:8080/"
        },
        "id": "13jGfA-SQ3u8",
        "outputId": "f14e8f42-2406-4df6-ef21-07d769781b07"
      },
      "execution_count": null,
      "outputs": [
        {
          "output_type": "stream",
          "name": "stdout",
          "text": [
            "No Match\n"
          ]
        }
      ]
    },
    {
      "cell_type": "code",
      "source": [
        "# 불만 1\n",
        "# text = 'Hello'\n",
        "# match text:\n",
        "#     case 'Hello' or 'World': # error\n",
        "#         print('Hello')\n",
        "#     case 'World':\n",
        "#         print('World')\n",
        "#     case _:\n",
        "#         print('No Match') # 결과 'No Match'"
      ],
      "metadata": {
        "id": "MQ8sGySUSMKo"
      },
      "execution_count": null,
      "outputs": []
    },
    {
      "cell_type": "code",
      "source": [
        "text = 2\n",
        "match text:\n",
        "    case 'Hello' | 2: # or는 |로, and는 &로 합니다.\n",
        "        print('Hello')\n",
        "    case 'World':\n",
        "        print('World')\n",
        "    case _:\n",
        "        print('No Match')"
      ],
      "metadata": {
        "id": "_wKe2Pl1SM0E"
      },
      "execution_count": null,
      "outputs": []
    },
    {
      "cell_type": "code",
      "source": [
        "요일 = 2\n",
        "match 요일:\n",
        "    case 1:\n",
        "        print('월요일')\n",
        "    case 2:\n",
        "        print('화요일')\n",
        "    case _:\n",
        "        print('No Match')"
      ],
      "metadata": {
        "colab": {
          "base_uri": "https://localhost:8080/"
        },
        "id": "OU7ZBg4ZSNxb",
        "outputId": "271ca6a3-e985-4e4c-b597-4c3137df0c9c"
      },
      "execution_count": null,
      "outputs": [
        {
          "output_type": "stream",
          "name": "stdout",
          "text": [
            "화요일\n"
          ]
        }
      ]
    },
    {
      "cell_type": "code",
      "source": [
        "# 불만2\n",
        "# 요일 = 2\n",
        "# match 요일:\n",
        "#     case 1:\n",
        "#     case 2:\n",
        "#         print('화요일')\n",
        "#     case _:\n",
        "#         print('No Match')"
      ],
      "metadata": {
        "id": "TG_WJ234SXhz"
      },
      "execution_count": null,
      "outputs": []
    },
    {
      "cell_type": "markdown",
      "source": [
        "# 타입비교"
      ],
      "metadata": {
        "id": "Lwkt4Pj5Sc8K"
      }
    },
    {
      "cell_type": "code",
      "source": [
        "a = 'hello'\n",
        "if type(a) == 'str':\n",
        "    print('hello world')\n",
        "\n",
        "if isinstance(a, str):\n",
        "    print('hello world 2')"
      ],
      "metadata": {
        "colab": {
          "base_uri": "https://localhost:8080/"
        },
        "id": "86C84ZXZShYi",
        "outputId": "11d8ffd8-af5a-4447-aeb5-a071775004d2"
      },
      "execution_count": null,
      "outputs": [
        {
          "output_type": "stream",
          "name": "stdout",
          "text": [
            "hello world 2\n"
          ]
        }
      ]
    },
    {
      "cell_type": "markdown",
      "source": [
        "# 반복문"
      ],
      "metadata": {
        "id": "SJVCd3u6KGrP"
      }
    },
    {
      "cell_type": "markdown",
      "source": [
        "## for"
      ],
      "metadata": {
        "id": "_qZBK9dqNlmC"
      }
    },
    {
      "cell_type": "code",
      "source": [
        "for i in [10, 20, 30, 40]:\n",
        "    print(i)\n",
        "    print('반복')\n",
        "print('end')\n"
      ],
      "metadata": {
        "colab": {
          "base_uri": "https://localhost:8080/"
        },
        "id": "FviGaelkKG_d",
        "outputId": "24b29dc2-30be-43ba-a590-5cb0a5609553"
      },
      "execution_count": null,
      "outputs": [
        {
          "output_type": "stream",
          "name": "stdout",
          "text": [
            "10\n",
            "반복\n",
            "20\n",
            "반복\n",
            "30\n",
            "반복\n",
            "40\n",
            "반복\n",
            "end\n"
          ]
        }
      ]
    },
    {
      "cell_type": "code",
      "source": [
        "for i in 'hello':\n",
        "    print(i)\n",
        "    print('반복')\n",
        "print('end')\n"
      ],
      "metadata": {
        "colab": {
          "base_uri": "https://localhost:8080/"
        },
        "id": "2a6-9wL8NyEy",
        "outputId": "912f735d-460b-41ae-a9d0-5abd551b8aa9"
      },
      "execution_count": null,
      "outputs": [
        {
          "output_type": "stream",
          "name": "stdout",
          "text": [
            "h\n",
            "반복\n",
            "e\n",
            "반복\n",
            "l\n",
            "반복\n",
            "l\n",
            "반복\n",
            "o\n",
            "반복\n",
            "end\n"
          ]
        }
      ]
    },
    {
      "cell_type": "code",
      "source": [
        "for i in {'one': '하나', 'two': '둘'}:\n",
        "    print(i) # key만 나옵니다.\n",
        "    print('반복')\n",
        "print('end')"
      ],
      "metadata": {
        "colab": {
          "base_uri": "https://localhost:8080/"
        },
        "id": "AoFctTBNOWmR",
        "outputId": "39639824-8591-429a-9b48-179d448b7cc3"
      },
      "execution_count": null,
      "outputs": [
        {
          "output_type": "stream",
          "name": "stdout",
          "text": [
            "one\n",
            "반복\n",
            "two\n",
            "반복\n",
            "end\n"
          ]
        }
      ]
    },
    {
      "cell_type": "code",
      "source": [
        "d = {'one': '하나', 'two': '둘'}\n",
        "for i in d.items():\n",
        "    print(i)\n",
        "    print('반복')\n",
        "print('end')"
      ],
      "metadata": {
        "colab": {
          "base_uri": "https://localhost:8080/"
        },
        "id": "IsxexibuO3Cj",
        "outputId": "690c20d3-6681-4709-cac6-7a5128e46960"
      },
      "execution_count": null,
      "outputs": [
        {
          "output_type": "stream",
          "name": "stdout",
          "text": [
            "('one', '하나')\n",
            "반복\n",
            "('two', '둘')\n",
            "반복\n",
            "end\n"
          ]
        }
      ]
    },
    {
      "cell_type": "code",
      "source": [
        "# set : 순서를 보장 X => 실제 특정 수까지만 보장, 그 이후엔 보장 X\n",
        "s = {1, 2, 3}\n",
        "for i in s:\n",
        "    print(i)\n",
        "    print('반복')\n",
        "print('end')"
      ],
      "metadata": {
        "colab": {
          "base_uri": "https://localhost:8080/"
        },
        "id": "tvZQLVbKO-ZZ",
        "outputId": "b7cee072-1727-436b-855d-3af550748d16"
      },
      "execution_count": null,
      "outputs": [
        {
          "output_type": "stream",
          "name": "stdout",
          "text": [
            "1\n",
            "반복\n",
            "2\n",
            "반복\n",
            "3\n",
            "반복\n",
            "end\n"
          ]
        }
      ]
    },
    {
      "cell_type": "code",
      "source": [
        "a, b = [10, 20]\n",
        "a"
      ],
      "metadata": {
        "colab": {
          "base_uri": "https://localhost:8080/"
        },
        "id": "1UcjWXibPGlZ",
        "outputId": "56fc06c8-0390-4d9f-cb02-11241df1e7f9"
      },
      "execution_count": null,
      "outputs": [
        {
          "output_type": "execute_result",
          "data": {
            "text/plain": [
              "10"
            ]
          },
          "metadata": {},
          "execution_count": 42
        }
      ]
    },
    {
      "cell_type": "code",
      "source": [
        "# value swap\n",
        "a = 10\n",
        "b = 20\n",
        "a, b = b, a\n",
        "a"
      ],
      "metadata": {
        "colab": {
          "base_uri": "https://localhost:8080/"
        },
        "id": "RkFjVThRPTZ6",
        "outputId": "f0cee906-4fd3-4995-c44a-a8ee43995c2f"
      },
      "execution_count": null,
      "outputs": [
        {
          "output_type": "execute_result",
          "data": {
            "text/plain": [
              "20"
            ]
          },
          "metadata": {},
          "execution_count": 45
        }
      ]
    },
    {
      "cell_type": "code",
      "source": [
        "# value swap => 다른 언어\n",
        "a = 10\n",
        "b = 20\n",
        "temp = 0\n",
        "\n",
        "temp = a\n",
        "a = b\n",
        "b = temp\n",
        "\n",
        "a"
      ],
      "metadata": {
        "id": "NshPOogpPaFK"
      },
      "execution_count": null,
      "outputs": []
    },
    {
      "cell_type": "code",
      "source": [
        "for i, j in [[10, 20], [100, 200], [1000, 2000]]:\n",
        "    print(i, j)"
      ],
      "metadata": {
        "colab": {
          "base_uri": "https://localhost:8080/"
        },
        "id": "606zD1YDPnV9",
        "outputId": "a1d11d16-db14-4159-9643-4b8fe489623a"
      },
      "execution_count": null,
      "outputs": [
        {
          "output_type": "stream",
          "name": "stdout",
          "text": [
            "10 20\n",
            "100 200\n",
            "1000 2000\n"
          ]
        }
      ]
    },
    {
      "cell_type": "code",
      "source": [
        "가수 = ['아이유', 'BTS', '뉴진스']\n",
        "for i, j in enumerate(가수):\n",
        "    print(i, j)\n",
        "\n",
        "for index, singer in enumerate(가수): # => 변수명 명확하게\n",
        "    print(index, singer)\n"
      ],
      "metadata": {
        "colab": {
          "base_uri": "https://localhost:8080/"
        },
        "id": "1ZNKDwCOPs4C",
        "outputId": "baad2821-3e31-4c38-8462-7b0298e26906"
      },
      "execution_count": null,
      "outputs": [
        {
          "output_type": "stream",
          "name": "stdout",
          "text": [
            "0 아이유\n",
            "1 BTS\n",
            "2 뉴진스\n",
            "0 아이유\n",
            "1 BTS\n",
            "2 뉴진스\n"
          ]
        }
      ]
    },
    {
      "cell_type": "code",
      "source": [
        "# for로 무한반복 만들 수 있나요? => 네\n",
        "# => 그러나... 사용은 하나도 하지 않습니다.\n",
        "# 전혀 기억할 필요 X\n",
        "\n",
        "# 실행 XXXXXXXXXX\n",
        "# l = [10, 20, 30]\n",
        "# for i in l:\n",
        "#     print(i)\n",
        "#     l.append(100)"
      ],
      "metadata": {
        "id": "6XzKQw5PPnM6"
      },
      "execution_count": null,
      "outputs": []
    },
    {
      "cell_type": "markdown",
      "source": [
        "## while"
      ],
      "metadata": {
        "id": "j28jfFDqQ92S"
      }
    },
    {
      "cell_type": "code",
      "source": [
        "x = 10\n",
        "while x < 20:\n",
        "    print(x)\n",
        "    print('반복문')\n",
        "    x += 1\n",
        "\n",
        "print('반복문 탙출')"
      ],
      "metadata": {
        "colab": {
          "base_uri": "https://localhost:8080/"
        },
        "id": "JjzuP8N_Q7H-",
        "outputId": "2367e6b0-9023-4c33-fd89-765eda019883"
      },
      "execution_count": null,
      "outputs": [
        {
          "output_type": "stream",
          "name": "stdout",
          "text": [
            "10\n",
            "반복문\n",
            "11\n",
            "반복문\n",
            "12\n",
            "반복문\n",
            "13\n",
            "반복문\n",
            "14\n",
            "반복문\n",
            "15\n",
            "반복문\n",
            "16\n",
            "반복문\n",
            "17\n",
            "반복문\n",
            "18\n",
            "반복문\n",
            "19\n",
            "반복문\n",
            "반복문 탙출\n"
          ]
        }
      ]
    },
    {
      "cell_type": "code",
      "source": [
        "# for i in range(2, 10):\n",
        "#     for j in range(1, 10):\n",
        "#         print(f'{i} X {j} = {i * j}')\n",
        "\n",
        "단 = 2\n",
        "곱 = 1\n",
        "while 단 < 10:\n",
        "    while 곱 <10:\n",
        "        print(f'{단} X {곱} = {단 * 곱}')\n",
        "        곱 += 1\n",
        "    단 += 1\n",
        "    곱 = 1\n"
      ],
      "metadata": {
        "id": "bGaAMpktRgMa"
      },
      "execution_count": null,
      "outputs": []
    },
    {
      "cell_type": "markdown",
      "source": [
        "# break, continue, pass"
      ],
      "metadata": {
        "id": "6UY1Na1sTQGY"
      }
    },
    {
      "cell_type": "code",
      "source": [
        "# pass는 없다고 생각해도 되는 구문입니다.\n",
        "# 나중에 코딩할 부분임을 명시하는 용도로 사용합니다.\n",
        "\n",
        "def move():\n",
        "    pass\n",
        "\n",
        "def attack():\n",
        "    pass\n",
        "\n",
        "def heal():\n",
        "    pass\n",
        "\n",
        "# 이렇게 나중에 코딩할 부분을 명시합니다.\n",
        "\n",
        "if True:\n",
        "    pass\n",
        "else:\n",
        "    pass\n"
      ],
      "metadata": {
        "id": "Ko5n9B2cR4xb"
      },
      "execution_count": null,
      "outputs": []
    },
    {
      "cell_type": "code",
      "source": [
        "for i in range(10):\n",
        "    if i > 5:\n",
        "        break\n",
        "    print(i)\n",
        "\n",
        "# break 은 전체 반복문 탈출이 아닙니다!\n",
        "# 자신을 감싸고 있는 반복문만 탈출합니다.\n"
      ],
      "metadata": {
        "colab": {
          "base_uri": "https://localhost:8080/"
        },
        "id": "cI6nVEKhUgau",
        "outputId": "f4d051ee-7305-40ef-b912-e141db2f641f"
      },
      "execution_count": null,
      "outputs": [
        {
          "output_type": "stream",
          "name": "stdout",
          "text": [
            "0\n",
            "1\n",
            "2\n",
            "3\n",
            "4\n",
            "5\n"
          ]
        }
      ]
    },
    {
      "cell_type": "code",
      "source": [
        "for i in range(10):\n",
        "    if i > 5:\n",
        "        break\n",
        "    print(i)\n",
        "\n",
        "else:\n",
        "    print('break없이 끝남!')\n",
        "\n",
        "# for - else, while - else 잘 사용하는 구문은 아닙니다."
      ],
      "metadata": {
        "colab": {
          "base_uri": "https://localhost:8080/"
        },
        "id": "Ayf72ahcUqqT",
        "outputId": "b580ef07-3b2a-4ae6-dd43-84c3009044b8"
      },
      "execution_count": null,
      "outputs": [
        {
          "output_type": "stream",
          "name": "stdout",
          "text": [
            "0\n",
            "1\n",
            "2\n",
            "3\n",
            "4\n",
            "5\n"
          ]
        }
      ]
    },
    {
      "cell_type": "code",
      "source": [
        "for i in range(10):\n",
        "    if i == 5 or i == 6:\n",
        "        continue    # 건너띄기\n",
        "    print(i)\n"
      ],
      "metadata": {
        "colab": {
          "base_uri": "https://localhost:8080/"
        },
        "id": "Y78wxsdXU7bk",
        "outputId": "fe859cdc-d794-4043-f523-feab8b5897ec"
      },
      "execution_count": null,
      "outputs": [
        {
          "output_type": "stream",
          "name": "stdout",
          "text": [
            "0\n",
            "1\n",
            "2\n",
            "3\n",
            "4\n",
            "7\n",
            "8\n",
            "9\n"
          ]
        }
      ]
    },
    {
      "cell_type": "markdown",
      "source": [
        "# 클래스\n",
        "* 별 5개 Max"
      ],
      "metadata": {
        "id": "TDv7gOzMVrF4"
      }
    },
    {
      "cell_type": "code",
      "source": [
        "licat = {\n",
        "    '이미지' : None,\n",
        "    '체력' : None,\n",
        "    '마력' : None,\n",
        "    'x좌표' : None,\n",
        "    'y좌표' : None,\n",
        "    '공격력' : None,\n",
        "    '방어력' : None,\n",
        "    '이동속도' : None,\n",
        "    '무기' : None,\n",
        "    '스킬' : None\n",
        "}\n",
        "\n",
        "# 몹이 10개 => 반복되는 코드들이 보입니다.\n",
        "# 반복되는 코드가 심지어 복잡합니다.\n",
        "# 예를 들어 이동 함수도 있어야 하고, 공격 함수도 있어야합니다.\n",
        "\n",
        "mob = {\n",
        "    '이미지' : None,\n",
        "    '체력' : None,\n",
        "    '마력' : None,\n",
        "    'x좌표' : None,\n",
        "    'y좌표' : None,\n",
        "    '공격력' : None,\n",
        "    '방어력' : None,\n",
        "    '이동속도' : None,\n",
        "    '무기' : None,\n",
        "    '드랍률' : None,\n",
        "    '드랍아이템' : None\n",
        "}"
      ],
      "metadata": {
        "id": "8Tq5fIKNVLG0"
      },
      "execution_count": null,
      "outputs": []
    },
    {
      "cell_type": "code",
      "source": [
        "# class 게임캐릭터   => 주인공, 몹, 보스\n",
        "# class 게시물       => 게시물1, 게시물2, 게시물3\n",
        "# class dot          => dot1, dot2, dot3 (수학수식, x좌표, y좌표)\n",
        "# class User         => user1, user2, user3\n",
        "# class ShoppingCart => 장바구니1, 장바구니2, 장바구니3\n",
        "\n",
        "# class는 설계 도면\n",
        "# 실제 사용하는 것\n",
        "\n",
        "# step 1: 모든 인스턴스가 공유해야 하는 것 => 클래스 변수, (클래스 메서드, 정적메서드 등)\n",
        "# step 2: 각각의 인스턴스가 고유로 가져야 하는 것 => 인스턴스 변수, 메서드 등\n",
        "\n",
        "class Character:\n",
        "    # step1 클래스 변수 : 모든 인스턴스가 공유해야 하는 영역\n",
        "    최대속도 = 100\n",
        "    최대레벨 = 50\n",
        "\n",
        "    def __init__(self, name, hp, attack, lv): # 클래스 안에 있는 함수를 메서드라고 부릅니다. _ 2개인 것은 매직메서드\n",
        "        # step2 인스턴스 변수 : 각각의 인스턴스가 고유로 가지는 값\n",
        "        self.이름 = name\n",
        "        self.체력 = hp\n",
        "        self.공격력 = attack\n",
        "        self.레벨 = lv\n",
        "        self.속력 = 1\n",
        "\n",
        "    def move(self): # 클래스 안에 있는 함수를 메서드라고 부릅니다.\n",
        "        print(f'{self.속력}의 이동속도로 움직였습니다.')\n",
        "\n",
        "# self => licat과 연결 => 'licat'은 name\n",
        "# licat -> self / 'licat' -> name /\n",
        "licat = Character('licat', 100, 30, 1)    # class로 인스턴스를 만들면 최초로 __init이 실행됩니다.\n",
        "licat.최대속도\n",
        "licat.체력\n",
        "licat.레벨\n",
        "licat.move()\n"
      ],
      "metadata": {
        "colab": {
          "base_uri": "https://localhost:8080/"
        },
        "id": "eajX72gSUx0c",
        "outputId": "cdc0ed68-0d20-45dc-cb12-f2d812c2beff"
      },
      "execution_count": null,
      "outputs": [
        {
          "output_type": "stream",
          "name": "stdout",
          "text": [
            "1의 이동속도로 움직였습니다.\n"
          ]
        }
      ]
    },
    {
      "cell_type": "code",
      "source": [
        "l = [10, 20, 30]\n",
        "l.append(30) # class list에 메서드\n",
        "\n",
        "a = 10\n",
        "print(type(a)) # <class 'int'> => a는 int에 인스턴스입니다!\n",
        "\n",
        "def hello():\n",
        "    print('hi')\n",
        "print(type(hello)) # <class 'function'> => hello는 function에 인스턴스입니다!"
      ],
      "metadata": {
        "colab": {
          "base_uri": "https://localhost:8080/"
        },
        "id": "fGZNalqhuXM1",
        "outputId": "ca0837a8-6f0a-4b09-ebd9-f7e489f1a5d6"
      },
      "execution_count": null,
      "outputs": [
        {
          "output_type": "stream",
          "name": "stdout",
          "text": [
            "<class 'int'>\n",
            "<class 'function'>\n"
          ]
        }
      ]
    },
    {
      "cell_type": "code",
      "source": [
        "# print(licat) => 'licat lv1' => __str__\n",
        "# print(licat + gary) => 동료가 되게 할겁니다. => 'gary가 동료가 되었습니다!' => __add__\n",
        "# print(licat - gary) => 동료가 안되게 할겁니다. => 'gary가 동료에서 빠졌습니다!' => __sub__\n",
        "# len(licat) => __len__\n",
        "# for i in licat => __iter__\n",
        "\n",
        "\n",
        "class Character:\n",
        "    최대속도 = 100\n",
        "    최대레벨 = 50\n",
        "    def __init__(self, name, hp, attack, lv):\n",
        "        self.이름 = name\n",
        "        self.체력 = hp\n",
        "        self.공격력 = attack\n",
        "        self.레벨 = lv\n",
        "        self.속력 = 1\n",
        "\n",
        "    def __str__(self): #\n",
        "        return f'{self.이름} lv{self.레벨}'\n",
        "\n",
        "    def __repr__(self): # __str__과 함께 세트로 설정하기\n",
        "        return f'{self.이름} lv{self.레벨}'\n",
        "\n",
        "    def __add__(self, next): # next 또는 other => next를 많이 선호\n",
        "        return f'{next.이름}이 동료가 되었습니다.'\n",
        "\n",
        "    def __sub__(self, next): # next 또는 other => next를 많이 선호\n",
        "        return f'{next.이름}이 동료에서 빠졌습니다.'\n",
        "\n",
        "\n",
        "    def move(self):\n",
        "        print(f'{self.속력}의 이동속도로 움직였습니다.')\n",
        "\n",
        "    def attack(self):\n",
        "        print(f'{self.공격력}의 데미지로 공격했습니다.')\n",
        "\n",
        "\n",
        "\n",
        "\n",
        "licat = Character('licat', 100, 30, 1) # class로 인스턴스를 만들면 최초로 __init__이 실행됩니다.\n",
        "gary = Character('gary', 100, 30, 1)\n",
        "\n",
        "licat.move()\n",
        "\n",
        "print(type(licat))  # 클래스를 만든다는 것은 새로운 타입을 만드는 것과 같습니다.\n",
        "print(dir(licat))\n",
        "print(licat) # __str__\n",
        "licat # __repr__\n",
        "\n",
        "print(licat + gary)\n"
      ],
      "metadata": {
        "colab": {
          "base_uri": "https://localhost:8080/"
        },
        "id": "9jwYUEnGualM",
        "outputId": "6e45d4e0-b1c9-445a-c76d-36f75db6e811"
      },
      "execution_count": null,
      "outputs": [
        {
          "output_type": "stream",
          "name": "stdout",
          "text": [
            "1의 이동속도로 움직였습니다.\n",
            "<class '__main__.Character'>\n",
            "['__add__', '__class__', '__delattr__', '__dict__', '__dir__', '__doc__', '__eq__', '__format__', '__ge__', '__getattribute__', '__gt__', '__hash__', '__init__', '__init_subclass__', '__le__', '__lt__', '__module__', '__ne__', '__new__', '__reduce__', '__reduce_ex__', '__repr__', '__setattr__', '__sizeof__', '__str__', '__sub__', '__subclasshook__', '__weakref__', 'attack', 'move', '공격력', '레벨', '속력', '이름', '체력', '최대레벨', '최대속도']\n",
            "licat lv1\n",
            "gary이 동료가 되었습니다.\n"
          ]
        }
      ]
    },
    {
      "cell_type": "code",
      "source": [
        "# 간소화\n",
        "class Item:\n",
        "    def __init__(self, name, attack, durability):\n",
        "        self.이름 = name\n",
        "        self.공격력 = attack\n",
        "        self.내구도 = durability\n",
        "\n",
        "\n",
        "class Character:\n",
        "    최대속도 = 100\n",
        "    최대레벨 = 50\n",
        "    def __init__(self, name, hp, attack, lv):\n",
        "        self.이름 = name\n",
        "        self.체력 = hp\n",
        "        self.공격력 = attack\n",
        "        self.레벨 = lv\n",
        "        self.속력 = 1\n",
        "\n",
        "    def move(self):\n",
        "        print(f'{self.속력}의 이동속도로 움직였습니다.')\n",
        "\n",
        "    def attack(self):\n",
        "        print(f'{self.공격력}의 데미지로 공격했습니다.')\n",
        "\n",
        "    def get_item(self, item):\n",
        "        self.공격력 += item.공격력\n",
        "        return f'{item.이름}을 가졌습니다!'\n",
        "\n",
        "\n",
        "\n",
        "licat = Character('licat', 100, 30, 1) # class로 인스턴스를 만들면 최초로 __init__이 실행됩니다.\n",
        "sword = Item('성검', 100, 100)\n",
        "\n",
        "licat.get_item(sword)\n",
        "licat.공격력\n"
      ],
      "metadata": {
        "colab": {
          "base_uri": "https://localhost:8080/"
        },
        "id": "anbxukyKvOGf",
        "outputId": "34ef1bea-5121-4434-8f2d-bf788a3d3187"
      },
      "execution_count": null,
      "outputs": [
        {
          "output_type": "execute_result",
          "data": {
            "text/plain": [
              "130"
            ]
          },
          "metadata": {},
          "execution_count": 72
        }
      ]
    },
    {
      "cell_type": "code",
      "source": [
        "# 상속 (MRO => 상속순서, 다이아몬드 상속)\n",
        "# 실무에서 이런 경우가 아주 극히 드뭅니다.\n",
        "\n",
        "class Character:\n",
        "    최대속도 = 100\n",
        "    최대레벨 = 50\n",
        "    def __init__(self, name, hp, attack, lv):\n",
        "        self.이름 = name\n",
        "        self.체력 = hp\n",
        "        self.공격력 = attack\n",
        "        self.레벨 = lv\n",
        "        self.속력 = 1\n",
        "\n",
        "    def move(self):\n",
        "        print(f'{self.속력}의 이동속도로 움직였습니다.')\n",
        "\n",
        "    def attack(self):\n",
        "        print(f'{self.공격력}의 데미지로 공격했습니다.')\n",
        "\n",
        "\n",
        "class Mob(Character):\n",
        "    def __init__(self, name, hp, attack, lv, droprate, dropitem):\n",
        "        self.이름 = name\n",
        "        self.체력 = hp\n",
        "        self.공격력 = attack\n",
        "        self.레벨 = lv\n",
        "        self.드랍률 = droprate\n",
        "        self.드랍아이템 = dropitem\n",
        "        self.속력 = 1\n",
        "\n",
        "\n",
        "# class Mob(Character):\n",
        "#    def __init__(self, name, hp, attack, lv, droprate, dropitem):\n",
        "#        super().__init__(name, hp, attack, lv)\n",
        "#        self.드랍률 = droprate\n",
        "#        self.드랍아이템 = dropitem\n",
        "\n",
        "\n",
        "\n",
        "licat = Character ('licat', 100, 30, 1)\n",
        "mob1 = Mob('jombi', 100, 30, 1, 0.1, '물고기')\n",
        "mob1.move()\n"
      ],
      "metadata": {
        "colab": {
          "base_uri": "https://localhost:8080/"
        },
        "id": "vvcl4DRI2hkE",
        "outputId": "5d4fbc64-15f1-4aa2-874c-dc523e7598b7"
      },
      "execution_count": null,
      "outputs": [
        {
          "output_type": "stream",
          "name": "stdout",
          "text": [
            "1의 이동속도로 움직였습니다.\n"
          ]
        }
      ]
    },
    {
      "cell_type": "code",
      "source": [
        "class A:\n",
        "    a = 10\n",
        "    def aa(self):\n",
        "        print('hello a')\n",
        "\n",
        "class B(A):\n",
        "    b = 20\n",
        "    def bb(self):\n",
        "        print('hello b')\n",
        "\n",
        "class C(B):\n",
        "    c = 30\n",
        "    def cc(self):\n",
        "        print('hello c')\n",
        "\n",
        "ccc = C()\n",
        "ccc.a\n",
        "ccc.b\n",
        "ccc.c\n",
        "ccc.aa()\n"
      ],
      "metadata": {
        "colab": {
          "base_uri": "https://localhost:8080/"
        },
        "id": "O9BmruVsyr2D",
        "outputId": "45f0a129-f0d1-463e-d05e-139ea8cf9add"
      },
      "execution_count": null,
      "outputs": [
        {
          "output_type": "stream",
          "name": "stdout",
          "text": [
            "hello a\n"
          ]
        }
      ]
    },
    {
      "cell_type": "code",
      "source": [
        "# 메서드 오버라이딩과 메서드 오버로딩\n",
        "\n",
        "class A:\n",
        "    a = 10\n",
        "    def aa(self):\n",
        "        print('hello a')\n",
        "\n",
        "class B(A):\n",
        "    b = 20\n",
        "    def bb(self):\n",
        "        print('hello b')\n",
        "\n",
        "class C(B):\n",
        "    c = 30\n",
        "    def aa(self): # 부모의 것을 새롭게 정의! 오버라이딩\n",
        "        print('hello c')\n",
        "\n",
        "ccc = C()\n",
        "ccc.aa()\n"
      ],
      "metadata": {
        "colab": {
          "base_uri": "https://localhost:8080/"
        },
        "id": "ifIkXWMC5ZkW",
        "outputId": "29c28a11-03a5-4d8e-a738-7d8a336493d4"
      },
      "execution_count": null,
      "outputs": [
        {
          "output_type": "stream",
          "name": "stdout",
          "text": [
            "hello c\n"
          ]
        }
      ]
    },
    {
      "cell_type": "code",
      "source": [
        "# ccc 변수를 안 만들고 그냥 C를 사용하면 안되는건가요? (초급자 분들이 이렇게 많이 사용합니다.)\n",
        "# 붕버빵 틀과 붕어빵이 있는데 붕어빵 틀을 먹고 싶어요.\n",
        "# 자동차 설계 도면이 있고 자동차가 있는데 자동차 설계 도면을 타고 싶어요.\n",
        "\n",
        "C.c # 나오긴 나오죠. 그러나......."
      ],
      "metadata": {
        "id": "2ql6otzOuXEc"
      },
      "execution_count": null,
      "outputs": []
    },
    {
      "cell_type": "code",
      "source": [
        "# 메서드 오버로딩 python에 존재하지 않습니다!\n",
        "# 해드리는 이유는 다른 언어에서 이 오버로딩을 많이 사용하기 때문입니다.\n",
        "\n",
        "# 아래와 같은 문법은 파이썬에 없습니다.\n",
        "# class A:\n",
        "#     def hello():\n",
        "#         print('hello world')\n",
        "\n",
        "#     def hello(a):\n",
        "#         print('a')\n",
        "\n",
        "#     def hello(a, b):\n",
        "#         print('a, b')\n",
        "\n",
        "#     def hello(a, b, c):\n",
        "#         print('a, b, c')\n",
        "\n",
        "# a = A()\n",
        "# a.hello()\n",
        "# a.hello(10)\n",
        "# a.hello(10, 20)\n",
        "# a.hello(10, 20, 30)"
      ],
      "metadata": {
        "id": "94xEviRb61k1"
      },
      "execution_count": null,
      "outputs": []
    },
    {
      "cell_type": "code",
      "source": [
        "from abc import abstractmethod\n",
        "# 파이썬에는 인터페이스가 없지만 추상클래스를 이용해서 인터페이스처럼 구현할 수 있습니다.\n",
        "# 파이썬만 하시는 분들은 추상클래스만 기억하셔도 됩니다.\n",
        "# 추상클래스로 재정의를 강제할 수 있습니다.\n",
        "# ~~을 반드시 구현해라! => 좀 더 견고한 코딩이 됩니다.\n",
        "\n",
        "from abc import ABC, abstractmethod\n",
        "\n",
        "class CharacterAbstract(ABC):\n",
        "    # 상속받는 (Character, Mob, Villain은 반드시 move와 attack을 정의하여야함)\n",
        "    @abstractmethod\n",
        "    def move(self):\n",
        "        pass\n",
        "\n",
        "    @abstractmethod\n",
        "    def attack(self):\n",
        "        pass\n",
        "\n",
        "class Character(CharacterAbstract):\n",
        "\n",
        "    def __init__(self, name):\n",
        "        self.name = name\n",
        "\n",
        "    def print_name(self):\n",
        "        print(f'제 이름은 {self.name}입니다.')\n",
        "\n",
        "class Mob(CharacterAbstract):\n",
        "\n",
        "    def __init__(self, name):\n",
        "        self.name = name\n",
        "\n",
        "    def print_name(self):\n",
        "        print(f'제 이름은 {self.name}입니다.')\n",
        "\n",
        "class Villain(CharacterAbstract):\n",
        "\n",
        "    def __init__(self, name):\n",
        "        self.name = name\n",
        "\n",
        "    def print_name(self):\n",
        "        print(f'제 이름은 {self.name}입니다.')\n"
      ],
      "metadata": {
        "id": "vlgHv3z57hCW"
      },
      "execution_count": null,
      "outputs": []
    },
    {
      "cell_type": "code",
      "source": [
        "class CharacterAbstract:\n",
        "\n",
        "    def move(self):\n",
        "        pass\n",
        "\n",
        "    def attack(self):\n",
        "        pass\n",
        "\n",
        "\n",
        "class Character(CharacterAbstract):\n",
        "\n",
        "    def __init__(self, name):\n",
        "        self.name = name\n",
        "\n",
        "    def print_name(self):\n",
        "        print(f'제 이름은 {self.name}입니다.')\n",
        "\n",
        "licat = Character('jun')"
      ],
      "metadata": {
        "id": "osZm58Lo9-D4"
      },
      "execution_count": null,
      "outputs": []
    },
    {
      "cell_type": "code",
      "source": [
        "# 일급함수 => 고차함수 => 클로저 => 데코레이터\n",
        "# 일급함수 : 함수를 변수(값)처럼 취급\n",
        "# 고차함수 : 함수를 아규먼트나 리턴값으로 전달하는 함수\n",
        "# 클로저 : 접근이 불가한 구역에 접근할 수 있게 하는 기술\n",
        "# 데코레이터 : 함수를 꾸며주는, 반드시 거처야하는, 전/후를 꾸미는 작업?!\n",
        "\n",
        "def simple_decorator(function):\n",
        "    def wrapper():\n",
        "        print(\"전\")\n",
        "        function()\n",
        "        print(\"후\")\n",
        "    return wrapper\n",
        "\n",
        "@simple_decorator\n",
        "def hello():\n",
        "    print(\"Hello, World!\")\n",
        "\n",
        "hello() # 데코레이터가 없는 상태에서는 simple_decorator(hello)() 와 같습니다."
      ],
      "metadata": {
        "id": "8FAIdhLD_OVU"
      },
      "execution_count": null,
      "outputs": []
    },
    {
      "cell_type": "code",
      "source": [
        "# 일급함수\n",
        "def hello():\n",
        "    print('hello')\n",
        "[hello, hello, hello] # 함수를 값으로 사용"
      ],
      "metadata": {
        "id": "0CJK2D6E_p5e"
      },
      "execution_count": null,
      "outputs": []
    },
    {
      "cell_type": "code",
      "source": [
        "# 고차함수\n",
        "def solution(arr, f):\n",
        "    return map(f, arr)\n",
        "\n",
        "solution([1, 2, 3, 4, 5], lambda x:x**2) # 함수를 인자로 사용\n",
        "\n",
        "\n",
        "def solution(arr, f):\n",
        "    return f(arr)\n",
        "solution([1, 2, 3, 4, 5], print) # 함수를 인자로 사용\n",
        "\n",
        "def solution():\n",
        "    def 제곱(a, b):\n",
        "        return a ** b\n",
        "    return 제곱 # 함수를 return 값으로 반환\n",
        "\n"
      ],
      "metadata": {
        "id": "G8IyVIKN_753"
      },
      "execution_count": null,
      "outputs": []
    },
    {
      "cell_type": "code",
      "source": [
        "# 클로저\n",
        "def factory(x):\n",
        "    def sq(y):\n",
        "        return x ** y    # inner 함수가 outer 함수의 x(외부 변수)를 참조\n",
        "    return sq\n",
        "\n",
        "two = factory(2)\n",
        "three = factory(3)\n",
        "\n",
        "two(3)\n",
        "two(4)\n",
        "three(3)\n",
        "three(4)\n",
        "\n"
      ],
      "metadata": {
        "id": "0x0qmDW8Au9g"
      },
      "execution_count": null,
      "outputs": []
    },
    {
      "cell_type": "code",
      "source": [
        "# 데코레이터\n",
        "# Django와 같은 서비스에서 아래와 같이 개발합니다.\n",
        "# 데코레이터를 모르셔도 사용하는 것에는 대부분 지장없습니다. (대부분...하지만 지장이 생기는 곳도 있어요!)\n",
        "\n",
        "@login\n",
        "def notice():\n",
        "    pass # 게시판 읽는 기능\n"
      ],
      "metadata": {
        "id": "0s8f0Gl4Bt4g"
      },
      "execution_count": null,
      "outputs": []
    },
    {
      "cell_type": "code",
      "source": [
        "def simple_decorator(function):\n",
        "    def wrapper():\n",
        "        print(\"전\")\n",
        "        function()\n",
        "        print(\"후\")\n",
        "    return wrapper\n",
        "\n",
        "@simple_decorator\n",
        "def hello():\n",
        "    print(\"Hello, World!\")\n",
        "\n",
        "hello() # 데코레이터가 없는 상태에서는 simple_decorator(hello)() 와 같습니다.\n",
        "# 데코레이터가 있으면 실제로는 hello()가 실행되는 것이 아니라 wrapper가 실행되는 구조로 변하게 됩니다.\n",
        "# 실행시간 측정\n",
        "# 로그인\n",
        "# 데이터 전처리\n",
        "# 로그 기록\n"
      ],
      "metadata": {
        "id": "i9fo7vytBT7x"
      },
      "execution_count": null,
      "outputs": []
    },
    {
      "cell_type": "code",
      "source": [
        "def simple_decorator(function):\n",
        "    def wrapper(sample):\n",
        "        print(\"전\")\n",
        "        print(sample)\n",
        "        function()\n",
        "        print(\"후\")\n",
        "    return wrapper\n",
        "\n",
        "@simple_decorator\n",
        "def hello():\n",
        "    print(\"Hello, World!\")\n",
        "\n",
        "hello(10) # 데코레이터가 없는 상태에서는 simple_decorator(hello)(10) 와 같습니다. => wrapper(10)\n",
        "# 데코레이터가 있으면 실제로는 hello()가 실행되는 것이 아니라 wrapper가 실행되는 구조로 변하게 됩니다.\n",
        "\n"
      ],
      "metadata": {
        "colab": {
          "base_uri": "https://localhost:8080/"
        },
        "id": "uitNO-ECFoWO",
        "outputId": "ab933e8f-ca84-427b-9fbb-2f13f4965ea1"
      },
      "execution_count": null,
      "outputs": [
        {
          "output_type": "stream",
          "name": "stdout",
          "text": [
            "전\n",
            "10\n",
            "Hello, World!\n",
            "후\n"
          ]
        }
      ]
    },
    {
      "cell_type": "code",
      "source": [
        "def 평균(data):\n",
        "    return sum(data)/len(data)\n",
        "\n",
        "평균([10, 20, 30])\n"
      ],
      "metadata": {
        "colab": {
          "base_uri": "https://localhost:8080/"
        },
        "id": "NYT0_VIUFoN6",
        "outputId": "e241e751-3d93-4f8b-de6e-e47c6993315c"
      },
      "execution_count": null,
      "outputs": [
        {
          "output_type": "execute_result",
          "data": {
            "text/plain": [
              "20.0"
            ]
          },
          "metadata": {},
          "execution_count": 87
        }
      ]
    },
    {
      "cell_type": "code",
      "source": [
        "# step1 기본 골격 만들기\n",
        "def 전처리(f):\n",
        "    def wrapper():\n",
        "        pass\n",
        "    return wrapper\n",
        "\n",
        "@전처리\n",
        "def 평균(data):\n",
        "    return sum(data)/len(data)\n",
        "\n",
        "평균([10, '20', 30, '40', 50])\n"
      ],
      "metadata": {
        "id": "nYyyZ139GXzx"
      },
      "execution_count": null,
      "outputs": []
    },
    {
      "cell_type": "code",
      "source": [
        "# step2 함수가 실행될 위치와 파라미터 설정하기\n",
        "def 전처리(f):\n",
        "    def wrapper(data):\n",
        "        가공데이터 = list(map(int, data))\n",
        "        return f(가공데이터)\n",
        "    return wrapper\n",
        "\n",
        "@전처리\n",
        "def 평균(data):\n",
        "    return sum(data)/len(data)\n",
        "\n",
        "평균([10, '20', 30, '40', 50])"
      ],
      "metadata": {
        "colab": {
          "base_uri": "https://localhost:8080/"
        },
        "id": "8GC7PFgKHJne",
        "outputId": "5c77c7ee-9c2f-42de-86ca-f5cb5f44c6f0"
      },
      "execution_count": null,
      "outputs": [
        {
          "output_type": "execute_result",
          "data": {
            "text/plain": [
              "30.0"
            ]
          },
          "metadata": {},
          "execution_count": 96
        }
      ]
    },
    {
      "cell_type": "code",
      "source": [
        "def login(f):\n",
        "    def wrapper(user):\n",
        "        if user.get('등급', False):\n",
        "            f()\n",
        "        else:\n",
        "            print('로그인해야만 읽을 수 있습니다.')\n",
        "    return wrapper\n",
        "\n",
        "\n",
        "@login\n",
        "def 게시판읽기():\n",
        "    print('로그인한 사용자로 게시판을 읽고 있습니다.')\n",
        "\n",
        "# user = {\n",
        "#     '이름': '호준',\n",
        "#     '등급': '새싹'\n",
        "# }\n",
        "\n",
        "user = {\n",
        "    '이름': '호준'\n",
        "}\n",
        "\n",
        "\n",
        "게시판읽기(user)"
      ],
      "metadata": {
        "colab": {
          "base_uri": "https://localhost:8080/"
        },
        "id": "m1FsZ-rxH2AR",
        "outputId": "4db20f62-8429-4128-cc8b-b889d0247846"
      },
      "execution_count": null,
      "outputs": [
        {
          "output_type": "stream",
          "name": "stdout",
          "text": [
            "로그인한 사용자로 게시판을 읽고 있습니다.\n"
          ]
        }
      ]
    },
    {
      "cell_type": "markdown",
      "source": [
        "# 모듈과 패키지"
      ],
      "metadata": {
        "id": "9el9W2mfKEfo"
      }
    },
    {
      "cell_type": "code",
      "source": [
        "# from import\n",
        "# 내장이어서 import하지 않아도 사용할 수 있는 것(print...)\n",
        "# 내장이지만 import 해야만 사용할 수 있는 것(random...)\n",
        "# 설치해야만 import해서 사용할 수 있는 것(request, bs4, 한글패키지 등...)\n"
      ],
      "metadata": {
        "id": "udFchQc4KIAN"
      },
      "execution_count": null,
      "outputs": []
    },
    {
      "cell_type": "code",
      "source": [
        "# son.py => 'hojun'; age = 10\n",
        "import son\n",
        "\n",
        "son.name\n",
        "son.age\n",
        "# 모듈은 무엇인가요? .py파일입니다.\n"
      ],
      "metadata": {
        "colab": {
          "base_uri": "https://localhost:8080/"
        },
        "id": "kDK_3FOPHOLg",
        "outputId": "5927fcd3-f223-4232-891a-f7f81daec229"
      },
      "execution_count": null,
      "outputs": [
        {
          "output_type": "execute_result",
          "data": {
            "text/plain": [
              "10"
            ]
          },
          "metadata": {},
          "execution_count": 98
        }
      ]
    },
    {
      "cell_type": "code",
      "source": [
        "from son import name, age\n",
        "# from boong import name, age\n",
        "name, age\n",
        "\n",
        "# 위와 같이 덮어 쓸 수 있기 때문에\n",
        "# 이 방법은 선호되지 않습니다.\n",
        "# 사용하지 않는 것은 아닙니다.\n",
        "# 변수, 함수, 클래스 모두 가져와서 사용할 수 있는 것입니다."
      ],
      "metadata": {
        "colab": {
          "base_uri": "https://localhost:8080/"
        },
        "id": "ztpOEe8ILtVi",
        "outputId": "da8a84db-0f45-43d2-e4b0-9630bc7e003b"
      },
      "execution_count": null,
      "outputs": [
        {
          "output_type": "execute_result",
          "data": {
            "text/plain": [
              "('son', 10)"
            ]
          },
          "metadata": {},
          "execution_count": 100
        }
      ]
    },
    {
      "cell_type": "code",
      "source": [
        "import numpy as np\n",
        "import pandas as pd\n",
        "import son as so\n",
        "\n",
        "so.name\n"
      ],
      "metadata": {
        "colab": {
          "base_uri": "https://localhost:8080/",
          "height": 35
        },
        "id": "3Mr-koGgKYTb",
        "outputId": "e58d2d12-48d0-46ca-ee57-4747974ed7ac"
      },
      "execution_count": null,
      "outputs": [
        {
          "output_type": "execute_result",
          "data": {
            "text/plain": [
              "'son'"
            ],
            "application/vnd.google.colaboratory.intrinsic+json": {
              "type": "string"
            }
          },
          "metadata": {},
          "execution_count": 101
        }
      ]
    },
    {
      "cell_type": "code",
      "source": [
        "# a폴더 > b폴더 > c.py\n",
        "\n",
        "import a.b.c as greet\n",
        "\n",
        "greet.hello()\n"
      ],
      "metadata": {
        "colab": {
          "base_uri": "https://localhost:8080/"
        },
        "id": "-YNt2ZSvNI7D",
        "outputId": "e4cdfdab-d7b5-4ff7-e9b3-e88672c46e91"
      },
      "execution_count": null,
      "outputs": [
        {
          "output_type": "stream",
          "name": "stdout",
          "text": [
            "hello world\n"
          ]
        }
      ]
    },
    {
      "cell_type": "markdown",
      "source": [
        "# 에러처리"
      ],
      "metadata": {
        "id": "apqNYc44OPwg"
      }
    },
    {
      "cell_type": "code",
      "source": [
        "if False:\n",
        "    raise\n",
        "else:\n",
        "    print('world')"
      ],
      "metadata": {
        "colab": {
          "base_uri": "https://localhost:8080/"
        },
        "id": "4AxZNjrNOaKD",
        "outputId": "a3f3551a-d36c-405e-ef60-3aac780b756f"
      },
      "execution_count": null,
      "outputs": [
        {
          "output_type": "stream",
          "name": "stdout",
          "text": [
            "world\n"
          ]
        }
      ]
    },
    {
      "cell_type": "code",
      "source": [
        "try:\n",
        "    print('hello world')\n",
        "    1/0\n",
        "except:\n",
        "    print('에러났어!')"
      ],
      "metadata": {
        "colab": {
          "base_uri": "https://localhost:8080/"
        },
        "id": "FUcyD2lkObT2",
        "outputId": "0642d0f7-29c0-4d6e-d00e-9c22e166e443"
      },
      "execution_count": null,
      "outputs": [
        {
          "output_type": "stream",
          "name": "stdout",
          "text": [
            "hello world\n",
            "에러났어!\n"
          ]
        }
      ]
    },
    {
      "cell_type": "code",
      "source": [
        "# try:\n",
        "#     # 예외가 발생할 가능성이 있는 코드\n",
        "# except:\n",
        "#     # 예외 처리 코드\n",
        "# else:\n",
        "#     # 예외가 발생하지 않을 때 실행되는 코드\n",
        "# finally:\n",
        "#     # 예외 발생 여부와 상관없이 항상 실행되는 코드\n",
        "\n",
        "# # 보통 try~except까지만 많이 사용"
      ],
      "metadata": {
        "id": "9SOwscbRO1pF"
      },
      "execution_count": null,
      "outputs": []
    },
    {
      "cell_type": "code",
      "source": [
        "# 예외처리를 하지 않는다? => 해야 합니다.\n",
        "# 모든 코드를 Try, except로 감싼다? => X, 에러가 날 수 있는 곳만 사용\n",
        "# 디버깅이 매우 힘들어집니다. 서비스여도 에러가 발생하는 것이 낫습니다."
      ],
      "metadata": {
        "id": "XL4TcQJoO_B0"
      },
      "execution_count": null,
      "outputs": []
    },
    {
      "cell_type": "markdown",
      "source": [
        "# 재미있는 것\n",
        "\n",
        "* pyqt\n",
        "* pygame\n",
        "* 크롤링 => 대부분 불법 (robots.txt로 확인)"
      ],
      "metadata": {
        "id": "Xe47s8H-SRU2"
      }
    },
    {
      "cell_type": "code",
      "source": [
        "# bot => 아침에 관련 뉴스, 관련 사업, facebook 요약 정보 ...\n",
        "import requests # 통신을 할 수 있게 해주는 모듈 (get, post...)\n",
        "from bs4 import BeautifulSoup # text를 원하는 형태로 쪼개주는 (parsing 해주는 모듈)\n",
        "\n",
        "###### for i in range(100) => dos 공격입니다!!!! => 통신은 최소화해서 진행하셔야 합니다.\n",
        "# 크롤링할 URL을 변수에 저장합니다.\n",
        "url = \"https://paullab.co.kr/bookservice/\"\n",
        "\n",
        "# 해당 URL로 요청을 보내 응답을 받습니다.\n",
        "response = requests.get(url)\n",
        "\n",
        "# 응답을 HTML로 파싱합니다.\n",
        "soup = BeautifulSoup(response.content, \"html.parser\")\n",
        "\n",
        "# 원하는 데이터를 추출합니다.\n",
        "# 예를 들어, 모든 a 태그의 href 속성을 추출합니다.\n",
        "for 책 in soup.select(\".book_name\"):\n",
        "    print(책.text)"
      ],
      "metadata": {
        "id": "P_cs-Q1pSan4"
      },
      "execution_count": null,
      "outputs": []
    },
    {
      "cell_type": "code",
      "source": [
        "# 응답을 HTML로 파싱합니다.\n",
        "soup = BeautifulSoup(response.content, \"html.parser\")\n",
        "\n",
        "# 원하는 데이터를 추출합니다.\n",
        "# 예를 들어, 모든 a 태그의 href 속성을 추출합니다.\n",
        "for 책 in soup.select(\".book_name\"):\n",
        "    print(책.text)\n",
        "\n",
        "for 책 in soup.select(\".book_info\"):\n",
        "    print(책.text)\n"
      ],
      "metadata": {
        "id": "Oe-21u1CSalo"
      },
      "execution_count": null,
      "outputs": []
    },
    {
      "cell_type": "code",
      "source": [
        "# 저는 리스트로 관리하고 싶습니다. 컬럼 명은 이름, 가격, 저자 => 가독성 차원에서 X\n",
        "books = [['파이썬', 1000, '이호준'], ['파이썬', 1000, '이호준']]\n",
        "\n",
        "# 저는 딕셔너리로 관리하고 싶습니다. key 값은 이름, 가격, 저자 => 기능 추가 차원에서 권하지 않습니다.\n",
        "books = [{\n",
        "    '책이름': '파이썬',\n",
        "    '가격': 1000,\n",
        "    '저자': '이호준'\n",
        "}]\n",
        "\n",
        "# 저는 클래스로 관리하고 싶습니다. 인스턴스 변수는 이름, 가격, 저자\n",
        "class Book:\n",
        "    def __init__(self, 책이름, 가격, 저자):\n",
        "        self.책이름 = 책이름\n",
        "        # self.가격 = 0 if 가격 == '무료' else\n",
        "        self.가격 = 가격\n",
        "        self.저자 = 저자\n",
        "\n",
        "    def __str__(self):\n",
        "        return f'{self.책이름}-{self. 저자}'\n",
        "\n",
        "    def __repr__(self):\n",
        "        return f'{self.책이름}-{self. 저자}'\n",
        "\n",
        "Book('파이썬', 1000, '이호준')\n"
      ],
      "metadata": {
        "colab": {
          "base_uri": "https://localhost:8080/"
        },
        "id": "EUToNjskSajW",
        "outputId": "096fe4a7-3ff5-4d0d-b331-1a3ca7709eb7"
      },
      "execution_count": null,
      "outputs": [
        {
          "output_type": "execute_result",
          "data": {
            "text/plain": [
              "파이썬-이호준"
            ]
          },
          "metadata": {},
          "execution_count": 109
        }
      ]
    },
    {
      "cell_type": "code",
      "source": [
        "# 리스트\n",
        "책정보 = []\n",
        "\n",
        "book_info = list(soup.select(\".book_info\"))\n",
        "for index, title in enumerate(soup.select(\".book_name\")):\n",
        "    print(title.text)\n",
        "    print(soup.select(\".book_info\")[index*3:index*3+3])\n",
        "    print('------------')"
      ],
      "metadata": {
        "id": "FBACn0a-SabU"
      },
      "execution_count": null,
      "outputs": []
    },
    {
      "cell_type": "code",
      "source": [
        "# 딕셔너리\n",
        "책정보 = []\n",
        "\n",
        "for index, title in enumerate(soup.select(\".book_name\")):\n",
        "    info = soup.select(\".book_info\")[index*3:index*3+3]\n",
        "    책정보.append({\n",
        "        '제목': title.text,\n",
        "        '가격': info[0].text,\n",
        "        '저자': info[1].text\n",
        "    })\n",
        "\n",
        "책정보"
      ],
      "metadata": {
        "id": "R4swSk0xYwsr"
      },
      "execution_count": null,
      "outputs": []
    },
    {
      "cell_type": "code",
      "source": [
        "s = ''\n",
        "for index, title in enumerate(soup.select(\".book_name\")):\n",
        "    info = soup.select(\".book_info\")[index*3:index*3+3]\n",
        "    s += f'''\n",
        "    <h1>{title.text}</h1>\n",
        "    <p>{info[0].text}</p>\n",
        "    <p>{info[1].text}</p>\n",
        "    '''\n",
        "\n",
        "with open('test.html', 'w') as f:\n",
        "    f.write(s)"
      ],
      "metadata": {
        "id": "maiZVFXyaoBY"
      },
      "execution_count": null,
      "outputs": []
    },
    {
      "cell_type": "code",
      "source": [
        "s = ''\n",
        "for index, title in enumerate(soup.select(\".book_name\")):\n",
        "    info = soup.select(\".book_info\")[index*3:index*3+3]\n",
        "    src = 'https://paullab.co.kr/bookservice/' + soup.select(\".book_cover\")[index]['src']\n",
        "    s += f'''\n",
        "    <h1>{title.text}</h1>\n",
        "    <img width=\"200px\" src=\"{src}\"/>\n",
        "    <p>{info[0].text}</p>\n",
        "    <p>{info[1].text}</p>\n",
        "    '''\n",
        "\n",
        "with open('test.html', 'w') as f:\n",
        "    f.write(s)"
      ],
      "metadata": {
        "id": "WXZmgBlIcghb"
      },
      "execution_count": null,
      "outputs": []
    },
    {
      "cell_type": "markdown",
      "source": [
        "||'''py\n",
        "~~~\n",
        "~~~\n",
        "~~~\n",
        "'''||"
      ],
      "metadata": {
        "id": "hwS3BAYrD9Yc"
      }
    },
    {
      "cell_type": "markdown",
      "source": [
        "# 부록"
      ],
      "metadata": {
        "id": "2reVFSBRG44Y"
      }
    },
    {
      "cell_type": "markdown",
      "source": [
        "* 기본적으로 암기할 부분은 암기\n",
        "* 기본적인 메서드 암기\n",
        "* def, class, filter, map, sorted... 등등 틀/형태 암기\n",
        "* 알고리즘도 암기하는게 좋음\n",
        "\n",
        "* 문제를 풀면, 유형과 답을 함께 암기/외우는 것도 매우 좋은 방법\n",
        "\n",
        "* 손코딩 매우 효과적\n",
        "\n",
        "* 에러도 오답노트처럼 암기하는 것이 좋음"
      ],
      "metadata": {
        "id": "l9cZDNpKGcT8"
      }
    },
    {
      "cell_type": "markdown",
      "source": [
        "정규표현식과 sorted는 무조건 1문제 이상씩 출제\n"
      ],
      "metadata": {
        "id": "XzDomygkRrPv"
      }
    },
    {
      "cell_type": "markdown",
      "source": [
        "코딩으로 취업? 하루 3시간 3~4년?\n",
        "\n",
        "아니면 최소 9시~18시 6개월?\n",
        "\n"
      ],
      "metadata": {
        "id": "Cz_lZOrd7PSe"
      }
    },
    {
      "cell_type": "markdown",
      "source": [
        "* 네쿠라쿠배 같은 대기업은 Level 5까지 보지만\n",
        "그 외엔 보통 Level 2 까지다. 잘 준비하면 할 수 있다."
      ],
      "metadata": {
        "id": "zD1MtcPjGGYx"
      }
    },
    {
      "cell_type": "markdown",
      "source": [
        "* 취업을 생각하면, 지방을 노리는 것도 좋은 방안이다"
      ],
      "metadata": {
        "id": "RapJPBMlATU0"
      }
    },
    {
      "cell_type": "markdown",
      "source": [
        "github.com / github.dev"
      ],
      "metadata": {
        "id": "mKtopU-Mavh2"
      }
    },
    {
      "cell_type": "markdown",
      "source": [
        "# 1일차 과제"
      ],
      "metadata": {
        "id": "nXwH7M_uQr5_"
      }
    },
    {
      "cell_type": "markdown",
      "source": [
        "1. 다음 코드에서 모음을 모두 제거하는 코드를 완성해주세요. aeiou를 제거하시면 됩니다.\n",
        "s = 'hello world!!'\n",
        "\n",
        "2. 다음 타입을 확인하는 코드를 작성해주세요. 또 인터넷 검색이나 GPT 검색을 통해 해당 자료형이 str인지 확인하는 코드가 있는지도 확인해보세요.\n",
        "s = 'hello'\n",
        "\n",
        "3. 변수 a가 15일 때, a가 10보다 크고 20보다 작은지 확인하는 논리 연산을 수행하는 코드를 작성하세요.\n",
        "a = 15\n",
        "\n",
        "4. f-string을 사용하여, 두 변수 a와 b의 합, 차, 곱의 결과를 한 줄의 문자열로 출력하는 코드를 작성하세요.\n",
        "a = 7\n",
        "b = 5\n",
        "'''"
      ],
      "metadata": {
        "id": "IIBtDc94M4M5"
      }
    },
    {
      "cell_type": "code",
      "source": [
        "# 1.다음 코드에서 모음을 모두 제거하는 코드를 완성해주세요.\n",
        "# aeiou를 제거하시면 됩니다. s = 'hello world!!'\n",
        "s = 'hello world!!'\n",
        "\n",
        "s.replace('a', '').replace('e', '').replace('i', '').replace('o','').replace('u', '')\n"
      ],
      "metadata": {
        "colab": {
          "base_uri": "https://localhost:8080/",
          "height": 35
        },
        "id": "BvxxNvD7M4zB",
        "outputId": "50eafbfd-804d-4957-9d57-f36e7395bcb7"
      },
      "execution_count": null,
      "outputs": [
        {
          "output_type": "execute_result",
          "data": {
            "text/plain": [
              "'hll wrld!!'"
            ],
            "application/vnd.google.colaboratory.intrinsic+json": {
              "type": "string"
            }
          },
          "metadata": {},
          "execution_count": 112
        }
      ]
    },
    {
      "cell_type": "code",
      "source": [
        "# 2.다음 타입을 확인하는 코드를 작성해주세요.\n",
        "# 또 인터넷 검색이나 GPT 검색을 통해 해당 자료형이 str인지 확인하는 코드가 있는지도 확인해보세요. s = 'hello'\n",
        "s = 'hello'\n",
        "print(type(s))\n",
        "\n",
        "a = isinstance(s, str) # str인지 확인, True/False 반환\n",
        "print(a)"
      ],
      "metadata": {
        "colab": {
          "base_uri": "https://localhost:8080/"
        },
        "id": "OaFUZ94nNaaM",
        "outputId": "54262ee5-2a9a-4011-aa17-93a7acfd155d"
      },
      "execution_count": null,
      "outputs": [
        {
          "output_type": "stream",
          "name": "stdout",
          "text": [
            "<class 'str'>\n",
            "True\n"
          ]
        }
      ]
    },
    {
      "cell_type": "code",
      "source": [
        "# 3.변수 a가 15일 때, a가 10보다 크고 20보다 작은지 확인하는 논리 연산을 수행하는 코드를 작성하세요.\n",
        "# a = 15\n",
        "\n",
        "a = 15\n",
        "\n",
        "print(a>10 and a<20)"
      ],
      "metadata": {
        "colab": {
          "base_uri": "https://localhost:8080/"
        },
        "id": "Xd0wYWToOITN",
        "outputId": "2595b8b8-c351-4199-9c8d-ba7e5e7b326d"
      },
      "execution_count": null,
      "outputs": [
        {
          "output_type": "stream",
          "name": "stdout",
          "text": [
            "True\n"
          ]
        }
      ]
    },
    {
      "cell_type": "code",
      "source": [
        "# 4.f-string을 사용하여, 두 변수 a와 b의 합, 차, 곱의 결과를 한 줄의 문자열로 출력하는 코드를 작성하세요.\n",
        "# a = 7 b = 5\n",
        "a = 7\n",
        "b = 5\n",
        "f'a + b = {a + b}, a - b = {a - b}, a * b = {a * b}'"
      ],
      "metadata": {
        "colab": {
          "base_uri": "https://localhost:8080/",
          "height": 35
        },
        "id": "Ev6Qj_PYOaim",
        "outputId": "7ab61ea2-e166-485c-eebe-7945f7ba04e9"
      },
      "execution_count": null,
      "outputs": [
        {
          "output_type": "execute_result",
          "data": {
            "text/plain": [
              "'a + b = 12, a - b = 2, a * b = 35'"
            ],
            "application/vnd.google.colaboratory.intrinsic+json": {
              "type": "string"
            }
          },
          "metadata": {},
          "execution_count": 115
        }
      ]
    },
    {
      "cell_type": "markdown",
      "source": [
        "# 2일차 과제"
      ],
      "metadata": {
        "id": "DeSQVocX1jm7"
      }
    },
    {
      "cell_type": "markdown",
      "source": [
        "1. 문자열 정렬하기:\n",
        "문제: 문자열로 이루어진 리스트가 주어집니다. 이 리스트의 각 요소를 길이에 따라 오름차순으로 정렬하세요.\n",
        "예시: [\"apple\", \"banana\", \"cherry\"] -> [\"apple\", \"cherry\", \"banana\"]\n",
        "\n",
        "2. 문자열에서 특정 문자 제거하기:\n",
        "문제: 문자열과 제거할 문자가 주어집니다. 주어진 문자열에서 특정 문자를 모두 제거한 새로운 문자열을 만드세요.\n",
        "예시: solution(\"hello world\", \"l\") -> \"heo word\"\n",
        "\n",
        "3. 문자열 리스트에서 특정 문자를 포함하는 단어 찾기:\n",
        "문제: 문자열 리스트와 한 문자가 주어집니다. 이 리스트에서 주어진 문자를 포함하는 모든 단어를 찾아 새로운 리스트로 만드세요.\n",
        "예시: solution([\"apple\", \"banana\", \"cherry\", \"date\"], \"a\") -> [\"apple\", \"banana\", \"date\"]\n",
        "\n",
        "4. 리스트의 숫자들을 조합하여 만들 수 있는 가장 큰 수 찾기:\n",
        "문제: 숫자로 이루어진 리스트가 주어집니다. 이 숫자들을 조합하여 만들 수 있는 가장 큰 수를 문자열 형태로 반환하세요.\n",
        "예시: solution([3, 30, 34, 5, 9]) -> \"9534330"
      ],
      "metadata": {
        "id": "XdEz3lG72wV8"
      }
    },
    {
      "cell_type": "code",
      "source": [
        "# 1.문자열 정렬하기:\n",
        "# 문제: 문자열로 이루어진 리스트가 주어집니다.\n",
        "# 이 리스트의 각 요소를 길이에 따라 오름차순으로 정렬하세요.\n",
        "# 예시: [\"apple\", \"banana\", \"cherry\"] -> [\"apple\", \"cherry\", \"banana\"]\n",
        "\n",
        "sorted([\"apple\", \"bananaaaaaaaa\", \"cherry\"], key = lambda x: len(x))\n"
      ],
      "metadata": {
        "id": "OEZzvILS2uJ1",
        "colab": {
          "base_uri": "https://localhost:8080/"
        },
        "outputId": "3273948d-53a9-4a74-d540-1f895b46431d"
      },
      "execution_count": null,
      "outputs": [
        {
          "output_type": "execute_result",
          "data": {
            "text/plain": [
              "['apple', 'cherry', 'bananaaaaaaaa']"
            ]
          },
          "metadata": {},
          "execution_count": 2
        }
      ]
    },
    {
      "cell_type": "code",
      "source": [
        "# 풀이\n",
        "# 함수 사용하지 않으신 분들은 함수 사용하도록 다 고쳐주세요.\n",
        "# 이렇게 사용하시길 권하지 않습니다. (lambda 사용필요 x)\n",
        "def solution(data):\n",
        "    return sorted(data, key = lambda x: len(x))\n",
        "\n",
        "solution([\"apple\", \"banana\", \"cherry\"])\n",
        "\n",
        "\n",
        "# 함수 or 클래스를 사용하며 풀이하는 것을 권장!"
      ],
      "metadata": {
        "id": "GhSuDuf9AopC"
      },
      "execution_count": null,
      "outputs": []
    },
    {
      "cell_type": "code",
      "source": [
        "def solution(data):\n",
        "    return sorted(data, key=len)\n",
        "\n",
        "solution([\"apple\", \"banana\", \"cherry\"])"
      ],
      "metadata": {
        "id": "_ZY98KSJBb5o"
      },
      "execution_count": null,
      "outputs": []
    },
    {
      "cell_type": "markdown",
      "source": [
        "* 함수 or 클래스를 사용하며 풀이하는 것을 권장!"
      ],
      "metadata": {
        "id": "kWhpdnYXBSrD"
      }
    },
    {
      "cell_type": "code",
      "source": [
        "# 2. 문자열에서 특정 문자 제거하기: 문제: 문자열과 제거할 문자가 주어집니다.\n",
        "# 주어진 문자열에서 특정 문자를 모두 제거한 새로운 문자열을 만드세요.\n",
        "# 예시: solution(\"hello world\", \"l\") -> \"heo word\"\n",
        "\n",
        "def solution(a, b):\n",
        "    return a.replace(b, '')\n",
        "\n",
        "solution('hello world', 'l')"
      ],
      "metadata": {
        "colab": {
          "base_uri": "https://localhost:8080/",
          "height": 35
        },
        "id": "EYgh-l6fbquB",
        "outputId": "f7953249-088a-4b92-9c86-4b31d3a19631"
      },
      "execution_count": null,
      "outputs": [
        {
          "output_type": "execute_result",
          "data": {
            "text/plain": [
              "'heo word'"
            ],
            "application/vnd.google.colaboratory.intrinsic+json": {
              "type": "string"
            }
          },
          "metadata": {},
          "execution_count": 268
        }
      ]
    },
    {
      "cell_type": "code",
      "source": [
        "# 풀이\n",
        "def solution(string, substring):\n",
        "    return string.replace(substring, '')\n",
        "\n",
        "solution(\"hello world\", \"l\")\n"
      ],
      "metadata": {
        "id": "4WSM8hYmBnYE"
      },
      "execution_count": null,
      "outputs": []
    },
    {
      "cell_type": "code",
      "source": [
        "# 3. 문자열 리스트에서 특정 문자를 포함하는 단어 찾기:\n",
        "# 문제: 문자열 리스트와 한 문자가 주어집니다.\n",
        "# 이 리스트에서 주어진 문자를 포함하는 모든 단어를 찾아 새로운 리스트로 만드세요.\n",
        "# 예시: solution([\"apple\", \"banana\", \"cherry\", \"date\"], \"a\") -> [\"apple\", \"banana\", \"date\"]\n",
        "\n",
        "def solution(a, b):\n",
        "    return list(filter(lambda x: b in x, a))\n",
        "\n",
        "solution([\"apple\", \"banana\", \"cherry\", \"date\"], \"a\")\n",
        "\n",
        "# list(filter(lambda x: 'a' in x, [\"apple\", \"banana\", \"cherry\", \"date\"]))"
      ],
      "metadata": {
        "colab": {
          "base_uri": "https://localhost:8080/"
        },
        "id": "x9mekSAqgFBv",
        "outputId": "f61f2810-6544-4c5c-f37e-93e5f3590f60"
      },
      "execution_count": null,
      "outputs": [
        {
          "output_type": "execute_result",
          "data": {
            "text/plain": [
              "['apple', 'banana', 'date']"
            ]
          },
          "metadata": {},
          "execution_count": 254
        }
      ]
    },
    {
      "cell_type": "code",
      "source": [
        "# 풀이\n",
        "# 변수명 의미 명확하게 하길 희망\n",
        "def solution(string_arr, string):\n",
        "    return list(filter(lambda s: string in s, string_arr))\n",
        "\n",
        "solution([\"apple\", \"banana\", \"cherry\", \"date\"], \"a\")"
      ],
      "metadata": {
        "colab": {
          "base_uri": "https://localhost:8080/"
        },
        "id": "cJNh8SNwCA9A",
        "outputId": "f0e0030c-307e-41a9-ed81-b117083fb5bc"
      },
      "execution_count": null,
      "outputs": [
        {
          "output_type": "execute_result",
          "data": {
            "text/plain": [
              "['apple', 'banana', 'date']"
            ]
          },
          "metadata": {},
          "execution_count": 4
        }
      ]
    },
    {
      "cell_type": "code",
      "source": [
        "# 4. 리스트의 숫자들을 조합하여 만들 수 있는 가장 큰 수 찾기:\n",
        "# 문제: 숫자로 이루어진 리스트가 주어집니다.\n",
        "# 이 숫자들을 조합하여 만들 수 있는 가장 큰 수를 문자열 형태로 반환하세요.\n",
        "# 예시: solution([3, 30, 34, 5, 9]) -> \"9534330\n",
        "\n",
        "# 해결하지 못했습니다."
      ],
      "metadata": {
        "id": "Qbsyw-ZvgFgv"
      },
      "execution_count": null,
      "outputs": []
    },
    {
      "cell_type": "markdown",
      "source": [
        "* https://school.programmers.co.kr/learn/courses/30/lessons/42746"
      ],
      "metadata": {
        "id": "BfKPU43lp9mv"
      }
    },
    {
      "cell_type": "code",
      "source": [
        "# 풀이\n",
        "# 가장 큰 수 순서대로 정렬해서 조합한다\n",
        "# 순열과 조합을 이용한다. => buteforce(무차별 대입) => 전수 조사\n",
        "# 형평성에 문제 => python으로만 순열 조합 문제가 너무 쉽다.\n",
        "\n",
        "# sorted([3, 30, 34, 5, 9], reverse=True)\n",
        "\n",
        "# print(sorted(str([3, 30, 34, 5, 9]), reverse = True)) # => map 유무 비교용\n",
        "# 결과 => 어지러움, 다 잘라버림??!\n",
        "\n",
        "print(sorted(map(str, [3, 30, 34, 5, 9]), reverse = True))\n",
        "# 결과 => ['9', '5', '34', '30', '3']\n",
        "\n",
        "\n",
        "# solution([3, 30, 34, 5, 9]) # 9 5 34 3 30\n",
        "\n",
        "# 1. 자릿수가 2자리인(N자리) 경우, 2자리에 뒷 숫자가 자신보다 큰 지 => 만약에 자신보다 크다? => 앞으로 배치!\n",
        "# 2. 자릿수가 2자리인(N자리) 경우, 2자리에 뒷 숫자가 자신보다 큰 지 => 만약에 자신보다 작다? => 뒤로 배치!\n",
        "# 3. 자릿수가 1자리인 경우 => 우선순위를 0로 둡니다.\n",
        "\n",
        "# 2자리만 반영한 것.\n",
        "def 정렬함수(x):\n",
        "    if len(x) >= 2:\n",
        "        return (x[0], 1 if x [1] > x[0] else -1)\n",
        "    else:\n",
        "        return (x[0], 0)\n",
        "\n",
        "문자열변환 = map(str, [3, 30, 34, 5, 9])\n",
        "\n",
        "\n",
        "# sorted(map(str, [3, 30, 34, 5, 9]), key=lambda x: x[1] > x if len(x) >= 2 else False, reverse = True)\n",
        "''.join(sorted(문자열변환, key=정렬함수, reverse=True)) # 큰 값이 앞에 오게 됩니다.\n",
        "\n"
      ],
      "metadata": {
        "colab": {
          "base_uri": "https://localhost:8080/",
          "height": 53
        },
        "id": "__8AjEFeChyS",
        "outputId": "930a1596-0c7e-442c-b8c4-1cb6a4e730f2"
      },
      "execution_count": null,
      "outputs": [
        {
          "output_type": "stream",
          "name": "stdout",
          "text": [
            "['9', '5', '34', '30', '3']\n"
          ]
        },
        {
          "output_type": "execute_result",
          "data": {
            "text/plain": [
              "'9534330'"
            ],
            "application/vnd.google.colaboratory.intrinsic+json": {
              "type": "string"
            }
          },
          "metadata": {},
          "execution_count": 18
        }
      ]
    },
    {
      "cell_type": "code",
      "source": [
        "# Python 순열과 조합\n",
        "import itertools\n",
        "\n",
        "arr = ['A', 'B', 'C']\n",
        "순열 = itertools.permutations(arr, 2)   # 순서를 신경씀\n",
        "\n",
        "arr = ['A', 'B', 'C']\n",
        "조합 = itertools.combinations(arr, 2)   # 순서를 신경쓰지 않음\n",
        "\n",
        "list(순열)\n"
      ],
      "metadata": {
        "colab": {
          "base_uri": "https://localhost:8080/"
        },
        "id": "W5achHPyGpLh",
        "outputId": "aae35d8e-1a05-42cf-8f19-ed31a932cb3d"
      },
      "execution_count": null,
      "outputs": [
        {
          "output_type": "execute_result",
          "data": {
            "text/plain": [
              "[('A', 'B'), ('A', 'C'), ('B', 'A'), ('B', 'C'), ('C', 'A'), ('C', 'B')]"
            ]
          },
          "metadata": {},
          "execution_count": 25
        }
      ]
    },
    {
      "cell_type": "code",
      "source": [
        "# list(itertools.permutations([3, 30, 34, 5, 9]))\n",
        "\n",
        "# [(3, 30, 34, 5, 9),\n",
        "#  (3, 30, 34, 9, 5),\n",
        "#  (3, 30, 5, 34, 9),\n",
        "#  ...\n",
        "\n",
        "map(str, itertools.permutations([3, 30, 34, 5, 9]))"
      ],
      "metadata": {
        "id": "zcmgLsR3Hhm9"
      },
      "execution_count": null,
      "outputs": []
    },
    {
      "cell_type": "code",
      "source": [
        "data = [(3, 30, 34, 5, 9),\n",
        " (3, 30, 34, 9, 5),\n",
        " (3, 30, 5, 34, 9)]\n",
        "\n",
        "# list(map(str, data))\n",
        "list(map(lambda x: ''.join(map(str, x)), data))\n",
        "list(map(lambda x: ''.join([str(i) for i in x]), data))"
      ],
      "metadata": {
        "id": "1O0_9kzAHs6Z"
      },
      "execution_count": null,
      "outputs": []
    },
    {
      "cell_type": "code",
      "source": [
        "순열 = itertools.permutations([3, 30, 34, 5, 9])\n",
        "# list(map(lambda x: ''.join([str(i) for i in x]), 순열))\n",
        "max(list(map(lambda x: ''.join([str(i) for i in x]), 순열)))"
      ],
      "metadata": {
        "colab": {
          "base_uri": "https://localhost:8080/",
          "height": 35
        },
        "id": "f1IYBVq6IUPO",
        "outputId": "8f6e04f8-004f-48a9-ac16-5c881169320c"
      },
      "execution_count": null,
      "outputs": [
        {
          "output_type": "execute_result",
          "data": {
            "text/plain": [
              "'9534330'"
            ],
            "application/vnd.google.colaboratory.intrinsic+json": {
              "type": "string"
            }
          },
          "metadata": {},
          "execution_count": 31
        }
      ]
    },
    {
      "cell_type": "code",
      "source": [
        "arr = [3, 30, 34, 5, 9]\n",
        "조합 = itertools.combinations(arr, 5)\n",
        "list(조합) # 순서를 신경쓰지 않기 때문에 1개!"
      ],
      "metadata": {
        "colab": {
          "base_uri": "https://localhost:8080/"
        },
        "id": "AppUrbjcIuGW",
        "outputId": "403a37a8-964a-46fa-8eca-88b1f9e5b24e"
      },
      "execution_count": null,
      "outputs": [
        {
          "output_type": "execute_result",
          "data": {
            "text/plain": [
              "[(3, 30, 34, 5, 9)]"
            ]
          },
          "metadata": {},
          "execution_count": 28
        }
      ]
    },
    {
      "cell_type": "code",
      "source": [
        "import random\n",
        "\n",
        "random.randint(1, 10)"
      ],
      "metadata": {
        "colab": {
          "base_uri": "https://localhost:8080/"
        },
        "id": "l331xl13JUKE",
        "outputId": "9542fe5b-94dd-4c02-8e1a-15aae45165c9"
      },
      "execution_count": null,
      "outputs": [
        {
          "output_type": "execute_result",
          "data": {
            "text/plain": [
              "3"
            ]
          },
          "metadata": {},
          "execution_count": 27
        }
      ]
    },
    {
      "cell_type": "code",
      "source": [
        "# 개인노트\n",
        "print(sorted(str([3, 30, 34, 5, 9]), reverse = True))\n",
        "\n",
        "print(sorted(map(str, [3, 30, 34, 5, 9]), reverse = True))\n",
        "print(sorted(list(map(str, [3, 30, 34, 5, 9])), reverse = True))\n",
        "\n",
        "print(map(str, [3, 30, 34, 5, 9]))\n",
        "print(list(map(str, [3, 30, 34, 5, 9])))\n",
        "\n",
        "# [']', '[', '9', '5', '4', '3', '3', '3', '0', ',', ',', ',', ',', ' ', ' ', ' ', ' ']\n",
        "\n",
        "# ['9', '5', '34', '30', '3']\n",
        "# ['9', '5', '34', '30', '3']\n",
        "\n",
        "# <map object at 0x7fcfa6d14430>\n",
        "# ['3', '30', '34', '5', '9']\n"
      ],
      "metadata": {
        "colab": {
          "base_uri": "https://localhost:8080/"
        },
        "id": "AQ-TDeE9Gv5s",
        "outputId": "1ebfb5ec-4967-48f0-ba0e-8f6163974934"
      },
      "execution_count": null,
      "outputs": [
        {
          "output_type": "stream",
          "name": "stdout",
          "text": [
            "[']', '[', '9', '5', '4', '3', '3', '3', '0', ',', ',', ',', ',', ' ', ' ', ' ', ' ']\n",
            "['9', '5', '34', '30', '3']\n",
            "['9', '5', '34', '30', '3']\n",
            "<map object at 0x7fcfa6d14430>\n",
            "['3', '30', '34', '5', '9']\n"
          ]
        }
      ]
    },
    {
      "cell_type": "markdown",
      "source": [
        "코테 준비시 gpt 활용해보는 것도 좋다.\n",
        "\n",
        "실제 활용 가능한 회사도 존재.\n",
        "\n",
        "다만 그에따라 화이트보드 테스트를 보는 곳도 존재"
      ],
      "metadata": {
        "id": "Hdp8oOajB3D1"
      }
    },
    {
      "cell_type": "markdown",
      "source": [
        "# 3일차 과제"
      ],
      "metadata": {
        "id": "bc5nvgMl-YRn"
      }
    },
    {
      "cell_type": "markdown",
      "source": [
        "1. User 클래스 생성:\n",
        "User 클래스를 생성하세요. username, email, is_active(활성 상태, 기본값은 True), password\n",
        "요구사항: change_password, update_email, display_profile 메서드를 가지고 있어야 합니다.\n",
        "\n",
        "2. Post 클래스 생성:\n",
        "Post 클래스를 생성하세요. 이 클래스는 author (작성자, User 객체), content (게시글 내용), likes (좋아요 수, 기본값은 0)라는 속성을 가집니다.\n",
        "요구사항: like_count, display_post_info, change_content 메서드를 가지고 있어야 합니다."
      ],
      "metadata": {
        "id": "wle30xiF-bIe"
      }
    },
    {
      "cell_type": "code",
      "source": [
        "# 1. User 클래스 생성:\n",
        "# User 클래스를 생성하세요. username, email, is_active(활성 상태, 기본값은 True), password\n",
        "# 요구사항: change_password, update_email, display_profile 메서드를 가지고 있어야 합니다.\n",
        "class User:\n",
        "    def __init__(self, username, email, password, is_active = True):\n",
        "        self.이름 = username\n",
        "        self.이메일 = email\n",
        "        self.비밀번호 = password\n",
        "        self.활성상태 = is_active\n",
        "\n",
        "    def change_password(self, new_password):\n",
        "        self.비밀번호 = new_password\n",
        "\n",
        "    def update_email(self, new_email):\n",
        "        self.이메일 = new_email\n",
        "\n",
        "    def display_profile(self):\n",
        "        print(f'이름 : {self.이름}, 이메일 : {self.이메일}, 비밀번호 : {self.비밀번호}, 활성상태 : {self.활성상태}')\n",
        "\n",
        "son = User('SSG', 'abc@naver.com', 1234)\n",
        "son.display_profile()\n",
        "\n",
        "son.change_password(9876)\n",
        "son.update_email('qwer@naver.com')\n",
        "\n",
        "son.display_profile()\n",
        "\n"
      ],
      "metadata": {
        "colab": {
          "base_uri": "https://localhost:8080/"
        },
        "id": "ria0DPK9-beD",
        "outputId": "089597ae-0990-4318-ba51-21d08582a808"
      },
      "execution_count": null,
      "outputs": [
        {
          "output_type": "stream",
          "name": "stdout",
          "text": [
            "이름 : SSG, 이메일 : abc@naver.com, 비밀번호 : 1234, 활성상태 : True\n",
            "이름 : SSG, 이메일 : qwer@naver.com, 비밀번호 : 9876, 활성상태 : True\n"
          ]
        }
      ]
    },
    {
      "cell_type": "code",
      "source": [
        "# 풀이\n",
        "# 1. User 클래스 생성:\n",
        "# User 클래스를 생성하세요. username, email, is_active(활성 상태, 기본값은 True), password\n",
        "# 요구사항: change_password, update_email, display_profile 메서드를 가지고 있어야 합니다.\n",
        "class User:\n",
        "    def __init__(self, username, email, password):\n",
        "        self.username = username # 보통 self.username = username 통일하는 편입니다.\n",
        "        self.email = email\n",
        "        self.password = password\n",
        "        self.is_active = True\n",
        "\n",
        "    def change_password(self, new_password):\n",
        "        self.password = new_password # 비밀번호 저장은 평문 X, ex) sha 256 등..\n",
        "\n",
        "    def update_email(self, new_email):\n",
        "        self.email = new_email # 제대로된 이메일이 들어왔는지\n",
        "\n",
        "    def display_profile(self):\n",
        "        print(f'이름 : {self.username}, 이메일 : {self.email}, 비밀번호 : {self.password}, 활성상태 : {self.is_active}')\n",
        "\n",
        "son = User('SSG', 'abc@naver.com', 1234)\n",
        "son.display_profile()\n",
        "\n",
        "son.change_password(9876)\n",
        "son.update_email('qwer@naver.com')\n",
        "\n",
        "son.display_profile()"
      ],
      "metadata": {
        "id": "4FqpKZ7eJM7_"
      },
      "execution_count": null,
      "outputs": []
    },
    {
      "cell_type": "code",
      "source": [
        "# 2. Post 클래스 생성:\n",
        "# Post 클래스를 생성하세요. 이 클래스는 author (작성자, User 객체), content (게시글 내용),\n",
        "# likes (좋아요 수, 기본값은 0)라는 속성을 가집니다.\n",
        "# 요구사항: like_count, display_post_info, change_content 메서드를 가지고 있어야 합니다.\n",
        "class Post:\n",
        "    def __init__(self, author, content, likes = 0):\n",
        "        self.작성자 = author\n",
        "        self.게시글 = content\n",
        "        self.좋아요 = likes\n",
        "\n",
        "    def like_count(self, plus_likes):\n",
        "        self.좋아요 = self.좋아요 + plus_likes\n",
        "\n",
        "    def display_post_info(self):\n",
        "        print(f'작성자 : {self.작성자}, 게시글 : {self.게시글}, 좋아요 : {self.좋아요}')\n",
        "\n",
        "    def change_content(self, update_content):\n",
        "        self.게시글 = update_content\n",
        "\n",
        "\n",
        "my_post = Post('SSG', 'good python')\n",
        "my_post.display_post_info()\n",
        "\n",
        "my_post.like_count(3)\n",
        "my_post.change_content('very good python')\n",
        "\n",
        "my_post.display_post_info()\n"
      ],
      "metadata": {
        "colab": {
          "base_uri": "https://localhost:8080/"
        },
        "id": "h-Fe4_YyjZkO",
        "outputId": "7f2e6656-6da1-4ec2-fb42-41d92ca6e2a0"
      },
      "execution_count": null,
      "outputs": [
        {
          "output_type": "stream",
          "name": "stdout",
          "text": [
            "작성자 : SSG, 게시글 : good python, 좋아요 : 0\n",
            "작성자 : SSG, 게시글 : very good python, 좋아요 : 3\n"
          ]
        }
      ]
    },
    {
      "cell_type": "code",
      "source": [
        "# 풀이\n",
        "# 2. Post 클래스 생성:\n",
        "# Post 클래스를 생성하세요. 이 클래스는 author (작성자, User 객체), content (게시글 내용),\n",
        "# likes (좋아요 수, 기본값은 0)라는 속성을 가집니다.\n",
        "# 요구사항: like_count, display_post_info, change_content 메서드를 가지고 있어야 합니다.\n",
        "class Post:\n",
        "    def __init__(self, author, content):\n",
        "        self.author = author\n",
        "        self.content = content\n",
        "        self.likes = 0\n",
        "\n",
        "    def like_count(self, plus_likes):\n",
        "        self.likes = self.likes + plus_likes\n",
        "\n",
        "    def display_post_info(self):\n",
        "        print(f'작성자 : {self.author}, 게시글 : {self.content}, 좋아요 : {self.likes}')\n",
        "\n",
        "    def change_content(self, update_content):\n",
        "        self.content = update_content\n",
        "\n",
        "\n",
        "my_post = Post('SSG', 'good python')\n",
        "my_post.display_post_info()\n",
        "\n",
        "my_post.like_count(3)\n",
        "my_post.change_content('very good python')\n",
        "\n",
        "my_post.display_post_info()"
      ],
      "metadata": {
        "colab": {
          "base_uri": "https://localhost:8080/"
        },
        "id": "yAbKPdmmJMTA",
        "outputId": "1d6057c7-b621-4e1b-f96e-e395eff7d1ec"
      },
      "execution_count": null,
      "outputs": [
        {
          "output_type": "stream",
          "name": "stdout",
          "text": [
            "작성자 : SSG, 게시글 : good python, 좋아요 : 0\n",
            "작성자 : SSG, 게시글 : very good python, 좋아요 : 3\n"
          ]
        }
      ]
    },
    {
      "cell_type": "markdown",
      "source": [
        "# 정규표현식"
      ],
      "metadata": {
        "id": "ZfBEm_vdLZgk"
      }
    },
    {
      "cell_type": "markdown",
      "source": [
        "## 정규표현식\n",
        "* https://paullabworkspace.notion.site/1c57fc683c33468d95e7a490b6f66c95?pvs=4 (https://regexr.com/5nvc2)\n",
        "* Anchors (처음과 끝)\n",
        "    ```\n",
        "    /^hello/gm : 처음에 hello\n",
        "    /hello$/gm : 끝에 hello\n",
        "    ```\n",
        "\n",
        "* dot (모든 문자)\n",
        "    ```\n",
        "    /.ello/gm : hello, Hello, vello\n",
        "    /./gm : 모든 문자열(*과 같은 역할)\n",
        "    /....../gm : 모든 6개의 문자열\n",
        "    ```\n",
        "\n",
        "* 대괄호 (택1)\n",
        "    ```\n",
        "    /h[eay]llo/gm : 대괄호 안에 문자는 문자 1개에 해당!\n",
        "    /h[ea]l../gm : 총 5개의 문자\n",
        "    ```\n",
        "\n",
        "* 대쉬 (범위)\n",
        "    ```\n",
        "    /h[a-f]llo/gm\n",
        "    /[a-zA-Z0-9]/gm : 모든 알파뱃과 숫자를 찾음\n",
        "    /[^a-zA-Z0-9]/gm : 나머지 문자열을 찾음\n",
        "    ```\n",
        "\n",
        "* 캐럿(caret) (대괄호 안에 들어가면 부정)\n",
        "    * 아래 경우 a와 e가 모두 부정\n",
        "        ```\n",
        "        /h[^ae]llo/gm : 대괄호 안에 있다면 not에 의미\n",
        "        ```\n",
        "\n",
        "* 소괄호 (서브패턴, 그룹)\n",
        "    * 패턴으로 외우시는 것보다 다양한 예제로 습득하시기를 권해드립니다.\n",
        "    ```\n",
        "    /(on|ues|rida)/gm : 그룹 1로 3개 중 매칭되는 패턴 찾음\n",
        "    ```\n",
        "\n",
        "* 수량자\n",
        "    ```\n",
        "    _* : 앞에 있는 문자가 0개 ~ N개\n",
        "    _+ : 앞에 있는 문자가 1개 ~ N개\n",
        "    _? : 앞에 있는 문자가 0개 ~ 1개\n",
        "\n",
        "    {3} : 3개\n",
        "    {3,} : 3개 이상\n",
        "    {1,3} : 1개 ~ 3개\n",
        "\n",
        "    _* : 앞에 있는 문자가 0개 ~ N개 ({0,})\n",
        "    _+ : 앞에 있는 문자가 1개 ~ N개({1,})\n",
        "    _? : 앞에 있는 문자가 0개 ~ 1개 ({0,1})\n",
        "\n",
        "    /[0-9]{3}[-.* ][0-9]{4}[-.* ][0-9]{4}/gm\n",
        "    /[0-9a-zA-Z]{2,3}[-.* ][0-9]{3,4}[-.* ][0-9]{4}/gm\n",
        "    /[0-9a-zA-Z]+@[0-9a-zA-Z]+.[a-zA-Z]+/gm\n",
        "    ```\n",
        "\n",
        "* 캐릭터 클래스\n",
        "    ```\n",
        "    /\\w/gm : 워드\n",
        "    /\\w{5} /gm : 5개의 글자와 스페이스 하나\n",
        "    /\\W/gm : not 워드\n",
        "    /\\d/gm : 숫자\n",
        "    /\\D/gm : not 숫자\n",
        "    /\\s/gm : 스페이스\n",
        "    /\\S/gm : not 스페이스\n",
        "    ```\n",
        "\n",
        "* 이스케이프문자\n",
        "    ```\n",
        "    /\\[.*]/gm : 대괄호([]) 안에 감싸여진 문자열\n",
        "    /\\(.*\\)/gm : 소괄호 안에 감싸여진 문자열\n",
        "    /\\\\.*\\//gm : 이미 사용되고 있는 특수문자로 감싸여진 문자열\n",
        "    /-.*-/gm : 이스케이프 문자를 사용할 필요가 없는 경우\n",
        "    /\\^\\^/gm : 이스케이프 문자가 필요한 경우\n",
        "    /:\\)/gm : 이스케이프 문자가 필요한 경우\n",
        "    ```\n",
        "\n",
        "\n",
        "* (연습) 전화번호\n",
        "    ```\n",
        "    010[-,. ]?[0-9]{4}[-,. ]?[0-9]{4}\n",
        "    010([-,. ]?[0-9]{4}){2}\n",
        "    ```\n"
      ],
      "metadata": {
        "id": "e6VOrMgQQvmH"
      }
    },
    {
      "cell_type": "markdown",
      "source": [
        "* 정규표현식에서 자주 사용되는 패턴\n",
        "    * 아래와 같이 2가지 방법으로 사용할 수 있습니다.\n",
        "    ```\n",
        "    # 1\n",
        "    p = re.compile(r'([0-9]|10)([SDT])([\\*\\#]?)')\n",
        "    p.findall('1S2D*3T')\n",
        "\n",
        "    # 2\n",
        "    re.findall(r'([0-9]|10)([SDT])([\\*\\#]?)', '1S2D*3T')\n",
        "    ```\n",
        "    * compile() : 패턴 컴파일\n",
        "    * match() : 문자열의 앞 부분이 매치되는가를 체크, 추출\n",
        "    * sub() : 매치된 부분을 치환 (str에 replace와 같은 역활)\n",
        "    * search() : 선두에 한해서 매치하는지를 체크, 추출\n",
        "    * findall() : 매치된 부분 모두 리스트 반환\n",
        "    * finditer() : 정규식과 매치되는 모든 문자열(substring)을 반복 가능한 객체로 리턴한다.\n",
        "    * spilt() : 정규표현 패턴으로 문자열을 분할 (str에 split과 같은 역활)\n",
        "\n",
        "* 반환 객체의 값\n",
        "    * group() : 매치된 문자열\n",
        "    * groups() : 매치된 문자열 전체\n",
        "    * start() : 매치된 문자열의 시작 위치\n",
        "    * end() : 매치된 문자열의 끝 위치\n",
        "    * span() : 매치된 문자열의 시작과 끝\n",
        "\n",
        "* 컴파일 옵션(플래그)\n",
        "    * 사용 예\n",
        "    ```\n",
        "    re.compile('[a-z]+', re.I)\n",
        "    ```\n",
        "    * re.DOTALL, re.S : 줄바꿈 문자까지 모두 매칭\n",
        "    * re.IGNORECASE, re.I : 대소문자 구분하지 않음\n",
        "    * re.MULTILINE, re.M : ^, & 등의 매칭 패턴을 라인마다 적용\n",
        "    * re.VERBOSE, re.X : 아래와 같이 #으로 주석문을 사용할 수 있음\n",
        "    ```\n",
        "    a = re.compile(r\"\"\"\\d +  # the integral part\n",
        "                   \\.    # the decimal point\n",
        "                   \\d *  # some fractional digits\"\"\", re.X)\n",
        "    b = re.compile(r\"\\d+\\.\\d*\")\n",
        "    ```\n",
        "\n",
        "* tip\n",
        "    * 같은 패턴입니다.\n",
        "    ```\n",
        "    re.compile('\\\\\\\\section')\n",
        "    re.compile(r'\\\\section')\n",
        "    ```\n",
        "    * {}를 표현하고 싶을 때에는 중괄호 2개, 또는 때에 따라 3개가 필요합니다.\n",
        "    ```\n",
        "    re.compile(f'{{section}}')\n",
        "    ```\n"
      ],
      "metadata": {
        "id": "Abm_-bc-TMag"
      }
    },
    {
      "cell_type": "code",
      "source": [
        "import re\n",
        "\n",
        "p = re.compile(r'([0-9]|10)([SDT])([\\*\\#]?)')\n",
        "p.findall('1S2D*3T')"
      ],
      "metadata": {
        "colab": {
          "base_uri": "https://localhost:8080/"
        },
        "id": "CdD8MCJaUmQK",
        "outputId": "a168aaf9-0b96-4064-ee87-a5a50fa48e97"
      },
      "execution_count": null,
      "outputs": [
        {
          "output_type": "execute_result",
          "data": {
            "text/plain": [
              "[('1', 'S', ''), ('2', 'D', '*'), ('3', 'T', '')]"
            ]
          },
          "metadata": {},
          "execution_count": 8
        }
      ]
    },
    {
      "cell_type": "markdown",
      "source": [
        "# 알고리즘 풀이\n"
      ],
      "metadata": {
        "id": "JKoVKC4LSZU7"
      }
    },
    {
      "cell_type": "markdown",
      "source": [
        "1. 문장은 어려우니, 입출력 예제를 먼저 보러간다\n",
        "\n",
        "다트게임\n",
        "예제 2번 10은 함정이다\n",
        "실제로 함정으로 10을 많이 사용\n",
        "=> 한자리씩 판단하면 오류?? 두자리씩 판단해야함\n",
        "\n",
        "2. 문제를 읽는다 (독해)"
      ],
      "metadata": {
        "id": "s2WAWTPEUWK-"
      }
    },
    {
      "cell_type": "code",
      "source": [
        "# https://school.programmers.co.kr/learn/courses/30/lessons/17682\n",
        "\n",
        "# 문제풀이 숙달해서 아래 틀은 10분 이내로 만들어낼 수 있어야\n",
        "def solution(dartResult):\n",
        "\n",
        "    result = []\n",
        "    for i in dartResult:\n",
        "        if i == i.isdigit():\n",
        "            pass\n",
        "        elif i == 'S':\n",
        "            pass\n",
        "        elif i == 'D':\n",
        "            pass\n",
        "        elif i == 'T':\n",
        "            pass\n",
        "\n",
        "    return sum(result)"
      ],
      "metadata": {
        "id": "OvVKjQgxSb5g"
      },
      "execution_count": null,
      "outputs": []
    },
    {
      "cell_type": "code",
      "source": [
        "# 여기까지 15분~20분 / 15분 : 안정권, 20분 아슬아슬\n",
        "def solution(dartResult):\n",
        "\n",
        "    result = []\n",
        "    for i in dartResult:\n",
        "        if i.isdigit():\n",
        "            result.append(int(i))\n",
        "        elif i == 'S':\n",
        "            result[-1] = result[-1] ** 1\n",
        "        elif i == 'D':\n",
        "            result[-1] = result[-1] ** 2\n",
        "        elif i == 'T':\n",
        "            result[-1] = result[-1] ** 3\n",
        "\n",
        "    print(result)\n",
        "    return sum(result)\n",
        "\n",
        "solution('1S2D*3T')\n",
        "# solution('102D*3T') 10을 활용한 함정"
      ],
      "metadata": {
        "colab": {
          "base_uri": "https://localhost:8080/"
        },
        "id": "GNJ9HmYES50y",
        "outputId": "c1c2c211-b51e-41e5-fbb1-f92d90d791d9"
      },
      "execution_count": null,
      "outputs": [
        {
          "output_type": "stream",
          "name": "stdout",
          "text": [
            "[1, 4, 27]\n"
          ]
        },
        {
          "output_type": "execute_result",
          "data": {
            "text/plain": [
              "32"
            ]
          },
          "metadata": {},
          "execution_count": 6
        }
      ]
    },
    {
      "cell_type": "code",
      "source": [
        "def solution(dartResult):\n",
        "\n",
        "    result = []\n",
        "    for i in dartResult:\n",
        "        if i.isdigit():\n",
        "            result.append(int(i))\n",
        "        elif i == 'S':\n",
        "            result[-1] = result[-1] ** 1\n",
        "        elif i == 'D':\n",
        "            result[-1] = result[-1] ** 2\n",
        "        elif i == 'T':\n",
        "            result[-1] = result[-1] ** 3\n",
        "        elif i == '*':\n",
        "            pass\n",
        "        elif i == '#':\n",
        "            pass\n",
        "\n",
        "    print(result)\n",
        "    return sum(result)\n",
        "\n",
        "solution('102D*3T')\n",
        "# if문 : 앞의 1이고 뒤에 0인거 찾아야함\n",
        "# => 즉, 이 문제는 처음부터 정규표현식 문제였다.!!!!!!!!!!!!!!!!!!!!!!!!!!!!!!!"
      ],
      "metadata": {
        "colab": {
          "base_uri": "https://localhost:8080/"
        },
        "id": "nWRXMXnkT-LP",
        "outputId": "06d5c7f3-249d-4c86-a271-99ee25dfc6fc"
      },
      "execution_count": null,
      "outputs": [
        {
          "output_type": "stream",
          "name": "stdout",
          "text": [
            "[1, 0, 4, 27]\n"
          ]
        },
        {
          "output_type": "execute_result",
          "data": {
            "text/plain": [
              "32"
            ]
          },
          "metadata": {},
          "execution_count": 7
        }
      ]
    },
    {
      "cell_type": "code",
      "source": [
        "import re\n",
        "\n",
        "p = re.compile(r'([0-9]|10)([SDT])([\\*\\#]?)')\n",
        "p.findall('1S2D*3T')"
      ],
      "metadata": {
        "id": "k6DacUR_UpOH"
      },
      "execution_count": null,
      "outputs": []
    },
    {
      "cell_type": "code",
      "source": [
        "import re\n",
        "\n",
        "result = []\n",
        "p = re.compile(r'([0-9]|10)([SDT])([\\*\\#]?)')\n",
        "\n",
        "d = {'S': lambda x: x ** 1, 'D': lambda x: x ** 2, 'T': lambda x: x ** 3}\n",
        "\n",
        "for 점수, 승수, 상 in p.findall('1S2D*3T'):\n",
        "    result.append(d[승수](int(점수)))\n",
        "\n",
        "result\n"
      ],
      "metadata": {
        "colab": {
          "base_uri": "https://localhost:8080/"
        },
        "id": "arDQj3WhYN3Y",
        "outputId": "26704910-da1b-4938-d904-11ef8dac835b"
      },
      "execution_count": null,
      "outputs": [
        {
          "output_type": "execute_result",
          "data": {
            "text/plain": [
              "[1, 4, 27]"
            ]
          },
          "metadata": {},
          "execution_count": 11
        }
      ]
    },
    {
      "cell_type": "code",
      "source": [
        "# sub\n",
        "# findall\n",
        "\n",
        "# 문제 링크 : https://school.programmers.co.kr/learn/courses/30/lessons/120849\n",
        "def solution(my_string):\n",
        "    return my_string.replace('a', '').replace('e', '').replace('i', '').replace('o', '').replace('u', '')\n",
        "\n",
        "import re\n",
        "\n",
        "def solution(my_string):\n",
        "    return re.sub(r\"[aeiou]\", \"\", my_string)\n",
        "\n",
        "print(r'hello world')\n",
        "print(r'hello\\nworld') # r은 raw값을 그대로 출력해라! 특히 이스케이프 문자. \\n: 엔터, \\t: 탭\n",
        "print('hello\\nworld')"
      ],
      "metadata": {
        "id": "XtUUSxHWZT3N"
      },
      "execution_count": null,
      "outputs": []
    },
    {
      "cell_type": "code",
      "source": [
        "import re\n",
        "\n",
        "# 숫자를 모두 찾아라!\n",
        "s = '123lsef21309wldkfj29r3k23j2394'\n",
        "\n",
        "# 문자를 모두 제거 => replace => re.sub\n",
        "re.sub(r'[a-zA-Z]', '', s)\n",
        "\n",
        "\n",
        "# 숫자만 찾기 => re.findall\n",
        "re.findall(r'[0-9]', s)\n",
        "re.findall(r'[0-9]+', s)\n"
      ],
      "metadata": {
        "colab": {
          "base_uri": "https://localhost:8080/"
        },
        "id": "8Ba-Ug8RZTw4",
        "outputId": "c7afe9e4-3ed9-4407-8fb7-6edabad2a1a5"
      },
      "execution_count": null,
      "outputs": [
        {
          "output_type": "execute_result",
          "data": {
            "text/plain": [
              "['123', '21309', '29', '3', '23', '2394']"
            ]
          },
          "metadata": {},
          "execution_count": 16
        }
      ]
    },
    {
      "cell_type": "code",
      "source": [],
      "metadata": {
        "id": "DpyVUltgZRil"
      },
      "execution_count": null,
      "outputs": []
    },
    {
      "cell_type": "code",
      "source": [],
      "metadata": {
        "id": "O99qvpB-bCY1"
      },
      "execution_count": null,
      "outputs": []
    }
  ]
}